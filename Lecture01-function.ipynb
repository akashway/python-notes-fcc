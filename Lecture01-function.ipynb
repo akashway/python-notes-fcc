{
 "cells": [
  {
   "cell_type": "code",
   "execution_count": 2,
   "id": "0b2af746",
   "metadata": {},
   "outputs": [
    {
     "name": "stdout",
     "output_type": "stream",
     "text": [
      "hello, Akash\n"
     ]
    }
   ],
   "source": [
    "name = input(\"What's your name? \")\n",
    "print(f\"hello, {name}\")"
   ]
  },
  {
   "cell_type": "code",
   "execution_count": null,
   "id": "c0e2c6b1",
   "metadata": {},
   "outputs": [
    {
     "data": {
      "text/plain": [
       "'Akash Mishra'"
      ]
     },
     "execution_count": 3,
     "metadata": {},
     "output_type": "execute_result"
    }
   ],
   "source": [
    "#strip\n",
    "name=\"    Akash Mishra    \"\n",
    "name.strip()"
   ]
  },
  {
   "cell_type": "code",
   "execution_count": null,
   "id": "ec0bcf4b",
   "metadata": {},
   "outputs": [
    {
     "data": {
      "text/plain": [
       "'Akash mishra'"
      ]
     },
     "execution_count": 4,
     "metadata": {},
     "output_type": "execute_result"
    }
   ],
   "source": [
    "#capitalize\n",
    "name=\"akash mishra\"\n",
    "name.capitalize()"
   ]
  },
  {
   "cell_type": "code",
   "execution_count": null,
   "id": "6f15bbbd",
   "metadata": {},
   "outputs": [
    {
     "data": {
      "text/plain": [
       "'Akash Mishra'"
      ]
     },
     "execution_count": 5,
     "metadata": {},
     "output_type": "execute_result"
    }
   ],
   "source": [
    "# title\n",
    "name=\"akash mishra\"\n",
    "name.title()"
   ]
  },
  {
   "cell_type": "code",
   "execution_count": 7,
   "id": "ab2e1b98",
   "metadata": {},
   "outputs": [
    {
     "data": {
      "text/plain": [
       "['welcome', 'to', 'my', 'python', 'notes']"
      ]
     },
     "execution_count": 7,
     "metadata": {},
     "output_type": "execute_result"
    }
   ],
   "source": [
    "name=\"welcome to my python notes\"\n",
    "list_of_words=name.split(\" \")\n",
    "list_of_words"
   ]
  },
  {
   "cell_type": "code",
   "execution_count": 8,
   "id": "dc6e2057",
   "metadata": {},
   "outputs": [
    {
     "data": {
      "text/plain": [
       "'welcome'"
      ]
     },
     "execution_count": 8,
     "metadata": {},
     "output_type": "execute_result"
    }
   ],
   "source": [
    "a,b,c,d,e=list_of_words\n",
    "a"
   ]
  },
  {
   "cell_type": "code",
   "execution_count": 9,
   "id": "258fce4e",
   "metadata": {},
   "outputs": [
    {
     "data": {
      "text/plain": [
       "6"
      ]
     },
     "execution_count": 9,
     "metadata": {},
     "output_type": "execute_result"
    }
   ],
   "source": [
    "z=5.6\n",
    "round(z)"
   ]
  },
  {
   "cell_type": "code",
   "execution_count": 10,
   "id": "e83c7c2d",
   "metadata": {},
   "outputs": [
    {
     "data": {
      "text/plain": [
       "5"
      ]
     },
     "execution_count": 10,
     "metadata": {},
     "output_type": "execute_result"
    }
   ],
   "source": [
    "z=5.4\n",
    "round(z)"
   ]
  },
  {
   "cell_type": "code",
   "execution_count": 14,
   "id": "8b8b5d60",
   "metadata": {},
   "outputs": [
    {
     "data": {
      "text/plain": [
       "8.666666666666666"
      ]
     },
     "execution_count": 14,
     "metadata": {},
     "output_type": "execute_result"
    }
   ],
   "source": [
    "z=26/3\n",
    "z"
   ]
  },
  {
   "cell_type": "code",
   "execution_count": 15,
   "id": "b720c027",
   "metadata": {},
   "outputs": [
    {
     "data": {
      "text/plain": [
       "9"
      ]
     },
     "execution_count": 15,
     "metadata": {},
     "output_type": "execute_result"
    }
   ],
   "source": [
    "z=26/3\n",
    "round(z)"
   ]
  },
  {
   "cell_type": "code",
   "execution_count": 16,
   "id": "13267fb2",
   "metadata": {},
   "outputs": [
    {
     "data": {
      "text/plain": [
       "8.67"
      ]
     },
     "execution_count": 16,
     "metadata": {},
     "output_type": "execute_result"
    }
   ],
   "source": [
    "z=26/3\n",
    "round(z,2)"
   ]
  },
  {
   "cell_type": "code",
   "execution_count": 18,
   "id": "3f5ebbe7",
   "metadata": {},
   "outputs": [
    {
     "name": "stdout",
     "output_type": "stream",
     "text": [
      "z=8.67\n"
     ]
    }
   ],
   "source": [
    "z=26/3\n",
    "print(f\"z={z:.2f}\")"
   ]
  },
  {
   "cell_type": "code",
   "execution_count": 19,
   "id": "dc3c6fb2",
   "metadata": {},
   "outputs": [
    {
     "name": "stdout",
     "output_type": "stream",
     "text": [
      "z=9\n"
     ]
    }
   ],
   "source": [
    "z=26/3\n",
    "print(f\"z={z:.0f}\")"
   ]
  },
  {
   "cell_type": "code",
   "execution_count": 20,
   "id": "df475c95",
   "metadata": {},
   "outputs": [
    {
     "name": "stdout",
     "output_type": "stream",
     "text": [
      "z:1,000\n"
     ]
    }
   ],
   "source": [
    "z=1000\n",
    "print(f\"z:{z:,}\")"
   ]
  },
  {
   "cell_type": "code",
   "execution_count": 21,
   "id": "fae20bd8",
   "metadata": {},
   "outputs": [
    {
     "name": "stdout",
     "output_type": "stream",
     "text": [
      "Hello,  Akash\n"
     ]
    }
   ],
   "source": [
    "def main():\n",
    "    name=input(\"What is your name? \")\n",
    "    hello(name)\n",
    "\n",
    "def hello(to):\n",
    "    print(\"Hello, \",to)\n",
    "\n",
    "main()"
   ]
  },
  {
   "cell_type": "code",
   "execution_count": null,
   "id": "1fa95d0a",
   "metadata": {},
   "outputs": [],
   "source": []
  }
 ],
 "metadata": {
  "kernelspec": {
   "display_name": "Python 3",
   "language": "python",
   "name": "python3"
  },
  "language_info": {
   "codemirror_mode": {
    "name": "ipython",
    "version": 3
   },
   "file_extension": ".py",
   "mimetype": "text/x-python",
   "name": "python",
   "nbconvert_exporter": "python",
   "pygments_lexer": "ipython3",
   "version": "3.13.3"
  }
 },
 "nbformat": 4,
 "nbformat_minor": 5
}
