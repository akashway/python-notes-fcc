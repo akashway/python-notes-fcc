{
 "cells": [
  {
   "cell_type": "code",
   "execution_count": 1,
   "id": "43352f06",
   "metadata": {},
   "outputs": [
    {
     "name": "stdout",
     "output_type": "stream",
     "text": [
      "Grade: F\n"
     ]
    }
   ],
   "source": [
    "score = int(input(\"Score: \"))\n",
    "  \n",
    "if score >= 90 and score <= 100:\n",
    "    print(\"Grade: A\")\n",
    "elif score >= 80 and score < 90:\n",
    "    print(\"Grade: B\")\n",
    "elif score >= 70 and score < 80:\n",
    "    print(\"Grade: C\")\n",
    "elif score >= 60 and score < 70:\n",
    "    print(\"Grade: D\")\n",
    "else:\n",
    "    print(\"Grade: F\")"
   ]
  },
  {
   "cell_type": "code",
   "execution_count": 2,
   "id": "043a4d08",
   "metadata": {},
   "outputs": [
    {
     "data": {
      "text/plain": [
       "'\\n1  # Demonstrates inequalities and logical operators\\n 2  \\n 3  score = int(input(\"Score: \"))\\n 4  \\n 5  if 90 <= score and score <= 100:\\n 6      print(\"Grade: A\")\\n 7  elif 80 <= score and score < 90:\\n 8      print(\"Grade: B\")\\n 9  elif 70 <= score and score < 80:\\n 10      print(\"Grade: C\")\\n 11  elif 60 <= score and score < 70:\\n 12      print(\"Grade: D\")\\n 13  else:\\n 14      print(\"Grade: F\")\\n\\n\\n # Demonstrates chained comparisons\\n 2  \\n 3  score = int(input(\"Score: \"))\\n 4  \\n 5  if 90 <= score <= 100:\\n 6      print(\"Grade: A\")\\n 7  elif 80 <= score < 90:\\n 8      print(\"Grade: B\")\\n 9  elif 70 <= score < 80:\\n 10      print(\"Grade: C\")\\n 11  elif 60 <= score < 70:\\n 12      print(\"Grade: D\")\\n 13  else:\\n 14      print(\"Grade: F\")\\n\\n  # Demonstrates fewer comparisons\\n 2  \\n 3  score = int(input(\"Score: \"))\\n 4  \\n 5  if score >= 90:\\n 6      print(\"Grade: A\")\\n 7  elif score >= 80:\\n 8      print(\"Grade: B\")\\n 9  elif score >= 70:\\n 10      print(\"Grade: C\")\\n 11  elif score >= 60:\\n 12      print(\"Grade: D\")\\n 13  else:\\n 14      print(\"Grade: F\"\\n'"
      ]
     },
     "execution_count": 2,
     "metadata": {},
     "output_type": "execute_result"
    }
   ],
   "source": [
    "'''\n",
    "1  # Demonstrates inequalities and logical operators\n",
    " 2  \n",
    " 3  score = int(input(\"Score: \"))\n",
    " 4  \n",
    " 5  if 90 <= score and score <= 100:\n",
    " 6      print(\"Grade: A\")\n",
    " 7  elif 80 <= score and score < 90:\n",
    " 8      print(\"Grade: B\")\n",
    " 9  elif 70 <= score and score < 80:\n",
    " 10      print(\"Grade: C\")\n",
    " 11  elif 60 <= score and score < 70:\n",
    " 12      print(\"Grade: D\")\n",
    " 13  else:\n",
    " 14      print(\"Grade: F\")\n",
    "\n",
    "\n",
    " # Demonstrates chained comparisons\n",
    " 2  \n",
    " 3  score = int(input(\"Score: \"))\n",
    " 4  \n",
    " 5  if 90 <= score <= 100:\n",
    " 6      print(\"Grade: A\")\n",
    " 7  elif 80 <= score < 90:\n",
    " 8      print(\"Grade: B\")\n",
    " 9  elif 70 <= score < 80:\n",
    " 10      print(\"Grade: C\")\n",
    " 11  elif 60 <= score < 70:\n",
    " 12      print(\"Grade: D\")\n",
    " 13  else:\n",
    " 14      print(\"Grade: F\")\n",
    "\n",
    "  # Demonstrates fewer comparisons\n",
    " 2  \n",
    " 3  score = int(input(\"Score: \"))\n",
    " 4  \n",
    " 5  if score >= 90:\n",
    " 6      print(\"Grade: A\")\n",
    " 7  elif score >= 80:\n",
    " 8      print(\"Grade: B\")\n",
    " 9  elif score >= 70:\n",
    " 10      print(\"Grade: C\")\n",
    " 11  elif score >= 60:\n",
    " 12      print(\"Grade: D\")\n",
    " 13  else:\n",
    " 14      print(\"Grade: F\"\n",
    "'''"
   ]
  },
  {
   "cell_type": "code",
   "execution_count": 4,
   "id": "bb115130",
   "metadata": {},
   "outputs": [
    {
     "name": "stdout",
     "output_type": "stream",
     "text": [
      "Even\n"
     ]
    }
   ],
   "source": [
    "def main():\n",
    "    x=int(input(\"What's x? \"))\n",
    "    if is_even(x):\n",
    "        print(\"Even\")\n",
    "    else:\n",
    "        print(\"Odd\")\n",
    "\n",
    "def is_even(num):\n",
    "    if num%2==0:\n",
    "        return True\n",
    "    else:\n",
    "        return False\n",
    "    \n",
    "main()"
   ]
  },
  {
   "cell_type": "code",
   "execution_count": 5,
   "id": "7c46164b",
   "metadata": {},
   "outputs": [
    {
     "data": {
      "text/plain": [
       "'\\n\\n 3  \\n 4  def main():\\n 5      x = int(input(\"What\\'s x? \"))\\n 6      if is_even(x):\\n 7          print(\"Even\")\\n 8      else:\\n 9          print(\"Odd\")\\n 10  \\n11  \\n12  def is_even(n):\\n 13      return True if n % 2 == 0 else False\\n 14  \\n15  \\n16  main()\\n\\n # Demonstrates returning the value of a Boolean expression\\n 2  \\n 3  \\n 4  def main():\\n 5      x = int(input(\"What\\'s x? \"))\\n 6      if is_even(x):\\n 7          print(\"Even\")\\n 8      else:\\n 9          print(\"Odd\")\\n 10  \\n11  \\n12  def is_even(n):\\n 13      return n % 2 == 0\\n 14  \\n15  \\n16  main()\\n'"
      ]
     },
     "execution_count": 5,
     "metadata": {},
     "output_type": "execute_result"
    }
   ],
   "source": [
    "'''\n",
    " \n",
    " 3  \n",
    " 4  def main():\n",
    " 5      x = int(input(\"What's x? \"))\n",
    " 6      if is_even(x):\n",
    " 7          print(\"Even\")\n",
    " 8      else:\n",
    " 9          print(\"Odd\")\n",
    " 10  \n",
    "11  \n",
    "12  def is_even(n):\n",
    " 13      return True if n % 2 == 0 else False\n",
    " 14  \n",
    "15  \n",
    "16  main()\n",
    "\n",
    " # Demonstrates returning the value of a Boolean expression\n",
    " 2  \n",
    " 3  \n",
    " 4  def main():\n",
    " 5      x = int(input(\"What's x? \"))\n",
    " 6      if is_even(x):\n",
    " 7          print(\"Even\")\n",
    " 8      else:\n",
    " 9          print(\"Odd\")\n",
    " 10  \n",
    "11  \n",
    "12  def is_even(n):\n",
    " 13      return n % 2 == 0\n",
    " 14  \n",
    "15  \n",
    "16  main()\n",
    "'''"
   ]
  },
  {
   "cell_type": "code",
   "execution_count": 9,
   "id": "b0ef5344",
   "metadata": {},
   "outputs": [
    {
     "name": "stdout",
     "output_type": "stream",
     "text": [
      "Not a vowel\n"
     ]
    }
   ],
   "source": [
    "vowels=input(\"Enter vowels: \")\n",
    "\n",
    "match vowels:\n",
    "    case 'a' | 'A':\n",
    "        print(\"Apple\")\n",
    "    case 'e' | 'E':\n",
    "        print(\"Egg\")\n",
    "    case 'i' | 'I':\n",
    "        print(\"Ice\")\n",
    "    case 'o' | 'O':\n",
    "        print('Orange')\n",
    "    case 'u' | 'U':\n",
    "        print('Umbrella')\n",
    "    case _:\n",
    "        print(\"Not a vowel\")"
   ]
  },
  {
   "cell_type": "code",
   "execution_count": null,
   "id": "3b0c9a8f",
   "metadata": {},
   "outputs": [],
   "source": []
  }
 ],
 "metadata": {
  "kernelspec": {
   "display_name": "Python 3",
   "language": "python",
   "name": "python3"
  },
  "language_info": {
   "codemirror_mode": {
    "name": "ipython",
    "version": 3
   },
   "file_extension": ".py",
   "mimetype": "text/x-python",
   "name": "python",
   "nbconvert_exporter": "python",
   "pygments_lexer": "ipython3",
   "version": "3.13.3"
  }
 },
 "nbformat": 4,
 "nbformat_minor": 5
}
