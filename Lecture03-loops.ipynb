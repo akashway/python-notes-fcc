{
 "cells": [
  {
   "cell_type": "code",
   "execution_count": 1,
   "id": "37d72754",
   "metadata": {},
   "outputs": [
    {
     "name": "stdout",
     "output_type": "stream",
     "text": [
      "meow\n",
      "meow\n",
      "meow\n"
     ]
    }
   ],
   "source": [
    "i=0\n",
    "while i<3:\n",
    "    print(\"meow\")\n",
    "    i+=1"
   ]
  },
  {
   "cell_type": "code",
   "execution_count": 2,
   "id": "c8f3af35",
   "metadata": {},
   "outputs": [
    {
     "name": "stdout",
     "output_type": "stream",
     "text": [
      "meow\n",
      "meow\n",
      "meow\n"
     ]
    }
   ],
   "source": [
    "for i in [0,1,2]:\n",
    "    print(\"meow\")"
   ]
  },
  {
   "cell_type": "code",
   "execution_count": 3,
   "id": "a3a29aed",
   "metadata": {},
   "outputs": [
    {
     "name": "stdout",
     "output_type": "stream",
     "text": [
      "0 meow\n",
      "1 meow\n",
      "2 meow\n"
     ]
    }
   ],
   "source": [
    "for i in range(3):\n",
    "    print(i,\"meow\")"
   ]
  },
  {
   "cell_type": "code",
   "execution_count": 4,
   "id": "15126b8b",
   "metadata": {},
   "outputs": [
    {
     "name": "stdout",
     "output_type": "stream",
     "text": [
      "meow\n",
      "meow\n",
      "meow\n"
     ]
    }
   ],
   "source": [
    "for _ in range(3):\n",
    "    print(\"meow\")"
   ]
  },
  {
   "cell_type": "code",
   "execution_count": 5,
   "id": "c9a793a1",
   "metadata": {},
   "outputs": [
    {
     "name": "stdout",
     "output_type": "stream",
     "text": [
      "meowmeowmeow\n"
     ]
    }
   ],
   "source": [
    "print(\"meow\"*3)"
   ]
  },
  {
   "cell_type": "code",
   "execution_count": 6,
   "id": "5efeb58c",
   "metadata": {},
   "outputs": [
    {
     "name": "stdout",
     "output_type": "stream",
     "text": [
      "meow\n",
      "meow\n",
      "meow\n",
      "\n"
     ]
    }
   ],
   "source": [
    "print(\"meow\\n\"*3)"
   ]
  },
  {
   "cell_type": "code",
   "execution_count": 7,
   "id": "d9dd48b8",
   "metadata": {},
   "outputs": [
    {
     "name": "stdout",
     "output_type": "stream",
     "text": [
      "meow\n",
      "meow\n",
      "meow\n"
     ]
    }
   ],
   "source": [
    "print(\"meow\\n\"*3,end=\"\")"
   ]
  },
  {
   "cell_type": "code",
   "execution_count": 8,
   "id": "357a1e94",
   "metadata": {},
   "outputs": [
    {
     "name": "stdout",
     "output_type": "stream",
     "text": [
      "meow\n",
      "meow\n",
      "meow\n"
     ]
    }
   ],
   "source": [
    "#Introduce continue and break\n",
    "while True:\n",
    "    n=int(input(\"What's n? \"))\n",
    "    if n<0:\n",
    "        continue\n",
    "    else:\n",
    "        break\n",
    "\n",
    "for _ in range(n):\n",
    "    print(\"meow\")"
   ]
  },
  {
   "cell_type": "code",
   "execution_count": 9,
   "id": "5a7c803c",
   "metadata": {},
   "outputs": [
    {
     "data": {
      "text/plain": [
       "' \\n# Removes continue\\n 2  \\n3  while True:\\n 4      n = int(input(\"What\\'s n? \"))\\n 5      if n > 0:\\n 6          break\\n 7  \\n8  for _ in range(n):\\n 9      print(\"meow\")\\n '"
      ]
     },
     "execution_count": 9,
     "metadata": {},
     "output_type": "execute_result"
    }
   ],
   "source": [
    "''' \n",
    "# Removes continue\n",
    " 2  \n",
    "3  while True:\n",
    " 4      n = int(input(\"What's n? \"))\n",
    " 5      if n > 0:\n",
    " 6          break\n",
    " 7  \n",
    "8  for _ in range(n):\n",
    " 9      print(\"meow\")\n",
    " '''"
   ]
  },
  {
   "cell_type": "code",
   "execution_count": 10,
   "id": "460f7fa0",
   "metadata": {},
   "outputs": [
    {
     "name": "stdout",
     "output_type": "stream",
     "text": [
      "meow\n",
      "meow\n",
      "meow\n",
      "meow\n",
      "meow\n"
     ]
    }
   ],
   "source": [
    "def main():\n",
    "    num=get_number()\n",
    "    print_meow(num)\n",
    "\n",
    "def get_number():\n",
    "    while True:\n",
    "        n=int(input(\"What's number? \"))\n",
    "        if n>0:\n",
    "            return n\n",
    "def print_meow(n):\n",
    "    for _ in range(n):\n",
    "        print(\"meow\")\n",
    "\n",
    "main()"
   ]
  },
  {
   "cell_type": "code",
   "execution_count": 11,
   "id": "62a2b329",
   "metadata": {},
   "outputs": [
    {
     "name": "stdout",
     "output_type": "stream",
     "text": [
      "Hermione\n",
      "Harry\n",
      "Ron\n"
     ]
    }
   ],
   "source": [
    "students = [\"Hermione\", \"Harry\", \"Ron\"]\n",
    "\n",
    "print(students[0])\n",
    "print(students[1])\n",
    "print(students[2])"
   ]
  },
  {
   "cell_type": "code",
   "execution_count": 12,
   "id": "9c9f908b",
   "metadata": {},
   "outputs": [
    {
     "name": "stdout",
     "output_type": "stream",
     "text": [
      "Hermione\n",
      "Harry\n",
      "Ron\n"
     ]
    }
   ],
   "source": [
    "students = [\"Hermione\", \"Harry\", \"Ron\"]\n",
    "\n",
    "for student in students:\n",
    "    print(student)"
   ]
  },
  {
   "cell_type": "code",
   "execution_count": 13,
   "id": "2fc5326a",
   "metadata": {},
   "outputs": [
    {
     "name": "stdout",
     "output_type": "stream",
     "text": [
      "1 Hermione\n",
      "2 Harry\n",
      "3 Ron\n"
     ]
    }
   ],
   "source": [
    "students = [\"Hermione\", \"Harry\", \"Ron\"]\n",
    "\n",
    "for i in range(len(students)):\n",
    "    print(i+1,students[i])"
   ]
  },
  {
   "cell_type": "code",
   "execution_count": 14,
   "id": "8daeac15",
   "metadata": {},
   "outputs": [
    {
     "name": "stdout",
     "output_type": "stream",
     "text": [
      "Gryffindor\n"
     ]
    }
   ],
   "source": [
    "students={\n",
    "    'Hermione':'Gryffindor',\n",
    "    'Harry':'Gryffindor',\n",
    "    \"Ron\":'Gryffindor',\n",
    "    \"Draco\":\"Slytherin\"\n",
    "}\n",
    "\n",
    "print(students['Hermione'])"
   ]
  },
  {
   "cell_type": "code",
   "execution_count": 15,
   "id": "1293814a",
   "metadata": {},
   "outputs": [
    {
     "name": "stdout",
     "output_type": "stream",
     "text": [
      "Hermione\n",
      "Harry\n",
      "Ron\n",
      "Draco\n"
     ]
    }
   ],
   "source": [
    "students={\n",
    "    'Hermione':'Gryffindor',\n",
    "    'Harry':'Gryffindor',\n",
    "    \"Ron\":'Gryffindor',\n",
    "    \"Draco\":\"Slytherin\"\n",
    "}\n",
    "\n",
    "for student in students:\n",
    "    print(student)"
   ]
  },
  {
   "cell_type": "code",
   "execution_count": 16,
   "id": "bf0caf5f",
   "metadata": {},
   "outputs": [
    {
     "name": "stdout",
     "output_type": "stream",
     "text": [
      "Hermione:Gryffindor\n",
      "Harry:Gryffindor\n",
      "Ron:Gryffindor\n",
      "Draco:Slytherin\n"
     ]
    }
   ],
   "source": [
    "students={\n",
    "    'Hermione':'Gryffindor',\n",
    "    'Harry':'Gryffindor',\n",
    "    \"Ron\":'Gryffindor',\n",
    "    \"Draco\":\"Slytherin\"\n",
    "}\n",
    "\n",
    "for student in students:\n",
    "    print(student,students[student],sep=\":\")"
   ]
  },
  {
   "cell_type": "code",
   "execution_count": 17,
   "id": "22f8d073",
   "metadata": {},
   "outputs": [
    {
     "name": "stdout",
     "output_type": "stream",
     "text": [
      "Hermione Gryffindor Otter\n",
      "Harry Gryffindor Stag\n",
      "Ron Gryffindor Jack Russell terrier\n",
      "Draco Slytherin None\n"
     ]
    }
   ],
   "source": [
    "students=[\n",
    "    {\"name\": \"Hermione\", \"house\": \"Gryffindor\", \"patronus\": \"Otter\"},\n",
    "    {\"name\": \"Harry\", \"house\": \"Gryffindor\", \"patronus\": \"Stag\"},\n",
    "    {\"name\": \"Ron\", \"house\": \"Gryffindor\", \"patronus\": \"Jack Russell terrier\"},\n",
    "    {\"name\": \"Draco\", \"house\": \"Slytherin\", \"patronus\": None},\n",
    "]\n",
    "\n",
    "for student in students:\n",
    "    print(student['name'],student['house'],student['patronus'])"
   ]
  },
  {
   "cell_type": "code",
   "execution_count": 18,
   "id": "6c71f38d",
   "metadata": {},
   "outputs": [
    {
     "name": "stdout",
     "output_type": "stream",
     "text": [
      "***\n",
      "***\n",
      "***\n"
     ]
    }
   ],
   "source": [
    "for _ in range(3):\n",
    "    for _ in range(3):\n",
    "        print(\"*\",end=\"\")\n",
    "    print()"
   ]
  },
  {
   "cell_type": "code",
   "execution_count": null,
   "id": "b7238920",
   "metadata": {},
   "outputs": [],
   "source": []
  }
 ],
 "metadata": {
  "kernelspec": {
   "display_name": "Python 3",
   "language": "python",
   "name": "python3"
  },
  "language_info": {
   "codemirror_mode": {
    "name": "ipython",
    "version": 3
   },
   "file_extension": ".py",
   "mimetype": "text/x-python",
   "name": "python",
   "nbconvert_exporter": "python",
   "pygments_lexer": "ipython3",
   "version": "3.13.3"
  }
 },
 "nbformat": 4,
 "nbformat_minor": 5
}
