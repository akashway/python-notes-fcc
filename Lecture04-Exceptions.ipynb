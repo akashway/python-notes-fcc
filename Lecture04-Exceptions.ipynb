{
 "cells": [
  {
   "cell_type": "code",
   "execution_count": 1,
   "id": "42bb5737",
   "metadata": {},
   "outputs": [],
   "source": [
    "# we use exception handling to handle the error which occurs during run time\n",
    "# SyntaxError is not a run time error"
   ]
  },
  {
   "cell_type": "code",
   "execution_count": 8,
   "id": "1598d570",
   "metadata": {},
   "outputs": [
    {
     "name": "stdout",
     "output_type": "stream",
     "text": [
      "x is 5\n"
     ]
    }
   ],
   "source": [
    "x=int(input(\"What's x? \"))\n",
    "print(f\"x is {x}\")\n",
    "# if we enter floating number or string we will get error\n",
    "# ValueError: invalid literal for int() with base 10: 'aws'\n",
    "# ValueError: invalid literal for int() with base 10: '12.3'"
   ]
  },
  {
   "cell_type": "code",
   "execution_count": 12,
   "id": "114e0e87",
   "metadata": {},
   "outputs": [
    {
     "name": "stdout",
     "output_type": "stream",
     "text": [
      "x is not an interger\n"
     ]
    }
   ],
   "source": [
    "try:\n",
    "    x=int(input(\"What's x? \"))\n",
    "    print(f\"x is {x}\")\n",
    "except ValueError:\n",
    "    print(\"x is not an interger\")"
   ]
  },
  {
   "cell_type": "code",
   "execution_count": null,
   "id": "7f2582cb",
   "metadata": {},
   "outputs": [
    {
     "name": "stdout",
     "output_type": "stream",
     "text": [
      "y is not an integer\n"
     ]
    },
    {
     "ename": "NameError",
     "evalue": "name 'y' is not defined",
     "output_type": "error",
     "traceback": [
      "\u001b[31m---------------------------------------------------------------------------\u001b[39m",
      "\u001b[31mNameError\u001b[39m                                 Traceback (most recent call last)",
      "\u001b[36mCell\u001b[39m\u001b[36m \u001b[39m\u001b[32mIn[19]\u001b[39m\u001b[32m, line 6\u001b[39m\n\u001b[32m      3\u001b[39m \u001b[38;5;28;01mexcept\u001b[39;00m:\n\u001b[32m      4\u001b[39m     \u001b[38;5;28mprint\u001b[39m(\u001b[33m\"\u001b[39m\u001b[33my is not an integer\u001b[39m\u001b[33m\"\u001b[39m)\n\u001b[32m----> \u001b[39m\u001b[32m6\u001b[39m \u001b[38;5;28mprint\u001b[39m(\u001b[33mf\u001b[39m\u001b[33m\"\u001b[39m\u001b[33my is \u001b[39m\u001b[38;5;132;01m{\u001b[39;00m\u001b[43my\u001b[49m\u001b[38;5;132;01m}\u001b[39;00m\u001b[33m\"\u001b[39m)\n",
      "\u001b[31mNameError\u001b[39m: name 'y' is not defined"
     ]
    }
   ],
   "source": [
    "try: \n",
    "    y=int(input(\"What's x? \"))\n",
    "except:\n",
    "    print(\"y is not an integer\")\n",
    "\n",
    "print(f\"y is {y}\")\n",
    "#suppose if I run with invalid value then y is not assigned since\n",
    "# before assignment error will occur hence we get NameError  "
   ]
  },
  {
   "cell_type": "code",
   "execution_count": 26,
   "id": "c2441aaa",
   "metadata": {},
   "outputs": [
    {
     "name": "stdout",
     "output_type": "stream",
     "text": [
      "z is not an integer\n"
     ]
    }
   ],
   "source": [
    "# we will only execute else if we try and succeded\n",
    "try:\n",
    "    z=int(input(\"What's z? \"))\n",
    "except ValueError:\n",
    "    print(\"z is not an integer\")\n",
    "else:\n",
    "    print(f\"z is {z}\")"
   ]
  },
  {
   "cell_type": "code",
   "execution_count": 28,
   "id": "c8a5ca64",
   "metadata": {},
   "outputs": [
    {
     "name": "stdout",
     "output_type": "stream",
     "text": [
      "n is 1\n"
     ]
    }
   ],
   "source": [
    "while True:\n",
    "    try:\n",
    "        n=int(input(\"what's n? \"))\n",
    "    except ValueError:\n",
    "        print(\"n in not an integer\")\n",
    "    else:\n",
    "        break\n",
    "\n",
    "print(f\"n is {n}\")"
   ]
  },
  {
   "cell_type": "code",
   "execution_count": 29,
   "id": "19b0854d",
   "metadata": {},
   "outputs": [
    {
     "name": "stdout",
     "output_type": "stream",
     "text": [
      "n in not an integer\n",
      "n in not an integer\n",
      "n in not an integer\n",
      "n is 3\n"
     ]
    }
   ],
   "source": [
    "while True:\n",
    "    try:\n",
    "        n=int(input(\"What's n? \"))\n",
    "        break\n",
    "    except:\n",
    "        print(\"n in not an integer\")\n",
    "        \n",
    "print(f\"n is {n}\")"
   ]
  },
  {
   "cell_type": "code",
   "execution_count": 30,
   "id": "653ee216",
   "metadata": {},
   "outputs": [
    {
     "name": "stdout",
     "output_type": "stream",
     "text": [
      "x1 is not an integer\n",
      "x1 is not an integer\n",
      "Enter integer is 1\n"
     ]
    }
   ],
   "source": [
    "# let's write a function which takes a only interger\n",
    "\n",
    "def get_int():\n",
    "    while True:\n",
    "        try:\n",
    "            x1=int(input(\"What's x1? \"))\n",
    "        except ValueError:\n",
    "            print(\"x1 is not an integer\")\n",
    "        else:\n",
    "            return x1\n",
    "        \n",
    "\n",
    "n=get_int()\n",
    "print(\"Enter integer is\",n)"
   ]
  },
  {
   "cell_type": "code",
   "execution_count": 31,
   "id": "9e6711b1",
   "metadata": {},
   "outputs": [
    {
     "name": "stdout",
     "output_type": "stream",
     "text": [
      "entered number is 9\n"
     ]
    }
   ],
   "source": [
    "#let's modify this way here user will not get msg/warning \n",
    "#we just keep asking integer value untill user doesn't provide integer\n",
    "\n",
    "def get_int():\n",
    "    while True:\n",
    "        try:\n",
    "            n=int(input(\"What's n?\"))\n",
    "        except ValueError:\n",
    "            pass\n",
    "        else:\n",
    "            break\n",
    "    return n\n",
    "\n",
    "num=get_int()\n",
    "print(\"entered number is\",num)\n",
    "    "
   ]
  },
  {
   "cell_type": "code",
   "execution_count": 32,
   "id": "4be4fb1b",
   "metadata": {},
   "outputs": [
    {
     "name": "stdout",
     "output_type": "stream",
     "text": [
      "a is 9\n"
     ]
    }
   ],
   "source": [
    "#in above example everytime we will get prompt like \"What's n?\"\n",
    "# it is good if caller will defined which varaible they want let's modify it\n",
    "\n",
    "def get_int(prompt):\n",
    "    while True:\n",
    "        try:\n",
    "            n=int(input(prompt))\n",
    "            return n\n",
    "        except:\n",
    "            pass\n",
    "\n",
    "a=get_int(\"What's a? \")\n",
    "print(f\"a is {a}\")"
   ]
  },
  {
   "cell_type": "code",
   "execution_count": null,
   "id": "b8d9e164",
   "metadata": {},
   "outputs": [],
   "source": []
  }
 ],
 "metadata": {
  "kernelspec": {
   "display_name": "Python 3",
   "language": "python",
   "name": "python3"
  },
  "language_info": {
   "codemirror_mode": {
    "name": "ipython",
    "version": 3
   },
   "file_extension": ".py",
   "mimetype": "text/x-python",
   "name": "python",
   "nbconvert_exporter": "python",
   "pygments_lexer": "ipython3",
   "version": "3.13.3"
  }
 },
 "nbformat": 4,
 "nbformat_minor": 5
}
