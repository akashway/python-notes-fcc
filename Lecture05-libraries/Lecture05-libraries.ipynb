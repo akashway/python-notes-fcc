{
 "cells": [
  {
   "cell_type": "code",
   "execution_count": 11,
   "id": "1320e8a7",
   "metadata": {},
   "outputs": [
    {
     "name": "stdout",
     "output_type": "stream",
     "text": [
      "Heads\n"
     ]
    }
   ],
   "source": [
    "#modules\n",
    "#random library/module\n",
    "import random\n",
    "coin=random.choice(['Heads','Tails'])\n",
    "#return any one element from list\n",
    "print(coin)"
   ]
  },
  {
   "cell_type": "code",
   "execution_count": 17,
   "id": "dd7eb900",
   "metadata": {},
   "outputs": [
    {
     "name": "stdout",
     "output_type": "stream",
     "text": [
      "0\n"
     ]
    }
   ],
   "source": [
    "from random import choice\n",
    "\n",
    "binary=choice([0,1])\n",
    "print(binary)"
   ]
  },
  {
   "cell_type": "code",
   "execution_count": 26,
   "id": "7c84c093",
   "metadata": {},
   "outputs": [
    {
     "data": {
      "text/plain": [
       "0"
      ]
     },
     "execution_count": 26,
     "metadata": {},
     "output_type": "execute_result"
    }
   ],
   "source": [
    "import random\n",
    "# randint(a,b) \n",
    "# will generate random integer between a and b (both inclusive)\n",
    "random.randint(0,10)"
   ]
  },
  {
   "cell_type": "code",
   "execution_count": 30,
   "id": "ee33e3e2",
   "metadata": {},
   "outputs": [
    {
     "name": "stdout",
     "output_type": "stream",
     "text": [
      "['jack', 'king', 'queen']\n"
     ]
    }
   ],
   "source": [
    "# shuffle()\n",
    "#it will shuffle/re order the list provided and it will change the original list\n",
    "# not the the retuen the shuffled list\n",
    "\n",
    "cards=['jack','queen','king']\n",
    "random.shuffle(cards)\n",
    "print(cards)\n"
   ]
  },
  {
   "cell_type": "code",
   "execution_count": 33,
   "id": "50fa5a34",
   "metadata": {},
   "outputs": [
    {
     "data": {
      "text/plain": [
       "3"
      ]
     },
     "execution_count": 33,
     "metadata": {},
     "output_type": "execute_result"
    }
   ],
   "source": [
    "import statistics\n",
    "\n",
    "statistics.mean([1,2,3,4,5]) #15/5"
   ]
  },
  {
   "cell_type": "code",
   "execution_count": 34,
   "id": "c66ff0b7",
   "metadata": {},
   "outputs": [],
   "source": [
    "# Usually when we take a input from user it will prompt a msg\n",
    "# for a user to give an Input but we can take intput while writing\n",
    "# a command to run python file \n",
    "# like we write python name.py so just after writing this\n",
    "# we can provide the input which is nedded in program we use sys module"
   ]
  },
  {
   "cell_type": "code",
   "execution_count": 37,
   "id": "7f946d66",
   "metadata": {},
   "outputs": [
    {
     "name": "stdout",
     "output_type": "stream",
     "text": [
      "Requirement already satisfied: cowsay in c:\\users\\akash\\appdata\\local\\programs\\python\\python313\\lib\\site-packages (6.1)\n"
     ]
    },
    {
     "name": "stderr",
     "output_type": "stream",
     "text": [
      "\n",
      "[notice] A new release of pip is available: 25.0.1 -> 25.1.1\n",
      "[notice] To update, run: python.exe -m pip install --upgrade pip\n"
     ]
    }
   ],
   "source": [
    "# packages (all packges avaialble on pypi website)\n",
    "# 3 we can use pacakge manager (pip) to install pacakge\n",
    "\n",
    "!pip install cowsay"
   ]
  },
  {
   "cell_type": "code",
   "execution_count": 39,
   "id": "e6bbe16f",
   "metadata": {},
   "outputs": [
    {
     "name": "stdout",
     "output_type": "stream",
     "text": [
      "  ___________________\n",
      "| Hello, Akash Mishra |\n",
      "  ===================\n",
      "                   \\\n",
      "                    \\\n",
      "                      ^__^\n",
      "                      (oo)\\_______\n",
      "                      (__)\\       )\\/\\\n",
      "                          ||----w |\n",
      "                          ||     ||\n"
     ]
    }
   ],
   "source": [
    "import cowsay\n",
    "\n",
    "name=\"Akash Mishra\"\n",
    "\n",
    "cowsay.cow(\"Hello, \"+name) \n",
    "#it will take only one argument not like print() to many arguments"
   ]
  },
  {
   "cell_type": "code",
   "execution_count": 41,
   "id": "65ca6e5a",
   "metadata": {},
   "outputs": [
    {
     "name": "stdout",
     "output_type": "stream",
     "text": [
      "  ___________________\n",
      "| Hello, Akash Mishra |\n",
      "  ===================\n",
      "                          \\\n",
      "                           \\\n",
      "                            \\\n",
      "                             \\\n",
      "                                .-=-==--==--.\n",
      "                          ..-==\"  ,'o`)      `.\n",
      "                        ,'         `\"'         \\\n",
      "                       :  (                     `.__...._\n",
      "                       |                  )    /         `-=-.\n",
      "                       :       ,vv.-._   /    /               `---==-._\n",
      "                        \\/\\/\\/VV ^ d88`;'    /                         `.\n",
      "                            ``  ^/d88P!'    /             ,              `._\n",
      "                               ^/    !'   ,.      ,      /                  \"-,,__,,--'\"\"\"\"-.\n",
      "                              ^/    !'  ,'  \\ . .(      (         _           )  ) ) ) ))_,-.\\\n",
      "                             ^(__ ,!',\"'   ;:+.:%:a.     \\:.. . ,'          )  )  ) ) ,\"'    '\n",
      "                             ',,,'','     /o:::\":%:%a.    \\:.:.:         .    )  ) _,'\n",
      "                              \"\"\"'       ;':::'' `+%%%a._  \\%:%|         ;.). _,-\"\"\n",
      "                                     ,-='_.-'      ``:%::)  )%:|        /:._,\"\n",
      "                                    (/(/\"           ,\" ,'_,'%%%:       (_,'\n",
      "                                                   (  (//(`.___;        \\\n",
      "                                                    \\     \\    `         `\n",
      "                                                     `.    `.   `.        :\n",
      "                                                       \\. . .\\    : . . . :\n",
      "                                                        \\. . .:    `.. . .:\n",
      "                                                         `..:.:\\     \\:...\\\n",
      "                                                          ;:.:.;      ::...:\n",
      "                                                          ):%::       :::::;\n",
      "                                                      __,::%:(        :::::\n",
      "                                                   ,;:%%%%%%%:        ;:%::\n",
      "                                                     ;,--\"\"-.`\\  ,=--':%:%:\\\n",
      "                                                    /\"       \"| /-\".:%%%%%%%\\\n",
      "                                                                    ;,-\"'`)%%)\n",
      "                                                                   /\"      \"|\n"
     ]
    }
   ],
   "source": [
    "cowsay.trex('Hello, '+name)"
   ]
  },
  {
   "cell_type": "code",
   "execution_count": 43,
   "id": "58a2e80e",
   "metadata": {},
   "outputs": [
    {
     "name": "stdout",
     "output_type": "stream",
     "text": [
      "Collecting requests\n",
      "  Using cached requests-2.32.4-py3-none-any.whl.metadata (4.9 kB)\n",
      "Collecting charset_normalizer<4,>=2 (from requests)\n",
      "  Using cached charset_normalizer-3.4.2-cp313-cp313-win_amd64.whl.metadata (36 kB)\n",
      "Collecting idna<4,>=2.5 (from requests)\n",
      "  Using cached idna-3.10-py3-none-any.whl.metadata (10 kB)\n",
      "Collecting urllib3<3,>=1.21.1 (from requests)\n",
      "  Downloading urllib3-2.5.0-py3-none-any.whl.metadata (6.5 kB)\n",
      "Collecting certifi>=2017.4.17 (from requests)\n",
      "  Downloading certifi-2025.6.15-py3-none-any.whl.metadata (2.4 kB)\n",
      "Using cached requests-2.32.4-py3-none-any.whl (64 kB)\n",
      "Downloading certifi-2025.6.15-py3-none-any.whl (157 kB)\n",
      "Using cached charset_normalizer-3.4.2-cp313-cp313-win_amd64.whl (105 kB)\n",
      "Using cached idna-3.10-py3-none-any.whl (70 kB)\n",
      "Downloading urllib3-2.5.0-py3-none-any.whl (129 kB)\n",
      "Installing collected packages: urllib3, idna, charset_normalizer, certifi, requests\n",
      "Successfully installed certifi-2025.6.15 charset_normalizer-3.4.2 idna-3.10 requests-2.32.4 urllib3-2.5.0\n"
     ]
    },
    {
     "name": "stderr",
     "output_type": "stream",
     "text": [
      "\n",
      "[notice] A new release of pip is available: 25.0.1 -> 25.1.1\n",
      "[notice] To update, run: python.exe -m pip install --upgrade pip\n"
     ]
    }
   ],
   "source": [
    "!pip install requests"
   ]
  },
  {
   "cell_type": "code",
   "execution_count": 53,
   "id": "f3d5ace3",
   "metadata": {},
   "outputs": [
    {
     "name": "stdout",
     "output_type": "stream",
     "text": [
      "<Response [200]>\n"
     ]
    }
   ],
   "source": [
    "import requests\n",
    "\n",
    "band_name=input(\"what's name of band? \")\n",
    "\n",
    "# response=requests.get(\"https://itunes.apple.com/search?entity=song&limit=1&term=\"+band_name)\n",
    "response=requests.get(\"https://itunes.apple.com/search?entity=song&limit=20&term=\"+band_name)\n",
    "print(response)\n"
   ]
  },
  {
   "cell_type": "code",
   "execution_count": 54,
   "id": "cb816562",
   "metadata": {},
   "outputs": [
    {
     "name": "stdout",
     "output_type": "stream",
     "text": [
      "{'resultCount': 22, 'results': [{'wrapperType': 'track', 'kind': 'song', 'artistId': 115234, 'collectionId': 1440878798, 'trackId': 1440879325, 'artistName': 'Weezer', 'collectionName': 'Weezer', 'trackName': 'Buddy Holly', 'collectionCensoredName': 'Weezer', 'trackCensoredName': 'Buddy Holly', 'artistViewUrl': 'https://music.apple.com/us/artist/weezer/115234?uo=4', 'collectionViewUrl': 'https://music.apple.com/us/album/buddy-holly/1440878798?i=1440879325&uo=4', 'trackViewUrl': 'https://music.apple.com/us/album/buddy-holly/1440878798?i=1440879325&uo=4', 'previewUrl': 'https://audio-ssl.itunes.apple.com/itunes-assets/AudioPreview211/v4/b1/35/53/b13553c8-22f3-3e62-47cc-beaf65440f0e/mzaf_9734530910938773283.plus.aac.p.m4a', 'artworkUrl30': 'https://is1-ssl.mzstatic.com/image/thumb/Music221/v4/d0/16/da/d016da24-577e-b584-3a5a-116efb5ca362/16UMGIM52971.rgb.jpg/30x30bb.jpg', 'artworkUrl60': 'https://is1-ssl.mzstatic.com/image/thumb/Music221/v4/d0/16/da/d016da24-577e-b584-3a5a-116efb5ca362/16UMGIM52971.rgb.jpg/60x60bb.jpg', 'artworkUrl100': 'https://is1-ssl.mzstatic.com/image/thumb/Music221/v4/d0/16/da/d016da24-577e-b584-3a5a-116efb5ca362/16UMGIM52971.rgb.jpg/100x100bb.jpg', 'collectionPrice': 10.99, 'trackPrice': 1.29, 'releaseDate': '1994-05-10T12:00:00Z', 'collectionExplicitness': 'notExplicit', 'trackExplicitness': 'notExplicit', 'discCount': 1, 'discNumber': 1, 'trackCount': 10, 'trackNumber': 4, 'trackTimeMillis': 159587, 'country': 'USA', 'currency': 'USD', 'primaryGenreName': 'Pop', 'isStreamable': True}, {'wrapperType': 'track', 'kind': 'song', 'artistId': 115234, 'collectionId': 1440878798, 'trackId': 1440879551, 'artistName': 'Weezer', 'collectionName': 'Weezer', 'trackName': \"Say It Ain't So\", 'collectionCensoredName': 'Weezer', 'trackCensoredName': \"Say It Ain't So\", 'artistViewUrl': 'https://music.apple.com/us/artist/weezer/115234?uo=4', 'collectionViewUrl': 'https://music.apple.com/us/album/say-it-aint-so/1440878798?i=1440879551&uo=4', 'trackViewUrl': 'https://music.apple.com/us/album/say-it-aint-so/1440878798?i=1440879551&uo=4', 'previewUrl': 'https://audio-ssl.itunes.apple.com/itunes-assets/AudioPreview211/v4/11/23/6f/11236f0d-9b5a-b780-5ebb-56c1dc512e3a/mzaf_11156035496161349512.plus.aac.p.m4a', 'artworkUrl30': 'https://is1-ssl.mzstatic.com/image/thumb/Music221/v4/d0/16/da/d016da24-577e-b584-3a5a-116efb5ca362/16UMGIM52971.rgb.jpg/30x30bb.jpg', 'artworkUrl60': 'https://is1-ssl.mzstatic.com/image/thumb/Music221/v4/d0/16/da/d016da24-577e-b584-3a5a-116efb5ca362/16UMGIM52971.rgb.jpg/60x60bb.jpg', 'artworkUrl100': 'https://is1-ssl.mzstatic.com/image/thumb/Music221/v4/d0/16/da/d016da24-577e-b584-3a5a-116efb5ca362/16UMGIM52971.rgb.jpg/100x100bb.jpg', 'collectionPrice': 10.99, 'trackPrice': 1.29, 'releaseDate': '1994-05-10T12:00:00Z', 'collectionExplicitness': 'notExplicit', 'trackExplicitness': 'notExplicit', 'discCount': 1, 'discNumber': 1, 'trackCount': 10, 'trackNumber': 7, 'trackTimeMillis': 258853, 'country': 'USA', 'currency': 'USD', 'primaryGenreName': 'Rock', 'isStreamable': True}, {'wrapperType': 'track', 'kind': 'song', 'artistId': 115234, 'collectionId': 1440878798, 'trackId': 1440879332, 'artistName': 'Weezer', 'collectionName': 'Weezer', 'trackName': 'Undone - The Sweater Song', 'collectionCensoredName': 'Weezer', 'trackCensoredName': 'Undone - The Sweater Song', 'artistViewUrl': 'https://music.apple.com/us/artist/weezer/115234?uo=4', 'collectionViewUrl': 'https://music.apple.com/us/album/undone-the-sweater-song/1440878798?i=1440879332&uo=4', 'trackViewUrl': 'https://music.apple.com/us/album/undone-the-sweater-song/1440878798?i=1440879332&uo=4', 'previewUrl': 'https://audio-ssl.itunes.apple.com/itunes-assets/AudioPreview221/v4/33/69/e2/3369e22d-32fe-3d85-7702-107e25fca82b/mzaf_16796572868702604469.plus.aac.p.m4a', 'artworkUrl30': 'https://is1-ssl.mzstatic.com/image/thumb/Music221/v4/d0/16/da/d016da24-577e-b584-3a5a-116efb5ca362/16UMGIM52971.rgb.jpg/30x30bb.jpg', 'artworkUrl60': 'https://is1-ssl.mzstatic.com/image/thumb/Music221/v4/d0/16/da/d016da24-577e-b584-3a5a-116efb5ca362/16UMGIM52971.rgb.jpg/60x60bb.jpg', 'artworkUrl100': 'https://is1-ssl.mzstatic.com/image/thumb/Music221/v4/d0/16/da/d016da24-577e-b584-3a5a-116efb5ca362/16UMGIM52971.rgb.jpg/100x100bb.jpg', 'collectionPrice': 10.99, 'trackPrice': 1.29, 'releaseDate': '1994-05-10T12:00:00Z', 'collectionExplicitness': 'notExplicit', 'trackExplicitness': 'notExplicit', 'discCount': 1, 'discNumber': 1, 'trackCount': 10, 'trackNumber': 5, 'trackTimeMillis': 304987, 'country': 'USA', 'currency': 'USD', 'primaryGenreName': 'Pop', 'isStreamable': True}, {'wrapperType': 'track', 'kind': 'song', 'artistId': 115234, 'collectionId': 1440878798, 'trackId': 1440879114, 'artistName': 'Weezer', 'collectionName': 'Weezer', 'trackName': 'My Name Is Jonas', 'collectionCensoredName': 'Weezer', 'trackCensoredName': 'My Name Is Jonas', 'artistViewUrl': 'https://music.apple.com/us/artist/weezer/115234?uo=4', 'collectionViewUrl': 'https://music.apple.com/us/album/my-name-is-jonas/1440878798?i=1440879114&uo=4', 'trackViewUrl': 'https://music.apple.com/us/album/my-name-is-jonas/1440878798?i=1440879114&uo=4', 'previewUrl': 'https://audio-ssl.itunes.apple.com/itunes-assets/AudioPreview211/v4/cc/fc/63/ccfc63af-e202-abc0-abe8-d839c785fd3e/mzaf_2190249264257150881.plus.aac.p.m4a', 'artworkUrl30': 'https://is1-ssl.mzstatic.com/image/thumb/Music221/v4/d0/16/da/d016da24-577e-b584-3a5a-116efb5ca362/16UMGIM52971.rgb.jpg/30x30bb.jpg', 'artworkUrl60': 'https://is1-ssl.mzstatic.com/image/thumb/Music221/v4/d0/16/da/d016da24-577e-b584-3a5a-116efb5ca362/16UMGIM52971.rgb.jpg/60x60bb.jpg', 'artworkUrl100': 'https://is1-ssl.mzstatic.com/image/thumb/Music221/v4/d0/16/da/d016da24-577e-b584-3a5a-116efb5ca362/16UMGIM52971.rgb.jpg/100x100bb.jpg', 'collectionPrice': 10.99, 'trackPrice': 1.29, 'releaseDate': '1994-05-10T12:00:00Z', 'collectionExplicitness': 'notExplicit', 'trackExplicitness': 'notExplicit', 'discCount': 1, 'discNumber': 1, 'trackCount': 10, 'trackNumber': 1, 'trackTimeMillis': 203960, 'country': 'USA', 'currency': 'USD', 'primaryGenreName': 'Pop', 'isStreamable': True}, {'wrapperType': 'track', 'kind': 'song', 'artistId': 6908894, 'collectionId': 397750231, 'trackId': 397750390, 'artistName': 'Logistics', 'collectionName': 'Spacejams', 'trackName': 'Weezer', 'collectionCensoredName': 'Spacejams', 'trackCensoredName': 'Weezer', 'artistViewUrl': 'https://music.apple.com/us/artist/logistics/6908894?uo=4', 'collectionViewUrl': 'https://music.apple.com/us/album/weezer/397750231?i=397750390&uo=4', 'trackViewUrl': 'https://music.apple.com/us/album/weezer/397750231?i=397750390&uo=4', 'previewUrl': 'https://audio-ssl.itunes.apple.com/itunes-assets/AudioPreview125/v4/94/40/4a/94404aff-b1ce-520e-d7a6-8421137e699a/mzaf_9822162486127907614.plus.aac.p.m4a', 'artworkUrl30': 'https://is1-ssl.mzstatic.com/image/thumb/Music/b8/2e/fa/mzi.slyfzlou.jpg/30x30bb.jpg', 'artworkUrl60': 'https://is1-ssl.mzstatic.com/image/thumb/Music/b8/2e/fa/mzi.slyfzlou.jpg/60x60bb.jpg', 'artworkUrl100': 'https://is1-ssl.mzstatic.com/image/thumb/Music/b8/2e/fa/mzi.slyfzlou.jpg/100x100bb.jpg', 'collectionPrice': 6.99, 'trackPrice': 0.99, 'releaseDate': '2010-11-14T12:00:00Z', 'collectionExplicitness': 'notExplicit', 'trackExplicitness': 'notExplicit', 'discCount': 1, 'discNumber': 1, 'trackCount': 20, 'trackNumber': 16, 'trackTimeMillis': 315002, 'country': 'USA', 'currency': 'USD', 'primaryGenreName': 'Dance', 'isStreamable': True}, {'wrapperType': 'track', 'kind': 'song', 'artistId': 115234, 'collectionId': 1440878798, 'trackId': 1440879553, 'artistName': 'Weezer', 'collectionName': 'Weezer', 'trackName': 'Holiday', 'collectionCensoredName': 'Weezer', 'trackCensoredName': 'Holiday', 'artistViewUrl': 'https://music.apple.com/us/artist/weezer/115234?uo=4', 'collectionViewUrl': 'https://music.apple.com/us/album/holiday/1440878798?i=1440879553&uo=4', 'trackViewUrl': 'https://music.apple.com/us/album/holiday/1440878798?i=1440879553&uo=4', 'previewUrl': 'https://audio-ssl.itunes.apple.com/itunes-assets/AudioPreview221/v4/3b/ed/12/3bed1210-41ca-d5be-d149-7dc30949212c/mzaf_13109544680875059310.plus.aac.p.m4a', 'artworkUrl30': 'https://is1-ssl.mzstatic.com/image/thumb/Music221/v4/d0/16/da/d016da24-577e-b584-3a5a-116efb5ca362/16UMGIM52971.rgb.jpg/30x30bb.jpg', 'artworkUrl60': 'https://is1-ssl.mzstatic.com/image/thumb/Music221/v4/d0/16/da/d016da24-577e-b584-3a5a-116efb5ca362/16UMGIM52971.rgb.jpg/60x60bb.jpg', 'artworkUrl100': 'https://is1-ssl.mzstatic.com/image/thumb/Music221/v4/d0/16/da/d016da24-577e-b584-3a5a-116efb5ca362/16UMGIM52971.rgb.jpg/100x100bb.jpg', 'collectionPrice': 10.99, 'trackPrice': 1.29, 'releaseDate': '1994-05-10T12:00:00Z', 'collectionExplicitness': 'notExplicit', 'trackExplicitness': 'notExplicit', 'discCount': 1, 'discNumber': 1, 'trackCount': 10, 'trackNumber': 9, 'trackTimeMillis': 204907, 'country': 'USA', 'currency': 'USD', 'primaryGenreName': 'Pop', 'isStreamable': True}, {'wrapperType': 'track', 'kind': 'song', 'artistId': 115234, 'collectionId': 1440878798, 'trackId': 1440879333, 'artistName': 'Weezer', 'collectionName': 'Weezer', 'trackName': 'Surf Wax America', 'collectionCensoredName': 'Weezer', 'trackCensoredName': 'Surf Wax America', 'artistViewUrl': 'https://music.apple.com/us/artist/weezer/115234?uo=4', 'collectionViewUrl': 'https://music.apple.com/us/album/surf-wax-america/1440878798?i=1440879333&uo=4', 'trackViewUrl': 'https://music.apple.com/us/album/surf-wax-america/1440878798?i=1440879333&uo=4', 'previewUrl': 'https://audio-ssl.itunes.apple.com/itunes-assets/AudioPreview221/v4/98/93/8f/98938ff5-007f-600a-985d-7dbd77bdb11f/mzaf_348973115086818929.plus.aac.p.m4a', 'artworkUrl30': 'https://is1-ssl.mzstatic.com/image/thumb/Music221/v4/d0/16/da/d016da24-577e-b584-3a5a-116efb5ca362/16UMGIM52971.rgb.jpg/30x30bb.jpg', 'artworkUrl60': 'https://is1-ssl.mzstatic.com/image/thumb/Music221/v4/d0/16/da/d016da24-577e-b584-3a5a-116efb5ca362/16UMGIM52971.rgb.jpg/60x60bb.jpg', 'artworkUrl100': 'https://is1-ssl.mzstatic.com/image/thumb/Music221/v4/d0/16/da/d016da24-577e-b584-3a5a-116efb5ca362/16UMGIM52971.rgb.jpg/100x100bb.jpg', 'collectionPrice': 10.99, 'trackPrice': 1.29, 'releaseDate': '1994-05-10T12:00:00Z', 'collectionExplicitness': 'notExplicit', 'trackExplicitness': 'notExplicit', 'discCount': 1, 'discNumber': 1, 'trackCount': 10, 'trackNumber': 6, 'trackTimeMillis': 186213, 'country': 'USA', 'currency': 'USD', 'primaryGenreName': 'Pop', 'isStreamable': True}, {'wrapperType': 'track', 'kind': 'song', 'artistId': 115234, 'collectionId': 1440878798, 'trackId': 1440879317, 'artistName': 'Weezer', 'collectionName': 'Weezer', 'trackName': 'The World Has Turned and Left Me Here', 'collectionCensoredName': 'Weezer', 'trackCensoredName': 'The World Has Turned and Left Me Here', 'artistViewUrl': 'https://music.apple.com/us/artist/weezer/115234?uo=4', 'collectionViewUrl': 'https://music.apple.com/us/album/the-world-has-turned-and-left-me-here/1440878798?i=1440879317&uo=4', 'trackViewUrl': 'https://music.apple.com/us/album/the-world-has-turned-and-left-me-here/1440878798?i=1440879317&uo=4', 'previewUrl': 'https://audio-ssl.itunes.apple.com/itunes-assets/AudioPreview211/v4/83/d1/8a/83d18ac9-1bd3-4c30-45c6-5ca71ec045d5/mzaf_1749520686308197049.plus.aac.p.m4a', 'artworkUrl30': 'https://is1-ssl.mzstatic.com/image/thumb/Music221/v4/d0/16/da/d016da24-577e-b584-3a5a-116efb5ca362/16UMGIM52971.rgb.jpg/30x30bb.jpg', 'artworkUrl60': 'https://is1-ssl.mzstatic.com/image/thumb/Music221/v4/d0/16/da/d016da24-577e-b584-3a5a-116efb5ca362/16UMGIM52971.rgb.jpg/60x60bb.jpg', 'artworkUrl100': 'https://is1-ssl.mzstatic.com/image/thumb/Music221/v4/d0/16/da/d016da24-577e-b584-3a5a-116efb5ca362/16UMGIM52971.rgb.jpg/100x100bb.jpg', 'collectionPrice': 10.99, 'trackPrice': 1.29, 'releaseDate': '1994-05-10T12:00:00Z', 'collectionExplicitness': 'notExplicit', 'trackExplicitness': 'notExplicit', 'discCount': 1, 'discNumber': 1, 'trackCount': 10, 'trackNumber': 3, 'trackTimeMillis': 258373, 'country': 'USA', 'currency': 'USD', 'primaryGenreName': 'Pop', 'isStreamable': True}, {'wrapperType': 'track', 'kind': 'song', 'artistId': 115234, 'collectionId': 1440878798, 'trackId': 1440879555, 'artistName': 'Weezer', 'collectionName': 'Weezer', 'trackName': 'Only in Dreams', 'collectionCensoredName': 'Weezer', 'trackCensoredName': 'Only in Dreams', 'artistViewUrl': 'https://music.apple.com/us/artist/weezer/115234?uo=4', 'collectionViewUrl': 'https://music.apple.com/us/album/only-in-dreams/1440878798?i=1440879555&uo=4', 'trackViewUrl': 'https://music.apple.com/us/album/only-in-dreams/1440878798?i=1440879555&uo=4', 'previewUrl': 'https://audio-ssl.itunes.apple.com/itunes-assets/AudioPreview221/v4/0c/64/2a/0c642a2b-5bac-9ca0-1c3a-d691759f6045/mzaf_12994617183281919759.plus.aac.p.m4a', 'artworkUrl30': 'https://is1-ssl.mzstatic.com/image/thumb/Music221/v4/d0/16/da/d016da24-577e-b584-3a5a-116efb5ca362/16UMGIM52971.rgb.jpg/30x30bb.jpg', 'artworkUrl60': 'https://is1-ssl.mzstatic.com/image/thumb/Music221/v4/d0/16/da/d016da24-577e-b584-3a5a-116efb5ca362/16UMGIM52971.rgb.jpg/60x60bb.jpg', 'artworkUrl100': 'https://is1-ssl.mzstatic.com/image/thumb/Music221/v4/d0/16/da/d016da24-577e-b584-3a5a-116efb5ca362/16UMGIM52971.rgb.jpg/100x100bb.jpg', 'collectionPrice': 10.99, 'trackPrice': 1.29, 'releaseDate': '1994-05-10T12:00:00Z', 'collectionExplicitness': 'notExplicit', 'trackExplicitness': 'notExplicit', 'discCount': 1, 'discNumber': 1, 'trackCount': 10, 'trackNumber': 10, 'trackTimeMillis': 479360, 'country': 'USA', 'currency': 'USD', 'primaryGenreName': 'Pop', 'isStreamable': True}, {'wrapperType': 'track', 'kind': 'song', 'artistId': 115234, 'collectionId': 1440878798, 'trackId': 1440879552, 'artistName': 'Weezer', 'collectionName': 'Weezer', 'trackName': 'In the Garage', 'collectionCensoredName': 'Weezer', 'trackCensoredName': 'In the Garage', 'artistViewUrl': 'https://music.apple.com/us/artist/weezer/115234?uo=4', 'collectionViewUrl': 'https://music.apple.com/us/album/in-the-garage/1440878798?i=1440879552&uo=4', 'trackViewUrl': 'https://music.apple.com/us/album/in-the-garage/1440878798?i=1440879552&uo=4', 'previewUrl': 'https://audio-ssl.itunes.apple.com/itunes-assets/AudioPreview211/v4/68/66/6e/68666ef0-3bce-2697-7f62-437a8f746a69/mzaf_3084704913531051260.plus.aac.p.m4a', 'artworkUrl30': 'https://is1-ssl.mzstatic.com/image/thumb/Music221/v4/d0/16/da/d016da24-577e-b584-3a5a-116efb5ca362/16UMGIM52971.rgb.jpg/30x30bb.jpg', 'artworkUrl60': 'https://is1-ssl.mzstatic.com/image/thumb/Music221/v4/d0/16/da/d016da24-577e-b584-3a5a-116efb5ca362/16UMGIM52971.rgb.jpg/60x60bb.jpg', 'artworkUrl100': 'https://is1-ssl.mzstatic.com/image/thumb/Music221/v4/d0/16/da/d016da24-577e-b584-3a5a-116efb5ca362/16UMGIM52971.rgb.jpg/100x100bb.jpg', 'collectionPrice': 10.99, 'trackPrice': 1.29, 'releaseDate': '1994-05-10T12:00:00Z', 'collectionExplicitness': 'notExplicit', 'trackExplicitness': 'notExplicit', 'discCount': 1, 'discNumber': 1, 'trackCount': 10, 'trackNumber': 8, 'trackTimeMillis': 235973, 'country': 'USA', 'currency': 'USD', 'primaryGenreName': 'Pop', 'isStreamable': True}, {'wrapperType': 'track', 'kind': 'song', 'artistId': 115234, 'collectionId': 1440878798, 'trackId': 1440879129, 'artistName': 'Weezer', 'collectionName': 'Weezer', 'trackName': 'No One Else', 'collectionCensoredName': 'Weezer', 'trackCensoredName': 'No One Else', 'artistViewUrl': 'https://music.apple.com/us/artist/weezer/115234?uo=4', 'collectionViewUrl': 'https://music.apple.com/us/album/no-one-else/1440878798?i=1440879129&uo=4', 'trackViewUrl': 'https://music.apple.com/us/album/no-one-else/1440878798?i=1440879129&uo=4', 'previewUrl': 'https://audio-ssl.itunes.apple.com/itunes-assets/AudioPreview221/v4/bb/8b/d0/bb8bd0ce-9bb6-4864-2ee4-f1481afea9d2/mzaf_8414149138423830700.plus.aac.p.m4a', 'artworkUrl30': 'https://is1-ssl.mzstatic.com/image/thumb/Music221/v4/d0/16/da/d016da24-577e-b584-3a5a-116efb5ca362/16UMGIM52971.rgb.jpg/30x30bb.jpg', 'artworkUrl60': 'https://is1-ssl.mzstatic.com/image/thumb/Music221/v4/d0/16/da/d016da24-577e-b584-3a5a-116efb5ca362/16UMGIM52971.rgb.jpg/60x60bb.jpg', 'artworkUrl100': 'https://is1-ssl.mzstatic.com/image/thumb/Music221/v4/d0/16/da/d016da24-577e-b584-3a5a-116efb5ca362/16UMGIM52971.rgb.jpg/100x100bb.jpg', 'collectionPrice': 10.99, 'trackPrice': 1.29, 'releaseDate': '1994-05-10T12:00:00Z', 'collectionExplicitness': 'notExplicit', 'trackExplicitness': 'notExplicit', 'discCount': 1, 'discNumber': 1, 'trackCount': 10, 'trackNumber': 2, 'trackTimeMillis': 185160, 'country': 'USA', 'currency': 'USD', 'primaryGenreName': 'Pop', 'isStreamable': True}, {'wrapperType': 'track', 'kind': 'song', 'artistId': 115234, 'collectionId': 1481414042, 'trackId': 1481414192, 'artistName': 'Weezer', 'collectionName': 'Frozen 2 (Original Motion Picture Soundtrack)', 'trackName': 'Lost in the Woods (Weezer Version)', 'collectionCensoredName': 'Frozen 2 (Original Motion Picture Soundtrack)', 'trackCensoredName': 'Lost in the Woods (Weezer Version)', 'collectionArtistId': 36270, 'collectionArtistName': 'Various Artists', 'artistViewUrl': 'https://music.apple.com/us/artist/weezer/115234?uo=4', 'collectionViewUrl': 'https://music.apple.com/us/album/lost-in-the-woods-weezer-version/1481414042?i=1481414192&uo=4', 'trackViewUrl': 'https://music.apple.com/us/album/lost-in-the-woods-weezer-version/1481414042?i=1481414192&uo=4', 'previewUrl': 'https://audio-ssl.itunes.apple.com/itunes-assets/AudioPreview126/v4/07/a6/a0/07a6a03f-0c12-a39b-8839-9805595022ee/mzaf_8190126004987717841.plus.aac.p.m4a', 'artworkUrl30': 'https://is1-ssl.mzstatic.com/image/thumb/Music116/v4/31/7d/73/317d7343-9844-1dbc-dd0d-d63d990e7938/19UMGIM88564.rgb.jpg/30x30bb.jpg', 'artworkUrl60': 'https://is1-ssl.mzstatic.com/image/thumb/Music116/v4/31/7d/73/317d7343-9844-1dbc-dd0d-d63d990e7938/19UMGIM88564.rgb.jpg/60x60bb.jpg', 'artworkUrl100': 'https://is1-ssl.mzstatic.com/image/thumb/Music116/v4/31/7d/73/317d7343-9844-1dbc-dd0d-d63d990e7938/19UMGIM88564.rgb.jpg/100x100bb.jpg', 'collectionPrice': 9.99, 'trackPrice': 1.29, 'releaseDate': '2019-11-22T12:00:00Z', 'collectionExplicitness': 'notExplicit', 'trackExplicitness': 'notExplicit', 'discCount': 1, 'discNumber': 1, 'trackCount': 11, 'trackNumber': 11, 'trackTimeMillis': 185240, 'country': 'USA', 'currency': 'USD', 'primaryGenreName': 'Soundtrack', 'isStreamable': True}, {'wrapperType': 'track', 'kind': 'song', 'artistId': 158301, 'collectionId': 73778216, 'trackId': 997201, 'artistName': 'Gordon Lightfoot', 'collectionName': \"Weezer's Playlist\", 'trackName': 'Sundown', 'collectionCensoredName': \"Weezer's Playlist\", 'trackCensoredName': 'Sundown', 'collectionArtistId': 115234, 'collectionArtistName': 'Weezer', 'collectionArtistViewUrl': 'https://music.apple.com/us/artist/weezer/115234?uo=4', 'artistViewUrl': 'https://music.apple.com/us/artist/gordon-lightfoot/158301?uo=4', 'collectionViewUrl': 'https://music.apple.com/us/album/sundown/73778216?i=997201&uo=4', 'trackViewUrl': 'https://music.apple.com/us/album/sundown/73778216?i=997201&uo=4', 'previewUrl': 'https://audio-ssl.itunes.apple.com/itunes-assets/AudioPreview211/v4/d1/6b/ce/d16bce27-2938-8f39-9bc9-9ea291ed2bb2/mzaf_1826492104921736222.plus.aac.p.m4a', 'artworkUrl30': 'https://is1-ssl.mzstatic.com/image/thumb/Features/b0/07/56/dj.pcthldsy.jpg/30x30bb.jpg', 'artworkUrl60': 'https://is1-ssl.mzstatic.com/image/thumb/Features/b0/07/56/dj.pcthldsy.jpg/60x60bb.jpg', 'artworkUrl100': 'https://is1-ssl.mzstatic.com/image/thumb/Features/b0/07/56/dj.pcthldsy.jpg/100x100bb.jpg', 'trackPrice': 0.99, 'releaseDate': '1974-01-01T08:00:00Z', 'collectionExplicitness': 'notExplicit', 'trackExplicitness': 'notExplicit', 'discCount': 1, 'discNumber': 1, 'trackTimeMillis': 213952, 'country': 'USA', 'currency': 'USD', 'primaryGenreName': 'Singer/Songwriter', 'isStreamable': False}, {'wrapperType': 'track', 'kind': 'song', 'artistId': 115234, 'collectionId': 1440869641, 'trackId': 1440870181, 'artistName': 'Weezer', 'collectionName': 'Weezer (Deluxe Edition)', 'trackName': \"Say It Ain't So\", 'collectionCensoredName': 'Weezer (Deluxe Edition)', 'trackCensoredName': \"Say It Ain't So\", 'artistViewUrl': 'https://music.apple.com/us/artist/weezer/115234?uo=4', 'collectionViewUrl': 'https://music.apple.com/us/album/say-it-aint-so/1440869641?i=1440870181&uo=4', 'trackViewUrl': 'https://music.apple.com/us/album/say-it-aint-so/1440869641?i=1440870181&uo=4', 'previewUrl': 'https://audio-ssl.itunes.apple.com/itunes-assets/AudioPreview211/v4/e1/50/86/e1508652-2967-be99-5586-c858c8e18db5/mzaf_2841719761238147278.plus.aac.p.m4a', 'artworkUrl30': 'https://is1-ssl.mzstatic.com/image/thumb/Music113/v4/98/ef/02/98ef026e-7d73-f8ce-90d0-b41371ad20aa/16UMGIM52970.rgb.jpg/30x30bb.jpg', 'artworkUrl60': 'https://is1-ssl.mzstatic.com/image/thumb/Music113/v4/98/ef/02/98ef026e-7d73-f8ce-90d0-b41371ad20aa/16UMGIM52970.rgb.jpg/60x60bb.jpg', 'artworkUrl100': 'https://is1-ssl.mzstatic.com/image/thumb/Music113/v4/98/ef/02/98ef026e-7d73-f8ce-90d0-b41371ad20aa/16UMGIM52970.rgb.jpg/100x100bb.jpg', 'collectionPrice': 14.99, 'trackPrice': 1.29, 'releaseDate': '1994-05-10T12:00:00Z', 'collectionExplicitness': 'notExplicit', 'trackExplicitness': 'notExplicit', 'discCount': 2, 'discNumber': 2, 'trackCount': 14, 'trackNumber': 14, 'trackTimeMillis': 256880, 'country': 'USA', 'currency': 'USD', 'primaryGenreName': 'Pop', 'isStreamable': True}, {'wrapperType': 'track', 'kind': 'song', 'artistId': 115234, 'collectionId': 1450270988, 'trackId': 1450271000, 'artistName': 'Weezer', 'collectionName': 'Weezer (Teal Album)', 'trackName': 'Africa', 'collectionCensoredName': 'Weezer (Teal Album)', 'trackCensoredName': 'Africa', 'artistViewUrl': 'https://music.apple.com/us/artist/weezer/115234?uo=4', 'collectionViewUrl': 'https://music.apple.com/us/album/africa/1450270988?i=1450271000&uo=4', 'trackViewUrl': 'https://music.apple.com/us/album/africa/1450270988?i=1450271000&uo=4', 'previewUrl': 'https://audio-ssl.itunes.apple.com/itunes-assets/AudioPreview125/v4/0f/ff/46/0fff46ba-c2a7-be79-b2cc-7d4988f684db/mzaf_5487729281137965699.plus.aac.p.m4a', 'artworkUrl30': 'https://is1-ssl.mzstatic.com/image/thumb/Music114/v4/97/e6/70/97e670f6-361b-a23d-617a-52bafcd631cd/075679854247.jpg/30x30bb.jpg', 'artworkUrl60': 'https://is1-ssl.mzstatic.com/image/thumb/Music114/v4/97/e6/70/97e670f6-361b-a23d-617a-52bafcd631cd/075679854247.jpg/60x60bb.jpg', 'artworkUrl100': 'https://is1-ssl.mzstatic.com/image/thumb/Music114/v4/97/e6/70/97e670f6-361b-a23d-617a-52bafcd631cd/075679854247.jpg/100x100bb.jpg', 'collectionPrice': 9.99, 'trackPrice': 1.29, 'releaseDate': '2018-05-29T12:00:00Z', 'collectionExplicitness': 'notExplicit', 'trackExplicitness': 'notExplicit', 'discCount': 1, 'discNumber': 1, 'trackCount': 10, 'trackNumber': 1, 'trackTimeMillis': 238627, 'country': 'USA', 'currency': 'USD', 'primaryGenreName': 'Alternative', 'isStreamable': True}, {'wrapperType': 'track', 'kind': 'song', 'artistId': 115234, 'collectionId': 1440869641, 'trackId': 1440869926, 'artistName': 'Weezer', 'collectionName': 'Weezer (Deluxe Edition)', 'trackName': \"Say It Ain't So (Remix)\", 'collectionCensoredName': 'Weezer (Deluxe Edition)', 'trackCensoredName': \"Say It Ain't So (Remix)\", 'artistViewUrl': 'https://music.apple.com/us/artist/weezer/115234?uo=4', 'collectionViewUrl': 'https://music.apple.com/us/album/say-it-aint-so-remix/1440869641?i=1440869926&uo=4', 'trackViewUrl': 'https://music.apple.com/us/album/say-it-aint-so-remix/1440869641?i=1440869926&uo=4', 'previewUrl': 'https://audio-ssl.itunes.apple.com/itunes-assets/AudioPreview211/v4/e7/ec/52/e7ec524b-5f5d-26d9-74fe-6eb344ff61a9/mzaf_1305883212023951994.plus.aac.p.m4a', 'artworkUrl30': 'https://is1-ssl.mzstatic.com/image/thumb/Music113/v4/98/ef/02/98ef026e-7d73-f8ce-90d0-b41371ad20aa/16UMGIM52970.rgb.jpg/30x30bb.jpg', 'artworkUrl60': 'https://is1-ssl.mzstatic.com/image/thumb/Music113/v4/98/ef/02/98ef026e-7d73-f8ce-90d0-b41371ad20aa/16UMGIM52970.rgb.jpg/60x60bb.jpg', 'artworkUrl100': 'https://is1-ssl.mzstatic.com/image/thumb/Music113/v4/98/ef/02/98ef026e-7d73-f8ce-90d0-b41371ad20aa/16UMGIM52970.rgb.jpg/100x100bb.jpg', 'collectionPrice': 14.99, 'trackPrice': 1.29, 'releaseDate': '1994-05-10T12:00:00Z', 'collectionExplicitness': 'notExplicit', 'trackExplicitness': 'notExplicit', 'discCount': 2, 'discNumber': 1, 'trackCount': 10, 'trackNumber': 7, 'trackTimeMillis': 258853, 'country': 'USA', 'currency': 'USD', 'primaryGenreName': 'Rock', 'isStreamable': True}, {'wrapperType': 'track', 'kind': 'song', 'artistId': 115234, 'collectionId': 1440869641, 'trackId': 1440869938, 'artistName': 'Weezer', 'collectionName': 'Weezer (Deluxe Edition)', 'trackName': 'Susanne (Single Version)', 'collectionCensoredName': 'Weezer (Deluxe Edition)', 'trackCensoredName': 'Susanne (Single Version)', 'artistViewUrl': 'https://music.apple.com/us/artist/weezer/115234?uo=4', 'collectionViewUrl': 'https://music.apple.com/us/album/susanne-single-version/1440869641?i=1440869938&uo=4', 'trackViewUrl': 'https://music.apple.com/us/album/susanne-single-version/1440869641?i=1440869938&uo=4', 'previewUrl': 'https://audio-ssl.itunes.apple.com/itunes-assets/AudioPreview221/v4/c0/83/32/c0833241-6d00-ecc3-c6a6-eb1bcbf506b0/mzaf_12722381056458314026.plus.aac.p.m4a', 'artworkUrl30': 'https://is1-ssl.mzstatic.com/image/thumb/Music113/v4/98/ef/02/98ef026e-7d73-f8ce-90d0-b41371ad20aa/16UMGIM52970.rgb.jpg/30x30bb.jpg', 'artworkUrl60': 'https://is1-ssl.mzstatic.com/image/thumb/Music113/v4/98/ef/02/98ef026e-7d73-f8ce-90d0-b41371ad20aa/16UMGIM52970.rgb.jpg/60x60bb.jpg', 'artworkUrl100': 'https://is1-ssl.mzstatic.com/image/thumb/Music113/v4/98/ef/02/98ef026e-7d73-f8ce-90d0-b41371ad20aa/16UMGIM52970.rgb.jpg/100x100bb.jpg', 'collectionPrice': 14.99, 'trackPrice': 1.29, 'releaseDate': '1995-10-17T12:00:00Z', 'collectionExplicitness': 'notExplicit', 'trackExplicitness': 'notExplicit', 'discCount': 2, 'discNumber': 2, 'trackCount': 14, 'trackNumber': 2, 'trackTimeMillis': 167427, 'country': 'USA', 'currency': 'USD', 'primaryGenreName': 'Rock', 'isStreamable': True}, {'wrapperType': 'track', 'kind': 'song', 'artistId': 115234, 'collectionId': 1440869641, 'trackId': 1440869927, 'artistName': 'Weezer', 'collectionName': 'Weezer (Deluxe Edition)', 'trackName': 'In the Garage', 'collectionCensoredName': 'Weezer (Deluxe Edition)', 'trackCensoredName': 'In the Garage', 'artistViewUrl': 'https://music.apple.com/us/artist/weezer/115234?uo=4', 'collectionViewUrl': 'https://music.apple.com/us/album/in-the-garage/1440869641?i=1440869927&uo=4', 'trackViewUrl': 'https://music.apple.com/us/album/in-the-garage/1440869641?i=1440869927&uo=4', 'previewUrl': 'https://audio-ssl.itunes.apple.com/itunes-assets/AudioPreview221/v4/70/57/d9/7057d92c-8a73-7ddd-a992-fda68adb0e2a/mzaf_9151671130196530660.plus.aac.p.m4a', 'artworkUrl30': 'https://is1-ssl.mzstatic.com/image/thumb/Music113/v4/98/ef/02/98ef026e-7d73-f8ce-90d0-b41371ad20aa/16UMGIM52970.rgb.jpg/30x30bb.jpg', 'artworkUrl60': 'https://is1-ssl.mzstatic.com/image/thumb/Music113/v4/98/ef/02/98ef026e-7d73-f8ce-90d0-b41371ad20aa/16UMGIM52970.rgb.jpg/60x60bb.jpg', 'artworkUrl100': 'https://is1-ssl.mzstatic.com/image/thumb/Music113/v4/98/ef/02/98ef026e-7d73-f8ce-90d0-b41371ad20aa/16UMGIM52970.rgb.jpg/100x100bb.jpg', 'collectionPrice': 14.99, 'trackPrice': 1.29, 'releaseDate': '1994-05-10T12:00:00Z', 'collectionExplicitness': 'notExplicit', 'trackExplicitness': 'notExplicit', 'discCount': 2, 'discNumber': 1, 'trackCount': 10, 'trackNumber': 8, 'trackTimeMillis': 235973, 'country': 'USA', 'currency': 'USD', 'primaryGenreName': 'Pop', 'isStreamable': True}, {'wrapperType': 'track', 'kind': 'song', 'artistId': 115234, 'collectionId': 1450270988, 'trackId': 1450271321, 'artistName': 'Weezer', 'collectionName': 'Weezer (Teal Album)', 'trackName': 'Take on Me', 'collectionCensoredName': 'Weezer (Teal Album)', 'trackCensoredName': 'Take on Me', 'artistViewUrl': 'https://music.apple.com/us/artist/weezer/115234?uo=4', 'collectionViewUrl': 'https://music.apple.com/us/album/take-on-me/1450270988?i=1450271321&uo=4', 'trackViewUrl': 'https://music.apple.com/us/album/take-on-me/1450270988?i=1450271321&uo=4', 'previewUrl': 'https://audio-ssl.itunes.apple.com/itunes-assets/AudioPreview125/v4/99/c6/8e/99c68eb1-033e-1ed3-468c-f871591c27bf/mzaf_14044676931350767712.plus.aac.p.m4a', 'artworkUrl30': 'https://is1-ssl.mzstatic.com/image/thumb/Music114/v4/97/e6/70/97e670f6-361b-a23d-617a-52bafcd631cd/075679854247.jpg/30x30bb.jpg', 'artworkUrl60': 'https://is1-ssl.mzstatic.com/image/thumb/Music114/v4/97/e6/70/97e670f6-361b-a23d-617a-52bafcd631cd/075679854247.jpg/60x60bb.jpg', 'artworkUrl100': 'https://is1-ssl.mzstatic.com/image/thumb/Music114/v4/97/e6/70/97e670f6-361b-a23d-617a-52bafcd631cd/075679854247.jpg/100x100bb.jpg', 'collectionPrice': 9.99, 'trackPrice': 1.29, 'releaseDate': '2019-01-24T12:00:00Z', 'collectionExplicitness': 'notExplicit', 'trackExplicitness': 'notExplicit', 'discCount': 1, 'discNumber': 1, 'trackCount': 10, 'trackNumber': 4, 'trackTimeMillis': 223560, 'country': 'USA', 'currency': 'USD', 'primaryGenreName': 'Alternative', 'isStreamable': True}, {'wrapperType': 'track', 'kind': 'song', 'artistId': 115234, 'collectionId': 1440869641, 'trackId': 1440869649, 'artistName': 'Weezer', 'collectionName': 'Weezer (Deluxe Edition)', 'trackName': 'The World Has Turned and Left Me Here', 'collectionCensoredName': 'Weezer (Deluxe Edition)', 'trackCensoredName': 'The World Has Turned and Left Me Here', 'artistViewUrl': 'https://music.apple.com/us/artist/weezer/115234?uo=4', 'collectionViewUrl': 'https://music.apple.com/us/album/the-world-has-turned-and-left-me-here/1440869641?i=1440869649&uo=4', 'trackViewUrl': 'https://music.apple.com/us/album/the-world-has-turned-and-left-me-here/1440869641?i=1440869649&uo=4', 'previewUrl': 'https://audio-ssl.itunes.apple.com/itunes-assets/AudioPreview211/v4/3d/bd/5d/3dbd5d4e-ab80-9b66-db0b-36ac3ce55620/mzaf_2759332797234621604.plus.aac.p.m4a', 'artworkUrl30': 'https://is1-ssl.mzstatic.com/image/thumb/Music113/v4/98/ef/02/98ef026e-7d73-f8ce-90d0-b41371ad20aa/16UMGIM52970.rgb.jpg/30x30bb.jpg', 'artworkUrl60': 'https://is1-ssl.mzstatic.com/image/thumb/Music113/v4/98/ef/02/98ef026e-7d73-f8ce-90d0-b41371ad20aa/16UMGIM52970.rgb.jpg/60x60bb.jpg', 'artworkUrl100': 'https://is1-ssl.mzstatic.com/image/thumb/Music113/v4/98/ef/02/98ef026e-7d73-f8ce-90d0-b41371ad20aa/16UMGIM52970.rgb.jpg/100x100bb.jpg', 'collectionPrice': 14.99, 'trackPrice': 1.29, 'releaseDate': '1994-05-10T12:00:00Z', 'collectionExplicitness': 'notExplicit', 'trackExplicitness': 'notExplicit', 'discCount': 2, 'discNumber': 1, 'trackCount': 10, 'trackNumber': 3, 'trackTimeMillis': 258373, 'country': 'USA', 'currency': 'USD', 'primaryGenreName': 'Pop', 'isStreamable': True}, {'wrapperType': 'track', 'kind': 'song', 'artistId': 115234, 'collectionId': 1440869641, 'trackId': 1440869645, 'artistName': 'Weezer', 'collectionName': 'Weezer (Deluxe Edition)', 'trackName': 'My Name Is Jonas', 'collectionCensoredName': 'Weezer (Deluxe Edition)', 'trackCensoredName': 'My Name Is Jonas', 'artistViewUrl': 'https://music.apple.com/us/artist/weezer/115234?uo=4', 'collectionViewUrl': 'https://music.apple.com/us/album/my-name-is-jonas/1440869641?i=1440869645&uo=4', 'trackViewUrl': 'https://music.apple.com/us/album/my-name-is-jonas/1440869641?i=1440869645&uo=4', 'previewUrl': 'https://audio-ssl.itunes.apple.com/itunes-assets/AudioPreview211/v4/59/e9/98/59e99842-ec11-d8c1-1526-f5a85c9bb7b9/mzaf_3661949392690909707.plus.aac.p.m4a', 'artworkUrl30': 'https://is1-ssl.mzstatic.com/image/thumb/Music113/v4/98/ef/02/98ef026e-7d73-f8ce-90d0-b41371ad20aa/16UMGIM52970.rgb.jpg/30x30bb.jpg', 'artworkUrl60': 'https://is1-ssl.mzstatic.com/image/thumb/Music113/v4/98/ef/02/98ef026e-7d73-f8ce-90d0-b41371ad20aa/16UMGIM52970.rgb.jpg/60x60bb.jpg', 'artworkUrl100': 'https://is1-ssl.mzstatic.com/image/thumb/Music113/v4/98/ef/02/98ef026e-7d73-f8ce-90d0-b41371ad20aa/16UMGIM52970.rgb.jpg/100x100bb.jpg', 'collectionPrice': 14.99, 'trackPrice': 1.29, 'releaseDate': '1994-05-10T12:00:00Z', 'collectionExplicitness': 'notExplicit', 'trackExplicitness': 'notExplicit', 'discCount': 2, 'discNumber': 1, 'trackCount': 10, 'trackNumber': 1, 'trackTimeMillis': 203960, 'country': 'USA', 'currency': 'USD', 'primaryGenreName': 'Pop', 'isStreamable': True}, {'wrapperType': 'track', 'kind': 'song', 'artistId': 115234, 'collectionId': 1440869641, 'trackId': 1440869921, 'artistName': 'Weezer', 'collectionName': 'Weezer (Deluxe Edition)', 'trackName': 'Buddy Holly', 'collectionCensoredName': 'Weezer (Deluxe Edition)', 'trackCensoredName': 'Buddy Holly', 'artistViewUrl': 'https://music.apple.com/us/artist/weezer/115234?uo=4', 'collectionViewUrl': 'https://music.apple.com/us/album/buddy-holly/1440869641?i=1440869921&uo=4', 'trackViewUrl': 'https://music.apple.com/us/album/buddy-holly/1440869641?i=1440869921&uo=4', 'previewUrl': 'https://audio-ssl.itunes.apple.com/itunes-assets/AudioPreview221/v4/91/d1/96/91d19689-c4c7-12c5-ebf3-8f46f8fa04e1/mzaf_18089587574699917093.plus.aac.p.m4a', 'artworkUrl30': 'https://is1-ssl.mzstatic.com/image/thumb/Music113/v4/98/ef/02/98ef026e-7d73-f8ce-90d0-b41371ad20aa/16UMGIM52970.rgb.jpg/30x30bb.jpg', 'artworkUrl60': 'https://is1-ssl.mzstatic.com/image/thumb/Music113/v4/98/ef/02/98ef026e-7d73-f8ce-90d0-b41371ad20aa/16UMGIM52970.rgb.jpg/60x60bb.jpg', 'artworkUrl100': 'https://is1-ssl.mzstatic.com/image/thumb/Music113/v4/98/ef/02/98ef026e-7d73-f8ce-90d0-b41371ad20aa/16UMGIM52970.rgb.jpg/100x100bb.jpg', 'collectionPrice': 14.99, 'trackPrice': 1.29, 'releaseDate': '1994-05-10T12:00:00Z', 'collectionExplicitness': 'notExplicit', 'trackExplicitness': 'notExplicit', 'discCount': 2, 'discNumber': 1, 'trackCount': 10, 'trackNumber': 4, 'trackTimeMillis': 159587, 'country': 'USA', 'currency': 'USD', 'primaryGenreName': 'Pop', 'isStreamable': True}]}\n",
      "<class 'dict'>\n"
     ]
    }
   ],
   "source": [
    "print(response.json())\n",
    "print(type(response.json())) #<class 'dict'>"
   ]
  },
  {
   "cell_type": "code",
   "execution_count": 50,
   "id": "d72f425a",
   "metadata": {},
   "outputs": [
    {
     "name": "stdout",
     "output_type": "stream",
     "text": [
      "{\n",
      "  \"resultCount\": 1,\n",
      "  \"results\": [\n",
      "    {\n",
      "      \"wrapperType\": \"track\",\n",
      "      \"kind\": \"song\",\n",
      "      \"artistId\": 115234,\n",
      "      \"collectionId\": 1440878798,\n",
      "      \"trackId\": 1440879551,\n",
      "      \"artistName\": \"Weezer\",\n",
      "      \"collectionName\": \"Weezer\",\n",
      "      \"trackName\": \"Say It Ain't So\",\n",
      "      \"collectionCensoredName\": \"Weezer\",\n",
      "      \"trackCensoredName\": \"Say It Ain't So\",\n",
      "      \"artistViewUrl\": \"https://music.apple.com/us/artist/weezer/115234?uo=4\",\n",
      "      \"collectionViewUrl\": \"https://music.apple.com/us/album/say-it-aint-so/1440878798?i=1440879551&uo=4\",\n",
      "      \"trackViewUrl\": \"https://music.apple.com/us/album/say-it-aint-so/1440878798?i=1440879551&uo=4\",\n",
      "      \"previewUrl\": \"https://audio-ssl.itunes.apple.com/itunes-assets/AudioPreview211/v4/11/23/6f/11236f0d-9b5a-b780-5ebb-56c1dc512e3a/mzaf_11156035496161349512.plus.aac.p.m4a\",\n",
      "      \"artworkUrl30\": \"https://is1-ssl.mzstatic.com/image/thumb/Music221/v4/d0/16/da/d016da24-577e-b584-3a5a-116efb5ca362/16UMGIM52971.rgb.jpg/30x30bb.jpg\",\n",
      "      \"artworkUrl60\": \"https://is1-ssl.mzstatic.com/image/thumb/Music221/v4/d0/16/da/d016da24-577e-b584-3a5a-116efb5ca362/16UMGIM52971.rgb.jpg/60x60bb.jpg\",\n",
      "      \"artworkUrl100\": \"https://is1-ssl.mzstatic.com/image/thumb/Music221/v4/d0/16/da/d016da24-577e-b584-3a5a-116efb5ca362/16UMGIM52971.rgb.jpg/100x100bb.jpg\",\n",
      "      \"collectionPrice\": 10.99,\n",
      "      \"trackPrice\": 1.29,\n",
      "      \"releaseDate\": \"1994-05-10T12:00:00Z\",\n",
      "      \"collectionExplicitness\": \"notExplicit\",\n",
      "      \"trackExplicitness\": \"notExplicit\",\n",
      "      \"discCount\": 1,\n",
      "      \"discNumber\": 1,\n",
      "      \"trackCount\": 10,\n",
      "      \"trackNumber\": 7,\n",
      "      \"trackTimeMillis\": 258853,\n",
      "      \"country\": \"USA\",\n",
      "      \"currency\": \"USD\",\n",
      "      \"primaryGenreName\": \"Rock\",\n",
      "      \"isStreamable\": true\n",
      "    }\n",
      "  ]\n",
      "}\n"
     ]
    }
   ],
   "source": [
    "import json\n",
    "print(json.dumps(response.json(),indent=2))"
   ]
  },
  {
   "cell_type": "code",
   "execution_count": 55,
   "id": "d99bc510",
   "metadata": {},
   "outputs": [
    {
     "name": "stdout",
     "output_type": "stream",
     "text": [
      "Buddy Holly\n",
      "Say It Ain't So\n"
     ]
    }
   ],
   "source": [
    "#lets try to find track name (my way)\n",
    "result_dict=response.json()\n",
    "print(result_dict['results'][0]['trackName'])\n",
    "print(result_dict['results'][1]['trackName'])"
   ]
  },
  {
   "cell_type": "code",
   "execution_count": 56,
   "id": "8f6e5c27",
   "metadata": {},
   "outputs": [
    {
     "name": "stdout",
     "output_type": "stream",
     "text": [
      "Buddy Holly\n",
      "Say It Ain't So\n",
      "Undone - The Sweater Song\n",
      "My Name Is Jonas\n",
      "Weezer\n",
      "Holiday\n",
      "Surf Wax America\n",
      "The World Has Turned and Left Me Here\n",
      "Only in Dreams\n",
      "In the Garage\n",
      "No One Else\n",
      "Lost in the Woods (Weezer Version)\n",
      "Sundown\n",
      "Say It Ain't So\n",
      "Africa\n",
      "Say It Ain't So (Remix)\n",
      "Susanne (Single Version)\n",
      "In the Garage\n",
      "Take on Me\n",
      "The World Has Turned and Left Me Here\n",
      "My Name Is Jonas\n",
      "Buddy Holly\n"
     ]
    }
   ],
   "source": [
    "for data in result_dict['results']:\n",
    "    print(data['trackName'])"
   ]
  },
  {
   "cell_type": "code",
   "execution_count": 1,
   "id": "17d17e56",
   "metadata": {},
   "outputs": [],
   "source": [
    "# we can make our libarary as well"
   ]
  },
  {
   "cell_type": "code",
   "execution_count": 3,
   "id": "28b7cf38",
   "metadata": {},
   "outputs": [
    {
     "data": {
      "text/plain": [
       "'\\nModules\\nAny .py file is a module.\\nExample: math.py, my_utils.py\\n'"
      ]
     },
     "execution_count": 3,
     "metadata": {},
     "output_type": "execute_result"
    }
   ],
   "source": [
    "'''\n",
    "Modules\n",
    "Any .py file is a module.\n",
    "Example: math.py, my_utils.py\n",
    "'''"
   ]
  },
  {
   "cell_type": "code",
   "execution_count": 4,
   "id": "254cfb47",
   "metadata": {},
   "outputs": [
    {
     "data": {
      "text/plain": [
       "'\\nPackages\\nA folder containing multiple .py files (modules) and an __init__.py file.\\n__init__.py makes Python treat the folder as a package.\\n'"
      ]
     },
     "execution_count": 4,
     "metadata": {},
     "output_type": "execute_result"
    }
   ],
   "source": [
    "'''\n",
    "Packages\n",
    "A folder containing multiple .py files (modules) and an __init__.py file.\n",
    "__init__.py makes Python treat the folder as a package.\n",
    "'''"
   ]
  },
  {
   "cell_type": "code",
   "execution_count": 5,
   "id": "0aa7e0ff",
   "metadata": {},
   "outputs": [
    {
     "data": {
      "text/plain": [
       "'\\nLibrary\\nA collection of modules and/or packages designed for a specific use.\\nLibraries like NumPy, Pandas, Requests contain many modules and packages under the hood.\\n'"
      ]
     },
     "execution_count": 5,
     "metadata": {},
     "output_type": "execute_result"
    }
   ],
   "source": [
    "'''\n",
    "Library\n",
    "A collection of modules and/or packages designed for a specific use.\n",
    "Libraries like NumPy, Pandas, Requests contain many modules and packages under the hood.\n",
    "'''"
   ]
  },
  {
   "cell_type": "code",
   "execution_count": null,
   "id": "8de72ac5",
   "metadata": {},
   "outputs": [
    {
     "data": {
      "text/plain": [
       "''"
      ]
     },
     "execution_count": 6,
     "metadata": {},
     "output_type": "execute_result"
    }
   ],
   "source": [
    "'''\n",
    "__main__\n",
    "When you run a script directly, __name__ == \"__main__\".\n",
    "When you import that same script as a module, __name__ becomes the module's name.\n",
    "Helps prevent certain code from running during imports (commonly used to guard the main() function).\n",
    "'''"
   ]
  }
 ],
 "metadata": {
  "kernelspec": {
   "display_name": "Python 3",
   "language": "python",
   "name": "python3"
  },
  "language_info": {
   "codemirror_mode": {
    "name": "ipython",
    "version": 3
   },
   "file_extension": ".py",
   "mimetype": "text/x-python",
   "name": "python",
   "nbconvert_exporter": "python",
   "pygments_lexer": "ipython3",
   "version": "3.13.3"
  }
 },
 "nbformat": 4,
 "nbformat_minor": 5
}
