{
 "cells": [
  {
   "cell_type": "code",
   "execution_count": null,
   "id": "bf415feb",
   "metadata": {},
   "outputs": [
    {
     "name": "stdout",
     "output_type": "stream",
     "text": [
      "['Jhon', 'Jack', 'Anthony']\n"
     ]
    }
   ],
   "source": [
    "# As soon as program runs we lost all data because data store in computer memories\n",
    "# hence file required to persitant the data\n",
    "\n",
    "#Lists\n",
    "\n",
    "names=[]\n",
    "\n",
    "for _ in range(3):\n",
    "    name=input(\"What's your name? \")\n",
    "    names.append(name)\n",
    "\n",
    "print(names)"
   ]
  },
  {
   "cell_type": "code",
   "execution_count": 2,
   "id": "bd7cf378",
   "metadata": {},
   "outputs": [
    {
     "name": "stdout",
     "output_type": "stream",
     "text": [
      "Hello, Anthony\n",
      "Hello, Jack\n",
      "Hello, Jhon\n"
     ]
    }
   ],
   "source": [
    "#lets sort the names and then display\n",
    "for name in sorted(names):\n",
    "    print(f\"Hello, {name}\")"
   ]
  },
  {
   "cell_type": "code",
   "execution_count": 2,
   "id": "b5d2fcb9",
   "metadata": {},
   "outputs": [],
   "source": [
    "#Now we know if i run program again all the names will lost\n",
    "#let's add names into a file\n",
    "\n",
    "name=input(\"What's your name?\")\n",
    "\n",
    "file=open(\"names.txt\",\"w\")\n",
    "# \"w\" it will re create file every time we run and from start it will\n",
    "# add the name into the file hence only the last content is available \n",
    "# inside the file how to solve change the mode of file opening in append mode\n",
    "file.write(name)\n",
    "file.close()\n"
   ]
  },
  {
   "cell_type": "code",
   "execution_count": null,
   "id": "5ba4684b",
   "metadata": {},
   "outputs": [],
   "source": [
    "name=input(\"What's your name? \")\n",
    "\n",
    "file=open(\"names1.text\",\"a\")\n",
    "file.write(name)\n",
    "file.close()\n",
    "\n",
    "#here also we have new issue all values are concatinated in one line \n",
    "# names1.txt look likes JhonJackAnthony"
   ]
  },
  {
   "cell_type": "code",
   "execution_count": null,
   "id": "b7bc7967",
   "metadata": {},
   "outputs": [],
   "source": [
    "name=input(\"What's your name? \")\n",
    "\n",
    "file=open(\"names2.txt\",\"a\")\n",
    "file.write(f\"{name}\\n\")\n",
    "file.close()\n",
    "\n",
    "'''\n",
    "names2.txt look likes\n",
    "\n",
    "Jack\n",
    "Anthony\n",
    "Kile\n",
    "\n",
    "'''"
   ]
  },
  {
   "cell_type": "code",
   "execution_count": 3,
   "id": "ec5bab6c",
   "metadata": {},
   "outputs": [],
   "source": [
    "name=input(\"What's your name? \")\n",
    "\n",
    "with open(\"names2.txt\",\"a\") as file:\n",
    "    file.write(f\"{name}\\n\")"
   ]
  },
  {
   "cell_type": "code",
   "execution_count": 9,
   "id": "cdecf1ff",
   "metadata": {},
   "outputs": [
    {
     "name": "stdout",
     "output_type": "stream",
     "text": [
      "Hello, Jack\n",
      "Hello, Anthony\n",
      "Hello, Kile\n",
      "Hello, Maa Alopi Devi\n",
      "Hello, Maa Sati\n",
      "Hello, Maa Parvati\n"
     ]
    }
   ],
   "source": [
    "# how to read a file?\n",
    "# let's do it using readlines method\n",
    "\n",
    "with open(\"names2.txt\") as file:\n",
    "    lines=file.readlines()\n",
    "\n",
    "    for line in lines:\n",
    "        print(f\"Hello, {line}\", end=\"\")"
   ]
  },
  {
   "cell_type": "code",
   "execution_count": 10,
   "id": "ad30817a",
   "metadata": {},
   "outputs": [
    {
     "name": "stdout",
     "output_type": "stream",
     "text": [
      "Hello, Jack\n",
      "Hello, Anthony\n",
      "Hello, Kile\n",
      "Hello, Maa Alopi Devi\n",
      "Hello, Maa Sati\n",
      "Hello, Maa Parvati\n"
     ]
    }
   ],
   "source": [
    "# how to read a file?\n",
    "# let's do it using readlines method\n",
    "\n",
    "with open(\"names2.txt\") as file:\n",
    "    lines=file.readlines()\n",
    "\n",
    "    for line in lines:\n",
    "        print(f\"Hello, {line.rstrip()}\")"
   ]
  },
  {
   "cell_type": "code",
   "execution_count": 11,
   "id": "bf71ea02",
   "metadata": {},
   "outputs": [
    {
     "name": "stdout",
     "output_type": "stream",
     "text": [
      "Jack\n",
      "Anthony\n",
      "Kile\n",
      "Maa Alopi Devi\n",
      "Maa Sati\n",
      "Maa Parvati\n"
     ]
    }
   ],
   "source": [
    "# it is no neccessary to use readlines method\n",
    "# the file alias itself we can use for loop\n",
    "# to iterate over the lines. Let's see demo\n",
    "\n",
    "with open(\"names2.txt\") as file:\n",
    "    for line in file:\n",
    "        print(line.rstrip())"
   ]
  },
  {
   "cell_type": "code",
   "execution_count": 14,
   "id": "1c922e3b",
   "metadata": {},
   "outputs": [
    {
     "name": "stdout",
     "output_type": "stream",
     "text": [
      "Hello, Anthony\n",
      "Hello, Jack\n",
      "Hello, Kile\n",
      "Hello, Maa Alopi Devi\n",
      "Hello, Maa Parvati\n",
      "Hello, Maa Sati\n"
     ]
    }
   ],
   "source": [
    "# let's try to read the file with all the names in the\n",
    "# the sorted way may be we can do it multiple way but\n",
    "# lets store all the content of the file into a list\n",
    "# and then we know a method on list to sort the list content\n",
    "\n",
    "names=[]\n",
    "\n",
    "with open(\"names2.txt\") as file:\n",
    "    for line in file:\n",
    "        names.append(line.rstrip())\n",
    "\n",
    "for name in sorted(names):\n",
    "        print(f\"Hello, {name}\")"
   ]
  },
  {
   "cell_type": "code",
   "execution_count": 16,
   "id": "de7a6b66",
   "metadata": {},
   "outputs": [
    {
     "name": "stdout",
     "output_type": "stream",
     "text": [
      "Jai, Anthony\n",
      "Jai, Jack\n",
      "Jai, Kile\n",
      "Jai, Maa Alopi Devi\n",
      "Jai, Maa Parvati\n",
      "Jai, Maa Sati\n"
     ]
    }
   ],
   "source": [
    "# another approach to print names in sorted way\n",
    "\n",
    "with open(\"names2.txt\") as file:\n",
    "    for line in sorted(file):\n",
    "        print(f\"Jai, {line.rstrip()}\")\n",
    "\n",
    "# but this approach is might not good in some cases like if we\n",
    "# want to do some data preprocessing before sorting like adding\n",
    "# removing something then we need to store all file content first\n"
   ]
  },
  {
   "cell_type": "code",
   "execution_count": 18,
   "id": "694aec86",
   "metadata": {},
   "outputs": [
    {
     "name": "stdout",
     "output_type": "stream",
     "text": [
      "Maa Sati\n",
      "Maa Parvati\n",
      "Maa Alopi Devi\n",
      "Kile\n",
      "Jack\n",
      "Anthony\n"
     ]
    }
   ],
   "source": [
    "# lets try to print in reverse order\n",
    "\n",
    "with open(\"names2.txt\") as file:\n",
    "    for line in sorted(file,reverse=True):\n",
    "        print(line.rstrip())"
   ]
  },
  {
   "cell_type": "code",
   "execution_count": 19,
   "id": "eddf94a9",
   "metadata": {},
   "outputs": [
    {
     "name": "stdout",
     "output_type": "stream",
     "text": [
      "Modi born in Gujrat India\n",
      "Rahul born in Delhi India\n",
      "Lalu born in Bihar India\n",
      "Devendra born in Maharashtra India\n",
      "Akash born in Maharashtra India\n"
     ]
    }
   ],
   "source": [
    "# lets try to read .csv file (names.csv)\n",
    "\n",
    "with open('names.csv') as file:\n",
    "    for line in file:\n",
    "        name,born_state=line.rstrip().split(\",\")\n",
    "        print(f\"{name} born in {born_state} India\")"
   ]
  },
  {
   "cell_type": "code",
   "execution_count": 24,
   "id": "bb518251",
   "metadata": {},
   "outputs": [
    {
     "name": "stdout",
     "output_type": "stream",
     "text": [
      "Akash born in Maharashtra India\n",
      "Devendra born in Maharashtra India\n",
      "Lalu born in Bihar India\n",
      "Modi born in Gujrat India\n",
      "Rahul born in Delhi India\n"
     ]
    }
   ],
   "source": [
    "# lets display names in sorted way\n",
    "# yes we can directly use sorted(names) or sorted(file)\n",
    "# to get sorted data but it little sloppy what if i want\n",
    "# to sort using names\n",
    "\n",
    "names=[]\n",
    "\n",
    "with open(\"names.csv\") as file:\n",
    "    for line in file:\n",
    "        name,born_state=line.rstrip().split(\",\")\n",
    "        names.append(f\"{name} born in {born_state} India\")\n",
    "\n",
    "for name in sorted(names):\n",
    "    print(name)\n",
    "\n"
   ]
  },
  {
   "cell_type": "code",
   "execution_count": 31,
   "id": "61787fee",
   "metadata": {},
   "outputs": [
    {
     "name": "stdout",
     "output_type": "stream",
     "text": [
      "Lalu born in Bihar India\n",
      "Rahul born in Delhi India\n",
      "Modi born in Gujrat India\n",
      "Devendra born in Maharashtra India\n",
      "Akash born in Maharashtra India\n"
     ]
    }
   ],
   "source": [
    "# let's try to sort using names/state\n",
    "\n",
    "names=[]\n",
    "\n",
    "with open(\"names.csv\") as file:\n",
    "    for line in file:\n",
    "        name,born_state=line.rstrip().split(\",\")\n",
    "        names.append({\"name\":name,\"state\":born_state})\n",
    "\n",
    "'''\n",
    "I have called this function with key attribute what sorted function\n",
    "actually do it will call this function with all the elements and this\n",
    "function is returning the name of elements(dict)\n",
    "'''\n",
    "def get_name(name):\n",
    "    return name['name']\n",
    "\n",
    "def get_state(name):\n",
    "    return name['state']\n",
    "\n",
    "for name in sorted(names,key=get_state):\n",
    "    print(f\"{name['name']} born in {name['state']} India\")"
   ]
  },
  {
   "cell_type": "code",
   "execution_count": 32,
   "id": "5bd8445b",
   "metadata": {},
   "outputs": [
    {
     "name": "stdout",
     "output_type": "stream",
     "text": [
      "Akash born in Maharashtra India\n",
      "Devendra born in Maharashtra India\n",
      "Lalu born in Bihar India\n",
      "Modi born in Gujrat India\n",
      "Rahul born in Delhi India\n"
     ]
    }
   ],
   "source": [
    "# we can use lambda function instead of get_name since we\n",
    "# are using this function only one time so we can use it some\n",
    "# conssice way to write a function\n",
    "\n",
    "names=[]\n",
    "\n",
    "with open(\"names.csv\") as file:\n",
    "    for line in file:\n",
    "        name,born_state=line.rstrip().split(\",\")\n",
    "        names.append({\"name\":name,\"state\":born_state})\n",
    "\n",
    "\n",
    "for name in sorted(names,key=lambda x:x['name']):\n",
    "    print(f\"{name['name']} born in {name['state']} India\")"
   ]
  },
  {
   "cell_type": "code",
   "execution_count": 37,
   "id": "959d1534",
   "metadata": {},
   "outputs": [
    {
     "data": {
      "text/plain": [
       "'\\nOkay that\\'s great but what if some of the vlaues content the comma\\nit self then how my split function will work?\\n\\nModi, Gujrat, BA,in Political Science\\nHere is issue\\nHighest education itself content , it will break the my splitting logic\\nso we can write(or generally csv files have) like this\\nModi, Gujrat, \"BA,in Political Science\"\\n\\nBut still if we use our logic split(\",\") to read the file we will get error (see below example)\\nhence we have a library to read write into csv files without thinking \\nabout such corner cases\\n\\n'"
      ]
     },
     "execution_count": 37,
     "metadata": {},
     "output_type": "execute_result"
    }
   ],
   "source": [
    "'''\n",
    "Okay that's great but what if some of the vlaues content the comma\n",
    "it self then how my split function will work?\n",
    "\n",
    "Modi, Gujrat, BA,in Political Science\n",
    "Here is issue\n",
    "Highest education itself content , it will break the my splitting logic\n",
    "so we can write(or generally csv files have) like this\n",
    "Modi, Gujrat, \"BA,in Political Science\"\n",
    "\n",
    "But still if we use our logic split(\",\") to read the file we will get error (see below example)\n",
    "hence we have a library to read write into csv files without thinking \n",
    "about such corner cases\n",
    "\n",
    "'''"
   ]
  },
  {
   "cell_type": "code",
   "execution_count": 36,
   "id": "a6dd6fd5",
   "metadata": {},
   "outputs": [
    {
     "ename": "ValueError",
     "evalue": "too many values to unpack (expected 3)",
     "output_type": "error",
     "traceback": [
      "\u001b[31m---------------------------------------------------------------------------\u001b[39m",
      "\u001b[31mValueError\u001b[39m                                Traceback (most recent call last)",
      "\u001b[36mCell\u001b[39m\u001b[36m \u001b[39m\u001b[32mIn[36]\u001b[39m\u001b[32m, line 5\u001b[39m\n\u001b[32m      3\u001b[39m \u001b[38;5;28;01mwith\u001b[39;00m \u001b[38;5;28mopen\u001b[39m(\u001b[33m\"\u001b[39m\u001b[33mnames2.csv\u001b[39m\u001b[33m\"\u001b[39m) \u001b[38;5;28;01mas\u001b[39;00m file:\n\u001b[32m      4\u001b[39m     \u001b[38;5;28;01mfor\u001b[39;00m line \u001b[38;5;129;01min\u001b[39;00m file:\n\u001b[32m----> \u001b[39m\u001b[32m5\u001b[39m         name,born_state,degree=line.rstrip().split(\u001b[33m\"\u001b[39m\u001b[33m,\u001b[39m\u001b[33m\"\u001b[39m)\n\u001b[32m      6\u001b[39m         \u001b[38;5;28mprint\u001b[39m(\u001b[33mf\u001b[39m\u001b[33m\"\u001b[39m\u001b[33mName:\u001b[39m\u001b[38;5;132;01m{\u001b[39;00mname\u001b[38;5;132;01m}\u001b[39;00m\u001b[33m,State:\u001b[39m\u001b[38;5;132;01m{\u001b[39;00mborn_state\u001b[38;5;132;01m}\u001b[39;00m\u001b[33m,Degree:\u001b[39m\u001b[38;5;132;01m{\u001b[39;00mdegree\u001b[38;5;132;01m}\u001b[39;00m\u001b[33m\"\u001b[39m)\n",
      "\u001b[31mValueError\u001b[39m: too many values to unpack (expected 3)"
     ]
    }
   ],
   "source": [
    "names=[]\n",
    "\n",
    "with open(\"names2.csv\") as file:\n",
    "    for line in file:\n",
    "        name,born_state,degree=line.rstrip().split(\",\")\n",
    "        print(f\"Name:{name},State:{born_state},Degree:{degree}\")"
   ]
  },
  {
   "cell_type": "code",
   "execution_count": 40,
   "id": "43670859",
   "metadata": {},
   "outputs": [
    {
     "name": "stdout",
     "output_type": "stream",
     "text": [
      "<class 'list'>\n",
      "Name:Modi,State:Gujrat,Degree:BA, in political Science\n",
      "<class 'list'>\n",
      "Name:Rahul,State:Delhi,Degree:Don't know\n",
      "<class 'list'>\n",
      "Name:Lalu,State:Bihar,Degree:Uneducted\n",
      "<class 'list'>\n",
      "Name:Devendra,State:Maharashtra,Degree:BE\n",
      "<class 'list'>\n",
      "Name:Akash,State:Maharashtra,Degree:BE\n"
     ]
    }
   ],
   "source": [
    "'''\n",
    "let's read a file using a csv module with help of reader method\n",
    "'''\n",
    "\n",
    "import csv\n",
    "\n",
    "with open(\"names2.csv\") as file:\n",
    "    reader=csv.reader(file)\n",
    "    for row in reader:\n",
    "        print(type(row)) #list\n",
    "        print(f\"Name:{row[0]},State:{row[1]},Degree:{row[2]}\")"
   ]
  },
  {
   "cell_type": "code",
   "execution_count": 41,
   "id": "3004eacd",
   "metadata": {},
   "outputs": [
    {
     "name": "stdout",
     "output_type": "stream",
     "text": [
      "<class 'dict'>\n",
      "Name:Modi,State:Gujrat,Degree:BA, in political Science\n",
      "<class 'dict'>\n",
      "Name:Rahul,State:Delhi,Degree:Don't know\n",
      "<class 'dict'>\n",
      "Name:Lalu,State:Bihar,Degree:Uneducted\n",
      "<class 'dict'>\n",
      "Name:Devendra,State:Maharashtra,Degree:BE\n",
      "<class 'dict'>\n",
      "Name:Akash,State:Maharashtra,Degree:BE\n"
     ]
    }
   ],
   "source": [
    "# i have create a another csv file(names3.csv) here i have\n",
    "# added a heading to the csv by doing this we can use \n",
    "# DictReader to read the csv and it will make reading easy for us\n",
    "# like in previous case if order change names become state or something\n",
    "# different happenf then indexing will give us something weird result\n",
    "# but in this case even we switch the place but i am changin heading of file\n",
    "# also then we will not get any such weird result\n",
    "\n",
    "import csv\n",
    "\n",
    "with open(\"names3.csv\") as file:\n",
    "    reader=csv.DictReader(file)\n",
    "    for row in reader:\n",
    "        print(type(row)) #dict\n",
    "        print(f\"Name:{row['name']},State:{row['state']},Degree:{row['degree']}\")\n"
   ]
  },
  {
   "cell_type": "code",
   "execution_count": null,
   "id": "79b9a03f",
   "metadata": {},
   "outputs": [],
   "source": [
    "# let's see how we can write into the csv file\n",
    "\n",
    "name=input(\"What's name? \")\n",
    "state=input(\"What's state? \")\n",
    "\n",
    "with open(\"names4.csv\", \"a\") as file:\n",
    "    writer=csv.writer(file)\n",
    "    writer.writerow([name,state])\n",
    "\n",
    "'''\n",
    "On Windows, this causes csv.writer() to insert \\r\\n plus an extra newline, \n",
    "due to how newline handling works by default in text mode.\n",
    "\n",
    "Always use newline='' when writing CSV files in Python.\n",
    "'''"
   ]
  },
  {
   "cell_type": "code",
   "execution_count": 50,
   "id": "0b2d4412",
   "metadata": {},
   "outputs": [],
   "source": [
    "name=input(\"What's name? \")\n",
    "state=input(\"What's state? \")\n",
    "\n",
    "with open(\"names5.csv\", \"a\",newline='') as file:\n",
    "    writer=csv.writer(file)\n",
    "    writer.writerow([name,state])"
   ]
  },
  {
   "cell_type": "code",
   "execution_count": 56,
   "id": "e6474188",
   "metadata": {},
   "outputs": [],
   "source": [
    "# lets use DictWriter to write into a csv\n",
    "# orders in which the actuall content was written\n",
    "# this helpfull in case we are writing row with some different \n",
    "# order like below while writing a row we can pass state first then name\n",
    "#  since order is already  mention in fieldnames it will insert in same order only\n",
    "name=input(\"What's name? \")\n",
    "state=input(\"What's state? \")\n",
    "\n",
    "with open(\"names5.csv\",\"a\",newline=\"\") as file:\n",
    "    writer=csv.DictWriter(file,fieldnames=['name','state'])\n",
    "    writer.writerow({\"name\":name,\"state\":state})\n"
   ]
  },
  {
   "cell_type": "code",
   "execution_count": 1,
   "id": "17524722",
   "metadata": {},
   "outputs": [
    {
     "name": "stdout",
     "output_type": "stream",
     "text": [
      "Collecting pillow\n",
      "  Downloading pillow-11.2.1-cp313-cp313-win_amd64.whl.metadata (9.1 kB)\n",
      "Downloading pillow-11.2.1-cp313-cp313-win_amd64.whl (2.7 MB)\n",
      "   ---------------------------------------- 0.0/2.7 MB ? eta -:--:--\n",
      "   ---------------------------------------- 0.0/2.7 MB ? eta -:--:--\n",
      "   ---------------------------------------- 0.0/2.7 MB ? eta -:--:--\n",
      "   --- ------------------------------------ 0.3/2.7 MB ? eta -:--:--\n",
      "   --- ------------------------------------ 0.3/2.7 MB ? eta -:--:--\n",
      "   ------- -------------------------------- 0.5/2.7 MB 497.2 kB/s eta 0:00:05\n",
      "   ----------- ---------------------------- 0.8/2.7 MB 797.2 kB/s eta 0:00:03\n",
      "   ------------------- -------------------- 1.3/2.7 MB 1.1 MB/s eta 0:00:02\n",
      "   ------------------- -------------------- 1.3/2.7 MB 1.1 MB/s eta 0:00:02\n",
      "   ----------------------- ---------------- 1.6/2.7 MB 964.3 kB/s eta 0:00:02\n",
      "   --------------------------- ------------ 1.8/2.7 MB 956.2 kB/s eta 0:00:01\n",
      "   --------------------------- ------------ 1.8/2.7 MB 956.2 kB/s eta 0:00:01\n",
      "   ------------------------------- -------- 2.1/2.7 MB 933.3 kB/s eta 0:00:01\n",
      "   ----------------------------------- ---- 2.4/2.7 MB 913.7 kB/s eta 0:00:01\n",
      "   ----------------------------------- ---- 2.4/2.7 MB 913.7 kB/s eta 0:00:01\n",
      "   ---------------------------------------- 2.7/2.7 MB 897.8 kB/s eta 0:00:00\n",
      "Installing collected packages: pillow\n",
      "Successfully installed pillow-11.2.1\n"
     ]
    },
    {
     "name": "stderr",
     "output_type": "stream",
     "text": [
      "\n",
      "[notice] A new release of pip is available: 25.0.1 -> 25.1.1\n",
      "[notice] To update, run: python.exe -m pip install --upgrade pip\n"
     ]
    }
   ],
   "source": [
    "!pip install pillow"
   ]
  },
  {
   "cell_type": "code",
   "execution_count": null,
   "id": "9b86e17a",
   "metadata": {},
   "outputs": [],
   "source": [
    "import sys\n",
    "from PIL import Image\n",
    "\n",
    "images=[]\n",
    "\n"
   ]
  }
 ],
 "metadata": {
  "kernelspec": {
   "display_name": "Python 3",
   "language": "python",
   "name": "python3"
  },
  "language_info": {
   "codemirror_mode": {
    "name": "ipython",
    "version": 3
   },
   "file_extension": ".py",
   "mimetype": "text/x-python",
   "name": "python",
   "nbconvert_exporter": "python",
   "pygments_lexer": "ipython3",
   "version": "3.13.3"
  }
 },
 "nbformat": 4,
 "nbformat_minor": 5
}
