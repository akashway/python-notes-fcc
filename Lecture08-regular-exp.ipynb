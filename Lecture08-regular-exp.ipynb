{
 "cells": [
  {
   "cell_type": "code",
   "execution_count": null,
   "id": "4fb2730f",
   "metadata": {},
   "outputs": [
    {
     "name": "stdout",
     "output_type": "stream",
     "text": [
      "Valid\n",
      "valid\n"
     ]
    }
   ],
   "source": [
    "# lets' try to validate email\n",
    "\n",
    "# a email should content \"@\" symbol\n",
    "\n",
    "email1=\"a@gmail.com\"\n",
    "\n",
    "if \"@\" in email1:\n",
    "    print(\"Valid\")\n",
    "else:\n",
    "    print(\"Invalid\")\n",
    "\n",
    "\n",
    "#it would be valid if a single @ also there\n",
    "email2=\"@\"\n",
    "\n",
    "if '@' in email2:\n",
    "    print(\"valid\")\n",
    "else:\n",
    "    print(\"invalid\")"
   ]
  },
  {
   "cell_type": "code",
   "execution_count": null,
   "id": "83654e48",
   "metadata": {},
   "outputs": [
    {
     "name": "stdout",
     "output_type": "stream",
     "text": [
      "valid\n"
     ]
    }
   ],
   "source": [
    "#email also contain @ and .\n",
    "\n",
    "email3=\"akash@gmail.com\"\n",
    "if \"@\" in email3 and \".\" in email3:\n",
    "    print(\"valid\")\n",
    "else:\n",
    "    print(\"invalid\")\n",
    "\n",
    "# this will return valid even my dot is before that @ sign\n",
    "# so let's try to solve this"
   ]
  },
  {
   "cell_type": "code",
   "execution_count": null,
   "id": "b7ca24e6",
   "metadata": {},
   "outputs": [
    {
     "name": "stdout",
     "output_type": "stream",
     "text": [
      "valid\n"
     ]
    }
   ],
   "source": [
    "email4=\"akash@gmail.com\"\n",
    "\n",
    "username,domain=email4.split(\"@\")\n",
    "\n",
    "if (username) and (\".com\" in domain):\n",
    "    print(\"valid\")\n",
    "else:\n",
    "    print(\"invalid\")\n",
    "\n",
    "# now in above case it will check email should have username @ and aswell\n",
    "# .com in domain\n",
    "\n",
    "# suppose use write email like this akash@.com my above logic\n",
    "# makes it valid so doing such trial and error and wrting if makes\n",
    "# difficult let's go fo regular expression"
   ]
  },
  {
   "cell_type": "code",
   "execution_count": 2,
   "id": "835915db",
   "metadata": {},
   "outputs": [
    {
     "name": "stdout",
     "output_type": "stream",
     "text": [
      "valid\n"
     ]
    }
   ],
   "source": [
    "import re\n",
    "\n",
    "# re.search(pattern,string,flags=0)\n",
    "\n",
    "email5=\"a@a.com\"\n",
    "\n",
    "if re.search(\"@\",email5):\n",
    "    print(\"valid\")\n",
    "else:\n",
    "    print(\"Invalid\")\n",
    "\n",
    "# the above regular expression just search @ in string if it is there it will\n",
    "# it will print valid else not\n"
   ]
  },
  {
   "cell_type": "code",
   "execution_count": 15,
   "id": "f8476354",
   "metadata": {},
   "outputs": [
    {
     "name": "stdout",
     "output_type": "stream",
     "text": [
      "valid\n",
      "valid\n"
     ]
    }
   ],
   "source": [
    "'''\n",
    ".     any character except a newline\n",
    "*      0 or more repetitions\n",
    "+      1 or more repetitions\n",
    "?      0 or 1 repetition\n",
    "{m}    m repetitions\n",
    "{m,n}  m-n repetitions\n",
    "'''\n",
    "\n",
    "email6=\"a@\"\n",
    "\n",
    "if re.search(\".*@.*\",email6):\n",
    "    print(\"valid\")\n",
    "else:\n",
    "    print(\"Invalid\")\n",
    "\n",
    "# \".*@.*\" ===> accept zero or more char before @ and after @\n",
    "# \".+@.+\" ===> accept one or more char before @ and after @\n",
    "\n",
    "email6=\"a@a\"\n",
    "\n",
    "if re.search(\".+@.+\",email6):\n",
    "    print(\"valid\")\n",
    "else:\n",
    "    print(\"Invalid\")\n",
    "\n",
    "#  \"..*@..*\" ===> accept one or more char before @ and after @ without +\n",
    "# re uses use finite state machine to do searching\n"
   ]
  },
  {
   "cell_type": "code",
   "execution_count": 17,
   "id": "3527803e",
   "metadata": {},
   "outputs": [
    {
     "name": "stdout",
     "output_type": "stream",
     "text": [
      "valid\n"
     ]
    },
    {
     "data": {
      "text/plain": [
       "\"\\nFew things to note here\\nif I put like this .com then it eill not work like i am excpecting\\nwhy? dot mean any charachter here\\nhence we use backslash to remove its specality but onw more issue\\nin the world of pyhton backslash might cnovey something different\\nlike \\n or something hence we use r before the pattern to tell python\\nexplicitly don't interpret it , iterpreate ut as raw string\\n\""
      ]
     },
     "execution_count": 17,
     "metadata": {},
     "output_type": "execute_result"
    }
   ],
   "source": [
    "email7=\"a@a.com\"\n",
    "\n",
    "if re.search(r\".+@.+\\.com\",email7):\n",
    "    print(\"valid\")\n",
    "else:\n",
    "    print(\"invalid\")\n",
    "\n",
    "'''\n",
    "Few things to note here\n",
    "if I put like this .com then it eill not work like i am excpecting\n",
    "why? dot mean any charachter here\n",
    "hence we use backslash to remove its specality but onw more issue\n",
    "in the world of pyhton backslash might cnovey something different\n",
    "like \\n or something hence we use r before the pattern to tell python\n",
    "explicitly don't interpret it , iterpreate ut as raw string\n",
    "'''\n"
   ]
  },
  {
   "cell_type": "code",
   "execution_count": 18,
   "id": "ad36d752",
   "metadata": {},
   "outputs": [
    {
     "name": "stdout",
     "output_type": "stream",
     "text": [
      "valid\n"
     ]
    },
    {
     "data": {
      "text/plain": [
       "'\\nSo with to restrict the searching, searching should start at the starting of char\\nand end should at the end of charachter\\nwe can mention strat and end delemiter to make pattern search only this\\n\\n^   matches the start of the string\\n$   matches the end of the string or  just before the newline at the end \\n    of the string\\n'"
      ]
     },
     "execution_count": 18,
     "metadata": {},
     "output_type": "execute_result"
    }
   ],
   "source": [
    "# see the above regular expression r\".+@.+\\.com\" one problem with this\n",
    "# it will accept any paragraph or string whose substring also follows the\n",
    "# pattern mention in above string\n",
    "\n",
    "\n",
    "email8=\"hey my email address is a@a.com.\"\n",
    "\n",
    "if re.search(r\".+@.+\\.com\",email8):\n",
    "    print(\"valid\")\n",
    "else:\n",
    "    print(\"invalid\")\n",
    "\n",
    "\"\"\"\n",
    "So with to restrict the searching, searching should start at the starting of char\n",
    "and end should at the end of charachter\n",
    "we can mention strat and end delemiter to make pattern search only this\n",
    "\n",
    "^   matches the start of the string\n",
    "$   matches the end of the string or  just before the newline at the end \n",
    "    of the string\n",
    "\"\"\""
   ]
  },
  {
   "cell_type": "code",
   "execution_count": 2,
   "id": "62125319",
   "metadata": {},
   "outputs": [
    {
     "name": "stdout",
     "output_type": "stream",
     "text": [
      "invalid\n"
     ]
    }
   ],
   "source": [
    "email9=\"hey my email address is a@a.com.\"\n",
    "\n",
    "if re.search(r\"^.+@.+\\.com$\",email9):\n",
    "    print(\"valid\")\n",
    "else:\n",
    "    print(\"invalid\")\n",
    "\n",
    "# Just note:\n",
    "# Without dot at the end it will make the email valid"
   ]
  },
  {
   "cell_type": "code",
   "execution_count": 11,
   "id": "9b3469a7",
   "metadata": {},
   "outputs": [
    {
     "name": "stdout",
     "output_type": "stream",
     "text": [
      "Invalid\n",
      "Valid\n",
      "Invalid\n"
     ]
    }
   ],
   "source": [
    "import re\n",
    "r'''\n",
    "here one issue we can see \n",
    "my above pattern \"^.+@.+\\.com$\" can accept any number of @ sign\n",
    "why?\n",
    "because of dot \n",
    "\n",
    "hence we need to little cautios for allowing set of character \n",
    "\n",
    "[]   set of characters\n",
    "[^]  complementing the se\n",
    "\n",
    "'''\n",
    "\n",
    "\n",
    "email10=\"hey my email address is a@a.com\"\n",
    "email11=\"a@a.com\"\n",
    "email12=\"a@@a.com\"\n",
    "\n",
    "\n",
    "if re.search(r\"^[a-zA-Z0-9_]+@[a-zA-Z0-9_]+\\.com$\",email10):\n",
    "    print(\"Valid\")\n",
    "else:\n",
    "    print(\"Invalid\")\n",
    "\n",
    "if re.search(r\"^[a-zA-Z0-9_]+@[a-zA-Z0-9_]+\\.com$\",email11):\n",
    "    print(\"Valid\")\n",
    "else:\n",
    "    print(\"Invalid\")\n",
    "\n",
    "if re.search(r\"^[a-zA-Z0-9_]+@[a-zA-Z0-9_]+\\.com$\",email12):\n",
    "    print(\"Valid\")\n",
    "else:\n",
    "    print(\"Invalid\")"
   ]
  },
  {
   "cell_type": "code",
   "execution_count": null,
   "id": "ad6a9a52",
   "metadata": {},
   "outputs": [
    {
     "name": "stdout",
     "output_type": "stream",
     "text": [
      "Valid\n",
      "Valid\n"
     ]
    }
   ],
   "source": [
    "r'''\n",
    "\\d      decimal digit\n",
    "\\D      not a decimal digit\n",
    "\\s      whitespace characters\n",
    "\\S      not a whitespace character\n",
    "\\w      word character … as well as numbers and the underscore\n",
    "\\W      not a word character\n",
    "A|B     either A or B\n",
    "(...)   a group\n",
    "(?:...) non-capturing version\n",
    "'''\n",
    "\n",
    "email13=\"a@a.com\"  \n",
    "email14=\"a@a.in\"  \n",
    "\n",
    "if re.search(r\"^\\w+@\\w+\\.(com|in)$\",email13):\n",
    "    print(\"Valid\")\n",
    "else:\n",
    "    print(\"Invalid\")\n",
    "\n",
    "if re.search(r\"^\\w+@\\w+\\.(com|in)$\",email14):\n",
    "    print(\"Valid\")\n",
    "else:\n",
    "    print(\"Invalid\")"
   ]
  },
  {
   "cell_type": "code",
   "execution_count": 20,
   "id": "9e619f60",
   "metadata": {},
   "outputs": [
    {
     "name": "stdout",
     "output_type": "stream",
     "text": [
      "None\n",
      "Invalid\n",
      "<re.Match object; span=(0, 7), match='a@a.COM'>\n",
      "Valid\n",
      "true\n",
      "false\n"
     ]
    }
   ],
   "source": [
    "r'''\n",
    "the above pattern onlt accept if my top level domain is .com or .in\n",
    "but it will not accept .COM or.Com or .IN\n",
    "one way to solve is write all the option in inside group and seprate it by \n",
    "or but we will use a flags to solve this \n",
    "note: \\w will handle both upper and lower case\n",
    "'''\n",
    "\n",
    "\n",
    "email15=\"a@a.COM\"  \n",
    "\n",
    "print(re.search(r\"^\\w+@\\w+\\.(com|in)$\",email15))\n",
    "\n",
    "if re.search(r\"^\\w+@\\w+\\.(com|in)$\",email15):\n",
    "    print(\"Valid\")\n",
    "else:\n",
    "    print(\"Invalid\")\n",
    "\n",
    "print(re.search(r\"^\\w+@\\w+\\.(com|in)$\",email15,re.IGNORECASE))\n",
    "if re.search(r\"^\\w+@\\w+\\.(com|in)$\",email15,re.IGNORECASE):\n",
    "    print(\"Valid\")\n",
    "else:\n",
    "    print(\"Invalid\")\n",
    "\n",
    "if {\"a\":\"akash\"}:\n",
    "    print(\"true\")\n",
    "else:\n",
    "    print(\"false\")\n",
    "\n",
    "if {}:\n",
    "    print(\"true\")\n",
    "else:\n",
    "    print(\"false\")\n"
   ]
  },
  {
   "cell_type": "code",
   "execution_count": null,
   "id": "ad83157c",
   "metadata": {},
   "outputs": [
    {
     "name": "stdout",
     "output_type": "stream",
     "text": [
      "Success\n"
     ]
    }
   ],
   "source": [
    "'''\n",
    "re.IGNORECASE: Makes the regex case-insensitive.\n",
    "re.MULTILINE: Changes the behavior of ^ and $ to work at each line, \n",
    "              not just the whole string.\n",
    "re.DOTALL:    Makes the dot (.) match newline characters too.\n",
    "'''\n",
    "\n",
    "if re.search(r\"HELLO\",\"hello\",re.IGNORECASE):\n",
    "    print(\"Success\")\n",
    "else:\n",
    "    print(\"Fail\")"
   ]
  },
  {
   "cell_type": "code",
   "execution_count": 25,
   "id": "a93db844",
   "metadata": {},
   "outputs": [
    {
     "name": "stdout",
     "output_type": "stream",
     "text": [
      "[]\n",
      "['second']\n"
     ]
    }
   ],
   "source": [
    "'''\n",
    "Normally:\n",
    "^ = start of the string\n",
    "$ = end of the string\n",
    "\n",
    "With MULTILINE:\n",
    "^ = start of any line\n",
    "$ = end of any line\n",
    "'''\n",
    "\n",
    "text=\"first line\\nsecond line\"\n",
    "\n",
    "print(re.findall(r\"^second\",text))\n",
    "print(re.findall(r\"^second\",text,re.MULTILINE))"
   ]
  },
  {
   "cell_type": "code",
   "execution_count": 27,
   "id": "054825ff",
   "metadata": {},
   "outputs": [
    {
     "name": "stdout",
     "output_type": "stream",
     "text": [
      "No\n",
      "Yes\n"
     ]
    }
   ],
   "source": [
    "'''\n",
    "Makes the dot (.) match newline characters too.\n",
    "\n",
    "Normally: . matches any character except \\n\n",
    "With DOTALL: . matches any character including \\n\n",
    "'''\n",
    "\n",
    "text=\"Hello\\nWorld\"\n",
    "\n",
    "if re.search(r\"Hello.World\",text):\n",
    "    print(\"Yes\")\n",
    "else:\n",
    "    print(\"No\")\n",
    "\n",
    "if re.search(r\"Hello.World\",text,re.DOTALL):\n",
    "    print(\"Yes\")\n",
    "else:\n",
    "    print(\"No\")"
   ]
  },
  {
   "cell_type": "code",
   "execution_count": 43,
   "id": "69b9378e",
   "metadata": {},
   "outputs": [
    {
     "name": "stdout",
     "output_type": "stream",
     "text": [
      "valid\n",
      "valid\n",
      "valid\n"
     ]
    }
   ],
   "source": [
    "# let's try to validate this email id\n",
    "# malan@cs50.harvard.edu\n",
    "\n",
    "email16=\"malan@cs50.harvard.edu\"\n",
    "email17=\"malan@cs50.harvard.us.edu\"\n",
    "email18=\"malan@cs50.edu\"\n",
    "\n",
    "if re.search(r\"^\\w+@\\w+(\\.\\w+)*.edu$\",email16):\n",
    "    print(\"valid\")\n",
    "else:\n",
    "    print(\"Invalid\")\n",
    "\n",
    "if re.search(r\"^\\w+@\\w+(\\.\\w+)*.edu$\",email17):\n",
    "    print(\"valid\")\n",
    "else:\n",
    "    print(\"Invalid\")\n",
    "\n",
    "if re.search(r\"^\\w+@\\w+(\\.\\w+)*.edu$\",email18):\n",
    "    print(\"valid\")\n",
    "else:\n",
    "    print(\"Invalid\")"
   ]
  },
  {
   "cell_type": "code",
   "execution_count": 44,
   "id": "6fc9bb02",
   "metadata": {},
   "outputs": [
    {
     "data": {
      "text/plain": [
       "<re.Match object; span=(3, 4), match='1'>"
      ]
     },
     "execution_count": 44,
     "metadata": {},
     "output_type": "execute_result"
    }
   ],
   "source": [
    "# re.search() or re.match() or re.fullmatch()\n",
    "\n",
    "'''\n",
    "re.search(pattern, string)\n",
    "What it does: Scans anywhere in the string for a match.\n",
    "Partial match allowed: ✅ Yes\n",
    "Use case: When you want to see if the pattern occurs anywhere in the text\n",
    "'''\n",
    "\n",
    "re.search(r\"\\d\",\"abc123xyz\") #Match found:'123\"\n"
   ]
  },
  {
   "cell_type": "code",
   "execution_count": null,
   "id": "02314985",
   "metadata": {},
   "outputs": [
    {
     "data": {
      "text/plain": [
       "<re.Match object; span=(0, 3), match='123'>"
      ]
     },
     "execution_count": 46,
     "metadata": {},
     "output_type": "execute_result"
    }
   ],
   "source": [
    "'''\n",
    "re.match(pattern, string)\n",
    "What it does: Tries to match the pattern only at the beginning of the string.\n",
    "Partial match allowed: ✅ Yes, but only if it starts at the beginning\n",
    "Use case: When you want the string to start with a specific pattern.\n",
    "'''\n",
    "\n",
    "re.match(r\"\\d+\",\"123abc\") # ✅ Match: '123'\n",
    "re.match(r\"\\d+\",\"abc123\") # ❌ No match"
   ]
  },
  {
   "cell_type": "code",
   "execution_count": null,
   "id": "7be61ee2",
   "metadata": {},
   "outputs": [],
   "source": [
    "'''\n",
    "re.fullmatch(pattern, string)\n",
    "What it does: The entire string must completely match the pattern.\n",
    "Partial match allowed: ❌ No\n",
    "Use case: When you want to validate that the whole string fits the pattern (like validating email, phone number, etc.)\n",
    "'''\n",
    "\n",
    "re.match(r\"\\d+\",\"123\") # ✅ Match\n",
    "re.match(r\"\\d+\",\"123abc\") # ❌ No match\n",
    "re.match(r\"\\d+\",\"abc\") # ❌ No match"
   ]
  },
  {
   "cell_type": "code",
   "execution_count": null,
   "id": "7cc2db84",
   "metadata": {},
   "outputs": [
    {
     "name": "stdout",
     "output_type": "stream",
     "text": [
      "Hello, Akash Mishra\n",
      "Hello, Mishra, Akash\n"
     ]
    }
   ],
   "source": [
    "# now we will not validate the input but we will try to clean up the \n",
    "# input given by the user\n",
    "# reformat the user's input in the format we expect\n",
    "# let's format the user's name\n",
    "\n",
    "name1=\"Akash Mishra\"\n",
    "print(f\"Hello, {name1}\")  #Hello, Akash Mishra\n",
    "\n",
    "name2=\"Mishra, Akash\"\n",
    "print(f\"Hello, {name2}\") #Hello, Mishra, Akash\n",
    "# if we see the second one its not look good even grammtialy wrong\n"
   ]
  },
  {
   "cell_type": "code",
   "execution_count": 8,
   "id": "2abdc0cf",
   "metadata": {},
   "outputs": [
    {
     "name": "stdout",
     "output_type": "stream",
     "text": [
      "Hello, Akash Mishra\n",
      "Hello, Mr Mishra Akash\n"
     ]
    }
   ],
   "source": [
    "name2=\"Mishra, Akash\"\n",
    "\n",
    "if \",\" in name2:\n",
    "    last,first=name2.split(\", \")\n",
    "    name=f\"{first} {last}\"\n",
    "\n",
    "print(f\"Hello, {name}\") # Hello, Akash Mishra\n",
    "\n",
    "name3=\"Mishra Akash, Mr\"\n",
    "\n",
    "if \",\" in name3:\n",
    "    last,first=name3.split(\", \")\n",
    "    name=f\"{first} {last}\"\n",
    "\n",
    "print(f\"Hello, {name}\") # Hello, Mr Mishra Akash"
   ]
  },
  {
   "cell_type": "code",
   "execution_count": null,
   "id": "feb70023",
   "metadata": {},
   "outputs": [
    {
     "name": "stdout",
     "output_type": "stream",
     "text": [
      "('Mishra', 'Akash')\n",
      "<class 'tuple'>\n",
      "Hello, Akash Mishra\n"
     ]
    }
   ],
   "source": [
    "import re\n",
    "# In re.search() we allowed to use grouping by mentioning () and this\n",
    "# not only meant to be for grouping but also for returning that matched\n",
    "# group like if we don't want retuning that group we can use (?:...) non-capturing version\n",
    "# re.search(r\"^.+, .+$\",name3)\n",
    "name4=\"Mishra, Akash\"\n",
    "matches=re.search(r\"^(.+), (.+)$\",name4)\n",
    "print(matches.groups()) #('Mishra', 'Akash')\n",
    "print(type(matches.groups())) #<class 'tuple'>\n",
    "\n",
    "\n",
    "if matches:\n",
    "    last,first=matches.groups()\n",
    "    name=f\"{first} {last}\"\n",
    "\n",
    "print(f\"Hello, {name}\")"
   ]
  },
  {
   "cell_type": "code",
   "execution_count": 7,
   "id": "b6905cbf",
   "metadata": {},
   "outputs": [
    {
     "name": "stdout",
     "output_type": "stream",
     "text": [
      "Mishra\n",
      "Akash\n",
      "Mishra, Akash\n",
      "<class 'str'>\n",
      "<class 'str'>\n",
      "<class 'str'>\n"
     ]
    }
   ],
   "source": [
    "print(matches.group(1))\n",
    "print(matches.group(2))\n",
    "print(matches.group(0))\n",
    "print(type(matches.group(1)))\n",
    "print(type(matches.group(2)))\n",
    "print(type(matches.group(0)))"
   ]
  },
  {
   "cell_type": "code",
   "execution_count": 10,
   "id": "315d6107",
   "metadata": {},
   "outputs": [
    {
     "name": "stdout",
     "output_type": "stream",
     "text": [
      "Hello, Akash Mishra\n"
     ]
    }
   ],
   "source": [
    "matches=re.search(r\"^(.+), (.+)$\",name4)\n",
    "\n",
    "\n",
    "if matches:\n",
    "    last=matches.group(1)\n",
    "    first=matches.group(2)\n",
    "    name=f\"{first} {last}\"\n",
    "\n",
    "print(f\"Hello, {name}\")"
   ]
  },
  {
   "cell_type": "code",
   "execution_count": 14,
   "id": "6f76b804",
   "metadata": {},
   "outputs": [
    {
     "name": "stdout",
     "output_type": "stream",
     "text": [
      "Hello, Akash Mishra\n"
     ]
    }
   ],
   "source": [
    "# what if user not enter space after ,\n",
    "# let's modify the regex to except zero or more space\n",
    "\n",
    "name5=\"Mishra,Akash\"\n",
    "matches=re.search(r\"^(.+), *(.+)$\",name5)\n",
    "\n",
    "if matches:\n",
    "    last,first=matches.groups()\n",
    "    name=f\"{first} {last}\"\n",
    "\n",
    "print(f\"Hello, {name}\")"
   ]
  },
  {
   "cell_type": "code",
   "execution_count": 13,
   "id": "594622e1",
   "metadata": {},
   "outputs": [
    {
     "name": "stdout",
     "output_type": "stream",
     "text": [
      "Hello, Akash Mishra\n"
     ]
    }
   ],
   "source": [
    "name6=\"Mishra,     Akash\"\n",
    "matches=re.search(r\"^(.+), *(.+)$\",name6)\n",
    "\n",
    "if matches:\n",
    "    last,first=matches.groups()\n",
    "    name=f\"{first} {last}\"\n",
    "\n",
    "print(f\"Hello, {name}\")"
   ]
  },
  {
   "cell_type": "code",
   "execution_count": null,
   "id": "ebb955bf",
   "metadata": {},
   "outputs": [
    {
     "name": "stdout",
     "output_type": "stream",
     "text": [
      "Hello, Akash Mishra\n"
     ]
    }
   ],
   "source": [
    "# Like we see above we first getting the group of value from regex\n",
    "# in matches variable and then checking if is true then evaluate something\n",
    "# what if we can do those things in a single line like this\n",
    "# if matches=re.search(r\"^(.+), *(.+)$\",name6)\n",
    "# we can do using walrus operator (:=)\n",
    "\n",
    "name6=\"Mishra,     Akash\"\n",
    "\n",
    "if matches:=re.search(r\"^(.+), *(.+)$\",name6):\n",
    "    last,first=matches.groups()\n",
    "    name=f\"{first} {last}\"\n",
    "\n",
    "print(f\"Hello, {name}\")\n",
    "\n",
    "'''\n",
    "What is the := walrus operator?\n",
    "It allows you to assign a value to a variable as part of an expression, \n",
    "including inside an if, while, or other conditions.\n",
    "\n",
    "What exactly is happening here?\n",
    "Let's deconstruct this:\n",
    "\n",
    "re.search(...) runs first.\n",
    "\n",
    "The result (either a match object or None) is assigned to matches.\n",
    "\n",
    "The if condition checks if matches is truthy (i.e., a match object).\n",
    "\n",
    "If yes → executes the block\n",
    "\n",
    "If no (matches is None) → skips the block\n",
    "\n",
    "So the assignment happens first, and then the condition checks the assigned value.\n",
    "\n",
    "if (var := expression)\n",
    "→ expression runs first, its result is assigned to var, then the truthiness of var is checked.\n",
    "'''"
   ]
  },
  {
   "cell_type": "code",
   "execution_count": 23,
   "id": "62a59c4b",
   "metadata": {},
   "outputs": [
    {
     "name": "stdout",
     "output_type": "stream",
     "text": [
      "You entered:1\n",
      "You entered:2\n"
     ]
    }
   ],
   "source": [
    "while (line:=input(\"Write something\"))!=\"exit\":\n",
    "    print(f\"You entered:{line}\")"
   ]
  },
  {
   "cell_type": "code",
   "execution_count": null,
   "id": "073631a8",
   "metadata": {},
   "outputs": [
    {
     "name": "stdout",
     "output_type": "stream",
     "text": [
      "Username:akashmishrway\n",
      "Username:mu username is akashmishrway\n"
     ]
    }
   ],
   "source": [
    "# let's try to extract a username from twitter url\n",
    "# suppose user entered url instead of twitter then we can extract a username\n",
    "# instead of rejecting the input or what if we already collected the data\n",
    "\n",
    "url=\"https://twitter.com/akashmishrway\"\n",
    "\n",
    "username=url.replace(\"https://twitter.com/\",\"\")\n",
    "print(f\"Username:{username}\")\n",
    "\n",
    "#what if url does not contains\n",
    "# https -- http\n",
    "# www.twitter.com\n",
    "# akash/?hash\n",
    "\n",
    "url=\"my username is https://twitter.com/akashmishrway\"\n",
    "\n",
    "username=url.replace(\"https://twitter.com/\",\"\")\n",
    "print(f\"Username:{username}\")"
   ]
  },
  {
   "cell_type": "code",
   "execution_count": null,
   "id": "4fa1c2dc",
   "metadata": {},
   "outputs": [
    {
     "name": "stdout",
     "output_type": "stream",
     "text": [
      "Username:my username is https://twitter.com/akashmishrway\n"
     ]
    }
   ],
   "source": [
    "'''\n",
    "new_string = original_string.removeprefix(prefix)\n",
    "If the string starts with the given prefix, that prefix is removed.\n",
    "If it does not start with the prefix, the string is returned unchanged.\n",
    "'''\n",
    "\n",
    "url=\"my username is https://twitter.com/akashmishrway\"\n",
    "\n",
    "username=url.removeprefix(\"https://twitter.com/\")\n",
    "\n",
    "print(f\"Username:{username}\")"
   ]
  },
  {
   "cell_type": "code",
   "execution_count": null,
   "id": "501c9b98",
   "metadata": {},
   "outputs": [
    {
     "name": "stdout",
     "output_type": "stream",
     "text": [
      "Username:/akashmishrway\n"
     ]
    }
   ],
   "source": [
    "# re.sub(pattern,repl,string,count=0,flags=0)\n",
    "# repl =replacement\n",
    "\n",
    "url=\"https://twitter.com/akashmishrway\"\n",
    "\n",
    "username=re.sub(\"https://twitter.com/\",\"\",url)\n",
    "print(f\"Username:{username}\")\n",
    "'''\n",
    "let find the pattern if found replace with \"\" in the given url \n",
    "'''\n"
   ]
  },
  {
   "cell_type": "code",
   "execution_count": 38,
   "id": "9b775b52",
   "metadata": {},
   "outputs": [
    {
     "name": "stdout",
     "output_type": "stream",
     "text": [
      "Username:akashmishrway\n",
      "Username:akashmishrway\n",
      "Username:akashmishrway\n",
      "Username:akashmishrway\n",
      "Username:https://www.google.com/akash\n"
     ]
    }
   ],
   "source": [
    "url=\"https://twitter.com/akashmishrway\"\n",
    "\n",
    "username=re.sub(r\"^(https?://)?(www\\.)?twitter\\.com/\",\"\",url)\n",
    "print(f\"Username:{username}\")\n",
    "\n",
    "\n",
    "url=\"http://twitter.com/akashmishrway\"\n",
    "\n",
    "username=re.sub(r\"^(https?://)?(www\\.)?twitter\\.com/\",\"\",url)\n",
    "print(f\"Username:{username}\")\n",
    "\n",
    "url=\"http://www.twitter.com/akashmishrway\"\n",
    "\n",
    "username=re.sub(r\"^(https?://)?(www\\.)?twitter\\.com/\",\"\",url)\n",
    "print(f\"Username:{username}\")\n",
    "\n",
    "url=\"www.twitter.com/akashmishrway\"\n",
    "\n",
    "username=re.sub(r\"^(https?://)?(www\\.)?twitter\\.com/\",\"\",url)\n",
    "print(f\"Username:{username}\")\n",
    "\n",
    "# see one issue with re.sub()\n",
    "url=\"https://www.google.com/akash\"\n",
    "username=re.sub(r\"^(https?://)?(www\\.)?twitter\\.com/\",\"\",url)\n",
    "print(f\"Username:{username}\")\n",
    "# if it did not found with pattern it will not do anything we will get\n",
    "# whole url"
   ]
  },
  {
   "cell_type": "code",
   "execution_count": 51,
   "id": "58ce440b",
   "metadata": {},
   "outputs": [
    {
     "name": "stdout",
     "output_type": "stream",
     "text": [
      "https://\n",
      "None\n",
      "akashmishrway\n",
      "https://twitter.com/akashmishrway\n",
      "Username:akashmishrway\n"
     ]
    }
   ],
   "source": [
    "url=\"https://twitter.com/akashmishrway\"\n",
    "\n",
    "match=re.search(r\"^(https?://)?(www\\.)?twitter\\.com/(.+)\",url,re.IGNORECASE)\n",
    "print(match.group(1))\n",
    "print(match.group(2))\n",
    "print(match.group(3))\n",
    "print(match.group(0))\n",
    "if matches:\n",
    "    print(f\"Username:{match.group(3)}\")\n"
   ]
  },
  {
   "cell_type": "code",
   "execution_count": 54,
   "id": "8a604690",
   "metadata": {},
   "outputs": [
    {
     "name": "stdout",
     "output_type": "stream",
     "text": [
      "Username:akashmishrway\n",
      "akashmishrway\n",
      "https://twitter.com/akashmishrway\n"
     ]
    }
   ],
   "source": [
    "url=\"https://twitter.com/akashmishrway\"\n",
    "\n",
    "if matches:=re.search(r\"^(?:https?://)?(?:www\\.)?twitter\\.com/(.+)\",url,re.IGNORECASE):\n",
    "    print(f\"Username:{match.group(1)}\")\n",
    "\n",
    "print(match.group(1))\n",
    "print(match.group(0))"
   ]
  },
  {
   "cell_type": "code",
   "execution_count": 58,
   "id": "e7c3cd29",
   "metadata": {},
   "outputs": [
    {
     "name": "stdout",
     "output_type": "stream",
     "text": [
      "Username:akashmishrway\n",
      "akashmishrway\n",
      "https://twitter.com/akashmishrway\n"
     ]
    }
   ],
   "source": [
    "url=\"https://google.com/akashmishrway\"\n",
    "\n",
    "if matches:=re.search(r\"^(?:https?://)?(?:www\\.)?twitter\\.com/(\\w+)\",url,re.IGNORECASE):\n",
    "    print(f\" google Username:{match.group(1)}\") \n",
    "    # see this output not visible because not match happens\n",
    "\n",
    "\n",
    "url=\"https://twitter.com/akashmishrway\"\n",
    "\n",
    "if matches:=re.search(r\"^(?:https?://)?(?:www\\.)?twitter\\.com/(\\w+)\",url,re.IGNORECASE):\n",
    "    print(f\"Username:{match.group(1)}\")\n",
    "\n",
    "print(match.group(1))\n",
    "print(match.group(0))"
   ]
  },
  {
   "cell_type": "code",
   "execution_count": null,
   "id": "5a7eec72",
   "metadata": {},
   "outputs": [],
   "source": []
  }
 ],
 "metadata": {
  "kernelspec": {
   "display_name": "Python 3",
   "language": "python",
   "name": "python3"
  },
  "language_info": {
   "codemirror_mode": {
    "name": "ipython",
    "version": 3
   },
   "file_extension": ".py",
   "mimetype": "text/x-python",
   "name": "python",
   "nbconvert_exporter": "python",
   "pygments_lexer": "ipython3",
   "version": "3.13.3"
  }
 },
 "nbformat": 4,
 "nbformat_minor": 5
}
