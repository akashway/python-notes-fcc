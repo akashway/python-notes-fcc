{
 "cells": [
  {
   "cell_type": "code",
   "execution_count": 1,
   "id": "395d9720",
   "metadata": {},
   "outputs": [
    {
     "name": "stdout",
     "output_type": "stream",
     "text": [
      "Harry from Gryffindor\n"
     ]
    }
   ],
   "source": [
    "name=input(\"Name? \")\n",
    "house=input(\"House? \")\n",
    "print(f\"{name} from {house}\")"
   ]
  },
  {
   "cell_type": "code",
   "execution_count": 2,
   "id": "1c772c02",
   "metadata": {},
   "outputs": [
    {
     "name": "stdout",
     "output_type": "stream",
     "text": [
      "Harry from Gryffindor\n"
     ]
    }
   ],
   "source": [
    "def main():\n",
    "    name=get_name()\n",
    "    house=get_house()\n",
    "    print(f\"{name} from {house}\")\n",
    "\n",
    "def get_name():\n",
    "    return input(\"Name? \")\n",
    "\n",
    "def get_house():\n",
    "    return input(\"House? \")\n",
    "\n",
    "main()"
   ]
  },
  {
   "cell_type": "code",
   "execution_count": null,
   "id": "d6cf6551",
   "metadata": {},
   "outputs": [
    {
     "name": "stdout",
     "output_type": "stream",
     "text": [
      "Harry from Gryffindor\n"
     ]
    }
   ],
   "source": [
    "def main():\n",
    "    student=get_student()\n",
    "    print(f\"{student[0]} from {student[1]}\")\n",
    "\n",
    "def get_student():\n",
    "    name=input(\"Name? \")\n",
    "    house=input(\"House? \")\n",
    "    return name,house \n",
    "    # those two return value will convert into tuple\n",
    "    # we can return like this also (name,house) \n",
    "    # both are same either you mention or not\n",
    "\n",
    "main()"
   ]
  },
  {
   "cell_type": "code",
   "execution_count": null,
   "id": "8167361a",
   "metadata": {},
   "outputs": [
    {
     "name": "stdout",
     "output_type": "stream",
     "text": [
      "Harry from Gryffindor\n"
     ]
    },
    {
     "data": {
      "text/plain": [
       "\"\\nError:\\nIf name is Padma\\nTypeError: 'tuple' object does not support item assignment\\n\""
      ]
     },
     "execution_count": 6,
     "metadata": {},
     "output_type": "execute_result"
    }
   ],
   "source": [
    "#tuple is immutable\n",
    "\n",
    "def main():\n",
    "    student=get_student()\n",
    "    if student[0]==\"Padma\":\n",
    "        student[1]=\"Ravenclaw\"\n",
    "    print(f\"{student[0]} from {student[1]}\")\n",
    "\n",
    "def get_student():\n",
    "    name=input(\"Name? \")\n",
    "    house=input(\"House? \")\n",
    "    return (name,house )\n",
    "\n",
    "main()\n",
    "\n",
    "'''\n",
    "Error:\n",
    "If name is Padma\n",
    "TypeError: 'tuple' object does not support item assignment\n",
    "If we want to change then we can return list instead of tuple\n",
    "'''"
   ]
  },
  {
   "cell_type": "code",
   "execution_count": null,
   "id": "5f40acba",
   "metadata": {},
   "outputs": [
    {
     "name": "stdout",
     "output_type": "stream",
     "text": [
      "Padma from Ravenclaw\n"
     ]
    }
   ],
   "source": [
    "def main():\n",
    "    student=get_student()\n",
    "    if student[0]==\"Padma\":\n",
    "        student[1]=\"Ravenclaw\"\n",
    "    print(f\"{student[0]} from {student[1]}\")\n",
    "\n",
    "def get_student():\n",
    "    name=input(\"Name? \")\n",
    "    house=input(\"House? \")\n",
    "    return [name,house ]\n",
    "\n",
    "main()"
   ]
  },
  {
   "cell_type": "code",
   "execution_count": null,
   "id": "8366b590",
   "metadata": {},
   "outputs": [
    {
     "name": "stdout",
     "output_type": "stream",
     "text": [
      "Harry from Gryffindor\n"
     ]
    }
   ],
   "source": [
    "def main():\n",
    "    student=get_student()\n",
    "    print(f\"{student['name']} from {student['house']}\")\n",
    "\n",
    "def get_student():\n",
    "    student={}\n",
    "    student['name']=input(\"Name? \")\n",
    "    student['house']=input(\"House? \")\n",
    "    return student\n",
    "    # return {\"name\":input(\"Name? \"),\"house\":input(\"House? \")}\n",
    "\n",
    "main()"
   ]
  },
  {
   "cell_type": "code",
   "execution_count": 9,
   "id": "db40f8f1",
   "metadata": {},
   "outputs": [
    {
     "name": "stdout",
     "output_type": "stream",
     "text": [
      "Padma from Ravenclaw\n"
     ]
    }
   ],
   "source": [
    "def main():\n",
    "    student=get_student()\n",
    "    if student['name']=='Padma':\n",
    "        student['house']=\"Ravenclaw\"\n",
    "    print(f\"{student['name']} from {student['house']}\")\n",
    "\n",
    "def get_student():\n",
    "    return {\"name\":input(\"Name? \"),\"house\":input(\"House? \")}\n",
    "\n",
    "main()"
   ]
  },
  {
   "cell_type": "code",
   "execution_count": null,
   "id": "3240cd13",
   "metadata": {},
   "outputs": [
    {
     "name": "stdout",
     "output_type": "stream",
     "text": [
      "Akash from Pune\n"
     ]
    }
   ],
   "source": [
    "class Student:\n",
    "    ...\n",
    "\n",
    "def main():\n",
    "    student=get_student()\n",
    "    print(f\"{student.name} from {student.house}\")\n",
    "\n",
    "def get_student():\n",
    "    student1=Student()\n",
    "    student1.name=input(\"Name? \")\n",
    "    student1.house=input(\"House? \")\n",
    "    return student1\n",
    "\n",
    "main()\n",
    "\n",
    "'''\n",
    "student1.name, student1.house\n",
    "here name and house are instance variable\n",
    "'''"
   ]
  },
  {
   "cell_type": "code",
   "execution_count": null,
   "id": "83f34dd2",
   "metadata": {},
   "outputs": [
    {
     "name": "stdout",
     "output_type": "stream",
     "text": [
      "Modi from Gujrat\n"
     ]
    }
   ],
   "source": [
    "class Student:\n",
    "    def __init__(self,name,house):\n",
    "        # self will refer to the current object refernce\n",
    "        self.name=name\n",
    "        self.house=house\n",
    "\n",
    "def main():\n",
    "    student=get_student()\n",
    "    print(f\"{student.name} from {student.house}\")\n",
    "\n",
    "def get_student():\n",
    "    name=input(\"Name? \")\n",
    "    house=input(\"House? \")\n",
    "    student=Student(name,house)\n",
    "    return student\n",
    "\n",
    "main()\n",
    "\n",
    "'''\n",
    "Student(name,house) means\n",
    "-->constructor call\n",
    "-->construct the Student object\n",
    "-->instantiate the student object \n",
    "\n",
    "self.name,self.house\n",
    "--> instance variable\n",
    "\n",
    "you can learn __new__\n",
    "'''"
   ]
  },
  {
   "cell_type": "code",
   "execution_count": null,
   "id": "bd3def25",
   "metadata": {},
   "outputs": [
    {
     "data": {
      "text/plain": [
       "'\\nSuppose there is some bug/mistak in input either name not provided \\nor house is other than original list then we should check this also\\ncorrect?\\nbut where to check inside get_student?\\nyes we can check but it will not good approach interm of oop\\noop encourge of encapsulation hence every peeice related to student \\nshould be inside class\\n\\nthis also one of the reason makes class different from dictionary\\nlike even in dictionary we can store related data but what about \\nsuch error checking we can do but outside of dictionary which is good might\\nbe for small codebase but difficulat to mange for long code base\\n'"
      ]
     },
     "execution_count": 14,
     "metadata": {},
     "output_type": "execute_result"
    }
   ],
   "source": [
    "'''\n",
    "Suppose there is some bug/mistak in input either name not provided \n",
    "or house is other than original list then we should check this also\n",
    "correct?\n",
    "but where to check inside get_student?\n",
    "yes we can check but it will not good approach interm of oop\n",
    "oop encourge of encapsulation hence every peeice related to student \n",
    "should be inside class\n",
    "\n",
    "this also one of the reason makes class different from dictionary\n",
    "like even in dictionary we can store related data but what about \n",
    "such error checking we can do but outside of dictionary which is good might\n",
    "be for small codebase but difficulat to mange for long code base\n",
    "cl'''"
   ]
  },
  {
   "cell_type": "code",
   "execution_count": 17,
   "id": "a18ebae8",
   "metadata": {},
   "outputs": [
    {
     "name": "stdout",
     "output_type": "stream",
     "text": [
      "Harry from Gryffindor\n"
     ]
    }
   ],
   "source": [
    "class Student:\n",
    "    def __init__(self,name,house):\n",
    "        if not name:\n",
    "            raise ValueError(\"Missing Name!\")\n",
    "\n",
    "        if house not in ['Gryffindor','Hufflepuff','Ravenclaw','Slytherin']:\n",
    "            raise ValueError(\"Inavalid house\")\n",
    "        \n",
    "        self.name=name\n",
    "        self.house=house\n",
    "        \n",
    "\n",
    "def main():\n",
    "    student=get_student()\n",
    "    print(f\"{student.name} from {student.house}\")\n",
    "\n",
    "def get_student():\n",
    "    name='Harry'\n",
    "    house='Gryffindor'\n",
    "    student=Student(name,house)\n",
    "    return student\n",
    "\n",
    "main()"
   ]
  },
  {
   "cell_type": "code",
   "execution_count": null,
   "id": "fcddc14c",
   "metadata": {},
   "outputs": [
    {
     "ename": "ValueError",
     "evalue": "Inavalid house",
     "output_type": "error",
     "traceback": [
      "\u001b[31m---------------------------------------------------------------------------\u001b[39m",
      "\u001b[31mValueError\u001b[39m                                Traceback (most recent call last)",
      "\u001b[36mCell\u001b[39m\u001b[36m \u001b[39m\u001b[32mIn[18]\u001b[39m\u001b[32m, line 23\u001b[39m\n\u001b[32m     20\u001b[39m     student=Student(name,house)\n\u001b[32m     21\u001b[39m     \u001b[38;5;28;01mreturn\u001b[39;00m student\n\u001b[32m---> \u001b[39m\u001b[32m23\u001b[39m \u001b[43mmain\u001b[49m\u001b[43m(\u001b[49m\u001b[43m)\u001b[49m\n",
      "\u001b[36mCell\u001b[39m\u001b[36m \u001b[39m\u001b[32mIn[18]\u001b[39m\u001b[32m, line 14\u001b[39m, in \u001b[36mmain\u001b[39m\u001b[34m()\u001b[39m\n\u001b[32m     13\u001b[39m \u001b[38;5;28;01mdef\u001b[39;00m\u001b[38;5;250m \u001b[39m\u001b[34mmain\u001b[39m():\n\u001b[32m---> \u001b[39m\u001b[32m14\u001b[39m     student=\u001b[43mget_student\u001b[49m\u001b[43m(\u001b[49m\u001b[43m)\u001b[49m\n\u001b[32m     15\u001b[39m     \u001b[38;5;28mprint\u001b[39m(\u001b[33mf\u001b[39m\u001b[33m\"\u001b[39m\u001b[38;5;132;01m{\u001b[39;00mstudent.name\u001b[38;5;132;01m}\u001b[39;00m\u001b[33m from \u001b[39m\u001b[38;5;132;01m{\u001b[39;00mstudent.house\u001b[38;5;132;01m}\u001b[39;00m\u001b[33m\"\u001b[39m)\n",
      "\u001b[36mCell\u001b[39m\u001b[36m \u001b[39m\u001b[32mIn[18]\u001b[39m\u001b[32m, line 20\u001b[39m, in \u001b[36mget_student\u001b[39m\u001b[34m()\u001b[39m\n\u001b[32m     18\u001b[39m name=\u001b[33m'\u001b[39m\u001b[33mHarry\u001b[39m\u001b[33m'\u001b[39m\n\u001b[32m     19\u001b[39m house=\u001b[33m'\u001b[39m\u001b[33mNumber four,Pivot\u001b[39m\u001b[33m'\u001b[39m\n\u001b[32m---> \u001b[39m\u001b[32m20\u001b[39m student=\u001b[43mStudent\u001b[49m\u001b[43m(\u001b[49m\u001b[43mname\u001b[49m\u001b[43m,\u001b[49m\u001b[43mhouse\u001b[49m\u001b[43m)\u001b[49m\n\u001b[32m     21\u001b[39m \u001b[38;5;28;01mreturn\u001b[39;00m student\n",
      "\u001b[36mCell\u001b[39m\u001b[36m \u001b[39m\u001b[32mIn[18]\u001b[39m\u001b[32m, line 7\u001b[39m, in \u001b[36mStudent.__init__\u001b[39m\u001b[34m(self, name, house)\u001b[39m\n\u001b[32m      4\u001b[39m     \u001b[38;5;28;01mraise\u001b[39;00m \u001b[38;5;167;01mValueError\u001b[39;00m(\u001b[33m\"\u001b[39m\u001b[33mMissing Name!\u001b[39m\u001b[33m\"\u001b[39m)\n\u001b[32m      6\u001b[39m \u001b[38;5;28;01mif\u001b[39;00m house \u001b[38;5;129;01mnot\u001b[39;00m \u001b[38;5;129;01min\u001b[39;00m [\u001b[33m'\u001b[39m\u001b[33mGryffindor\u001b[39m\u001b[33m'\u001b[39m,\u001b[33m'\u001b[39m\u001b[33mHufflepuff\u001b[39m\u001b[33m'\u001b[39m,\u001b[33m'\u001b[39m\u001b[33mRavenclaw\u001b[39m\u001b[33m'\u001b[39m,\u001b[33m'\u001b[39m\u001b[33mSlytherin\u001b[39m\u001b[33m'\u001b[39m]:\n\u001b[32m----> \u001b[39m\u001b[32m7\u001b[39m     \u001b[38;5;28;01mraise\u001b[39;00m \u001b[38;5;167;01mValueError\u001b[39;00m(\u001b[33m\"\u001b[39m\u001b[33mInavalid house\u001b[39m\u001b[33m\"\u001b[39m)\n\u001b[32m      9\u001b[39m \u001b[38;5;28mself\u001b[39m.name=name\n\u001b[32m     10\u001b[39m \u001b[38;5;28mself\u001b[39m.house=house\n",
      "\u001b[31mValueError\u001b[39m: Inavalid house"
     ]
    }
   ],
   "source": [
    "class Student:\n",
    "    def __init__(self,name,house):\n",
    "        if not name:\n",
    "            raise ValueError(\"Missing Name!\")\n",
    "\n",
    "        if house not in ['Gryffindor','Hufflepuff','Ravenclaw','Slytherin']:\n",
    "            raise ValueError(\"Inavalid house\")\n",
    "        \n",
    "        self.name=name\n",
    "        self.house=house\n",
    "        \n",
    "\n",
    "def main():\n",
    "    student=get_student()\n",
    "    print(f\"{student.name} from {student.house}\")\n",
    "\n",
    "def get_student():\n",
    "    name='Harry'\n",
    "    house='Number four,Pivot'\n",
    "    student=Student(name,house)\n",
    "    return student\n",
    "\n",
    "main()\n",
    "\n",
    "'''\n",
    "yes we have raised a error but we can except it also here we have not except\n",
    "\n",
    "try:\n",
    "    student=Student(name,house)\n",
    "except:\n",
    "    ....\n",
    "'''"
   ]
  },
  {
   "cell_type": "code",
   "execution_count": null,
   "id": "081de2b9",
   "metadata": {},
   "outputs": [
    {
     "name": "stdout",
     "output_type": "stream",
     "text": [
      "<__main__.Student object at 0x0000021D0CB0ABA0>\n"
     ]
    }
   ],
   "source": [
    "\n",
    "\n",
    "class Student:\n",
    "    def __init__(self,name,house):\n",
    "        if not name:\n",
    "            raise ValueError(\"Missing Name!\")\n",
    "\n",
    "        if house not in ['Gryffindor','Hufflepuff','Ravenclaw','Slytherin']:\n",
    "            raise ValueError(\"Inavalid house\")\n",
    "        \n",
    "        self.name=name\n",
    "        self.house=house\n",
    "        \n",
    "\n",
    "def main():\n",
    "    student=get_student()\n",
    "    print(student) # focus here its output #<__main__.Student object at 0x0000021D0CB0AF90>\n",
    "\n",
    "def get_student():\n",
    "    name='Harry'\n",
    "    house='Gryffindor'\n",
    "    student=Student(name,house)\n",
    "    return student\n",
    "\n",
    "main()\n",
    "\n",
    "'''\n",
    "you know we ceate a object and returned to a function\n",
    "student=Student(name,house)\n",
    "    return student\n",
    "and suppose we will print(student) what we will get ?\n",
    "\n",
    "we get output somethin like this\n",
    "<__main__.Student object at 0x0000021D0CB0AF90>\n",
    "and we can overwrite this thing istead of printing something like above\n",
    "we can print what we want to display by using __str__\n",
    "\n",
    "so basically if someone want to see how your object looking we can use this method\n",
    "'''"
   ]
  },
  {
   "cell_type": "code",
   "execution_count": 1,
   "id": "90fc735c",
   "metadata": {},
   "outputs": [
    {
     "name": "stdout",
     "output_type": "stream",
     "text": [
      "A student object with name=Harry and house=Gryffindor\n"
     ]
    }
   ],
   "source": [
    "class Student:\n",
    "    def __init__(self,name,house):\n",
    "        if not name:\n",
    "            raise ValueError(\"Missing Name!\")\n",
    "\n",
    "        if house not in ['Gryffindor','Hufflepuff','Ravenclaw','Slytherin']:\n",
    "            raise ValueError(\"Inavalid house\")\n",
    "        \n",
    "        self.name=name\n",
    "        self.house=house\n",
    "\n",
    "    def __str__(self):\n",
    "        return f\"A student object with name={self.name} and house={self.house}\"\n",
    "        \n",
    "\n",
    "def main():\n",
    "    student=get_student()\n",
    "    print(student) # focus its output\n",
    "\n",
    "def get_student():\n",
    "    name='Harry'\n",
    "    house='Gryffindor'\n",
    "    student=Student(name,house)\n",
    "    return student\n",
    "\n",
    "main()"
   ]
  },
  {
   "cell_type": "code",
   "execution_count": 2,
   "id": "4e66bf77",
   "metadata": {},
   "outputs": [
    {
     "name": "stdout",
     "output_type": "stream",
     "text": [
      "Book:Harry Potter\n"
     ]
    },
    {
     "data": {
      "text/plain": [
       "'Book:Harry Potter'"
      ]
     },
     "execution_count": 2,
     "metadata": {},
     "output_type": "execute_result"
    }
   ],
   "source": [
    "'''\n",
    "1. __str__: For human-friendly string representation\n",
    "Called by: str(obj) or print(obj)\n",
    "\n",
    "Goal: Give a readable, user-friendly string version of the object\n",
    "\n",
    "Used when the object is printed\n",
    "'''\n",
    "\n",
    "class Book:\n",
    "    def __init__(self,title):\n",
    "        self.title=title\n",
    "\n",
    "    def __str__(self):\n",
    "        return f\"Book:{self.title}\"\n",
    "    \n",
    "b=Book(\"Harry Potter\")\n",
    "print(b)\n",
    "str(b)"
   ]
  },
  {
   "cell_type": "code",
   "execution_count": null,
   "id": "ff813902",
   "metadata": {},
   "outputs": [
    {
     "name": "stdout",
     "output_type": "stream",
     "text": [
      "Book(title='Harry Potter')\n"
     ]
    },
    {
     "data": {
      "text/plain": [
       "Book(title='Harry Potter')"
      ]
     },
     "execution_count": 11,
     "metadata": {},
     "output_type": "execute_result"
    }
   ],
   "source": [
    "'''\n",
    "2. __repr__: For developer/debugging-friendly representation\n",
    "Called by: repr(obj) or if you just type obj in the Python shell\n",
    "\n",
    "Goal: Give a precise, unambiguous string that helps developers debug\n",
    "\n",
    "Ideally, it should return a string that can be used to recreate the object (eval()-style, if possible)\n",
    "'''\n",
    "\n",
    "class Book:\n",
    "    def __init__(self,title):\n",
    "        self.title=title\n",
    "\n",
    "    def __repr__(self):\n",
    "        # return f\"Book(title={self.title})\" # Book(title=Harry Potter)\n",
    "        return f\"Book(title={self.title!r})\" #Book(title='Harry Potter')\n",
    "    \n",
    "b= Book(\"Harry Potter\")\n",
    "print(b)\n",
    "b"
   ]
  },
  {
   "cell_type": "code",
   "execution_count": 3,
   "id": "05ef938c",
   "metadata": {},
   "outputs": [
    {
     "name": "stdout",
     "output_type": "stream",
     "text": [
      "Name:Harry;House:Gryffindor;FvtAlphabet:c\n",
      "Your Fvt Fruit Custurd Apple\n"
     ]
    }
   ],
   "source": [
    "class Student:\n",
    "\n",
    "    def __init__(self,name,house,fvtAlphabet):\n",
    "\n",
    "        if not name:\n",
    "            raise ValueError(\"Missing Name!\")\n",
    "\n",
    "        if house not in ['Gryffindor','Hufflepuff','Ravenclaw','Slytherin']:\n",
    "            raise ValueError(\"Inavalid house\")\n",
    "        \n",
    "        self.name=name\n",
    "        self.house=house\n",
    "        self.fvtAlphabet=fvtAlphabet\n",
    "\n",
    "\n",
    "    def __str__(self):\n",
    "        return f\"Name:{self.name};House:{self.house};FvtAlphabet:{self.fvtAlphabet}\"\n",
    "\n",
    "    \n",
    "    def yourFvtFruit(self):\n",
    "        match self.fvtAlphabet:\n",
    "            case \"a\":\n",
    "                return \"Apple\"\n",
    "            case \"b\":\n",
    "                return \"Banana\"\n",
    "            case \"c\":\n",
    "                return \"Custurd Apple\"\n",
    "            case _:\n",
    "                return \"You don't love fruits\"\n",
    "            \n",
    "\n",
    "def main():\n",
    "    student=get_student()\n",
    "    print(student)\n",
    "    print(\"Your Fvt Fruit\",student.yourFvtFruit())\n",
    "\n",
    "def get_student():\n",
    "    name=\"Harry\"\n",
    "    house=\"Gryffindor\"\n",
    "    fvtAlphabet=\"c\"\n",
    "    return Student(name,house,fvtAlphabet)\n",
    "\n",
    "main()\n",
    "\n",
    "        "
   ]
  },
  {
   "cell_type": "code",
   "execution_count": null,
   "id": "b3622d00",
   "metadata": {},
   "outputs": [
    {
     "name": "stdout",
     "output_type": "stream",
     "text": [
      "Name:Harry;House:PMO\n"
     ]
    }
   ],
   "source": [
    "'''\n",
    "See this version of code \n",
    "notice the main()\n",
    "even we used some checks for name and house still wee can overpass this\n",
    "how?\n",
    "we not we can access instance varibale with obj\n",
    "student.house or student.name still we can see\n",
    "what if we change that?\n",
    "did we call __init__ again ? answer is no\n",
    "so even we added few checks but it bypasses that we are able to change the\n",
    "name or house.\n",
    "let's see how we can resolve this issue using properties (@property/decorators)\n",
    "decorators which is a function which modify the behaviour of a function\n",
    "'''\n",
    "\n",
    "class Student:\n",
    "\n",
    "    def __init__(self,name,house):\n",
    "\n",
    "        if not name:\n",
    "            raise ValueError(\"Missing Name!\")\n",
    "\n",
    "        if house not in ['Gryffindor','Hufflepuff','Ravenclaw','Slytherin']:\n",
    "            raise ValueError(\"Inavalid house\")\n",
    "        \n",
    "        self.name=name\n",
    "        self.house=house\n",
    "\n",
    "\n",
    "    def __str__(self):\n",
    "        return f\"Name:{self.name};House:{self.house}\"\n",
    "            \n",
    "\n",
    "def main():\n",
    "    student=get_student()\n",
    "    student.house=\"PMO\"\n",
    "    print(student)\n",
    "\n",
    "\n",
    "def get_student():\n",
    "    name=\"Harry\"\n",
    "    house=\"Gryffindor\"\n",
    "    return Student(name,house)\n",
    "\n",
    "main()\n"
   ]
  },
  {
   "cell_type": "code",
   "execution_count": 10,
   "id": "dad3ece1",
   "metadata": {},
   "outputs": [
    {
     "ename": "ValueError",
     "evalue": "Inavalid house",
     "output_type": "error",
     "traceback": [
      "\u001b[31m---------------------------------------------------------------------------\u001b[39m",
      "\u001b[31mValueError\u001b[39m                                Traceback (most recent call last)",
      "\u001b[36mCell\u001b[39m\u001b[36m \u001b[39m\u001b[32mIn[10]\u001b[39m\u001b[32m, line 59\u001b[39m\n\u001b[32m     56\u001b[39m     house=\u001b[33m\"\u001b[39m\u001b[33mGryffindor\u001b[39m\u001b[33m\"\u001b[39m\n\u001b[32m     57\u001b[39m     \u001b[38;5;28;01mreturn\u001b[39;00m Student(name,house)\n\u001b[32m---> \u001b[39m\u001b[32m59\u001b[39m \u001b[43mmain\u001b[49m\u001b[43m(\u001b[49m\u001b[43m)\u001b[49m\n\u001b[32m     61\u001b[39m \u001b[33;03m'''\u001b[39;00m\n\u001b[32m     62\u001b[39m \u001b[33;03mNow we are getting error it is good correct\u001b[39;00m\n\u001b[32m     63\u001b[39m \u001b[33;03m'''\u001b[39;00m\n\u001b[32m     65\u001b[39m \u001b[33;03m'''\u001b[39;00m\n\u001b[32m     66\u001b[39m \u001b[33;03mwhenever python see \u001b[39;00m\n\u001b[32m     67\u001b[39m \u001b[33;03mself.house it will call getter\u001b[39;00m\n\u001b[32m   (...)\u001b[39m\u001b[32m     77\u001b[39m \n\u001b[32m     78\u001b[39m \u001b[33;03m'''\u001b[39;00m\n",
      "\u001b[36mCell\u001b[39m\u001b[36m \u001b[39m\u001b[32mIn[10]\u001b[39m\u001b[32m, line 50\u001b[39m, in \u001b[36mmain\u001b[39m\u001b[34m()\u001b[39m\n\u001b[32m     48\u001b[39m \u001b[38;5;28;01mdef\u001b[39;00m\u001b[38;5;250m \u001b[39m\u001b[34mmain\u001b[39m():\n\u001b[32m     49\u001b[39m     student=get_student()\n\u001b[32m---> \u001b[39m\u001b[32m50\u001b[39m     \u001b[43mstudent\u001b[49m\u001b[43m.\u001b[49m\u001b[43mhouse\u001b[49m=\u001b[33m\"\u001b[39m\u001b[33mPMO\u001b[39m\u001b[33m\"\u001b[39m\n\u001b[32m     51\u001b[39m     \u001b[38;5;28mprint\u001b[39m(student)\n",
      "\u001b[36mCell\u001b[39m\u001b[36m \u001b[39m\u001b[32mIn[10]\u001b[39m\u001b[32m, line 29\u001b[39m, in \u001b[36mStudent.house\u001b[39m\u001b[34m(self, house)\u001b[39m\n\u001b[32m     26\u001b[39m \u001b[38;5;129m@house\u001b[39m.setter\n\u001b[32m     27\u001b[39m \u001b[38;5;28;01mdef\u001b[39;00m\u001b[38;5;250m \u001b[39m\u001b[34mhouse\u001b[39m(\u001b[38;5;28mself\u001b[39m,house):\n\u001b[32m     28\u001b[39m     \u001b[38;5;28;01mif\u001b[39;00m house \u001b[38;5;129;01mnot\u001b[39;00m \u001b[38;5;129;01min\u001b[39;00m [\u001b[33m'\u001b[39m\u001b[33mGryffindor\u001b[39m\u001b[33m'\u001b[39m,\u001b[33m'\u001b[39m\u001b[33mHufflepuff\u001b[39m\u001b[33m'\u001b[39m,\u001b[33m'\u001b[39m\u001b[33mRavenclaw\u001b[39m\u001b[33m'\u001b[39m,\u001b[33m'\u001b[39m\u001b[33mSlytherin\u001b[39m\u001b[33m'\u001b[39m]:\n\u001b[32m---> \u001b[39m\u001b[32m29\u001b[39m         \u001b[38;5;28;01mraise\u001b[39;00m \u001b[38;5;167;01mValueError\u001b[39;00m(\u001b[33m\"\u001b[39m\u001b[33mInavalid house\u001b[39m\u001b[33m\"\u001b[39m)\n\u001b[32m     30\u001b[39m     \u001b[38;5;28mself\u001b[39m._house=house\n",
      "\u001b[31mValueError\u001b[39m: Inavalid house"
     ]
    }
   ],
   "source": [
    "'''\n",
    "creating a getter and setter\n",
    "what it will actually do how we are solving above problem?\n",
    "if we declare a getter and setter then everytime we try to access or set\n",
    "that variable we will hit that function even we access directly through\n",
    "object name\n",
    "for getter use decorator: @property\n",
    "for setter use decorator: @functionName.setter\n",
    "'''\n",
    "\n",
    "\n",
    "\n",
    "class Student:\n",
    "\n",
    "    def __init__(self,name,house):\n",
    "        self.name=name\n",
    "        self.house=house\n",
    "\n",
    "\n",
    "    #getter\n",
    "    @property\n",
    "    def house(self):\n",
    "        return self._house\n",
    "    \n",
    "    #setter\n",
    "    @house.setter\n",
    "    def house(self,house):\n",
    "        if house not in ['Gryffindor','Hufflepuff','Ravenclaw','Slytherin']:\n",
    "            raise ValueError(\"Inavalid house\")\n",
    "        self._house=house\n",
    "\n",
    "    #getter\n",
    "    @property\n",
    "    def name(self):\n",
    "        return self._name\n",
    "    \n",
    "    #setter\n",
    "    @name.setter\n",
    "    def name(self,name):\n",
    "        if not name:\n",
    "            raise ValueError(\"Missing Name!\")\n",
    "        self._name=name\n",
    "\n",
    "    def __str__(self):\n",
    "        return f\"Name:{self.name};House:{self.house}\"\n",
    "            \n",
    "\n",
    "def main():\n",
    "    student=get_student()\n",
    "    student.house=\"PMO\"\n",
    "    print(student)\n",
    "\n",
    "\n",
    "def get_student():\n",
    "    name=\"Harry\"\n",
    "    house=\"Gryffindor\"\n",
    "    return Student(name,house)\n",
    "\n",
    "main()\n",
    "\n",
    "'''\n",
    "Now we are getting error it is good correct\n",
    "'''\n",
    "\n",
    "'''\n",
    "whenever python see \n",
    "self.house it will call getter\n",
    "self.house=\"something\" it will call setter\n",
    "\n",
    "why we have written like this\n",
    "return self._house or self._house=house\n",
    "\n",
    "to differentiate between getter/setter function name and instance varibale name\n",
    "like we write like this return self.house or self.house=house\n",
    "its mean that we are agin calling getter/setter function (will get recurssion error) correct?\n",
    "yes we again calling hence we added _\n",
    "\n",
    "'''"
   ]
  },
  {
   "cell_type": "code",
   "execution_count": null,
   "id": "01398134",
   "metadata": {},
   "outputs": [
    {
     "ename": "ValueError",
     "evalue": "Missing Name!",
     "output_type": "error",
     "traceback": [
      "\u001b[31m---------------------------------------------------------------------------\u001b[39m",
      "\u001b[31mValueError\u001b[39m                                Traceback (most recent call last)",
      "\u001b[36mCell\u001b[39m\u001b[36m \u001b[39m\u001b[32mIn[11]\u001b[39m\u001b[32m, line 47\u001b[39m\n\u001b[32m     44\u001b[39m     house=\u001b[33m\"\u001b[39m\u001b[33mGryffindor\u001b[39m\u001b[33m\"\u001b[39m\n\u001b[32m     45\u001b[39m     \u001b[38;5;28;01mreturn\u001b[39;00m Student(name,house)\n\u001b[32m---> \u001b[39m\u001b[32m47\u001b[39m \u001b[43mmain\u001b[49m\u001b[43m(\u001b[49m\u001b[43m)\u001b[49m\n",
      "\u001b[36mCell\u001b[39m\u001b[36m \u001b[39m\u001b[32mIn[11]\u001b[39m\u001b[32m, line 38\u001b[39m, in \u001b[36mmain\u001b[39m\u001b[34m()\u001b[39m\n\u001b[32m     36\u001b[39m \u001b[38;5;28;01mdef\u001b[39;00m\u001b[38;5;250m \u001b[39m\u001b[34mmain\u001b[39m():\n\u001b[32m     37\u001b[39m     student=get_student()\n\u001b[32m---> \u001b[39m\u001b[32m38\u001b[39m     \u001b[43mstudent\u001b[49m\u001b[43m.\u001b[49m\u001b[43mname\u001b[49m=\u001b[33m\"\u001b[39m\u001b[33m\"\u001b[39m\n\u001b[32m     39\u001b[39m     \u001b[38;5;28mprint\u001b[39m(student)\n",
      "\u001b[36mCell\u001b[39m\u001b[36m \u001b[39m\u001b[32mIn[11]\u001b[39m\u001b[32m, line 29\u001b[39m, in \u001b[36mStudent.name\u001b[39m\u001b[34m(self, name)\u001b[39m\n\u001b[32m     26\u001b[39m \u001b[38;5;129m@name\u001b[39m.setter\n\u001b[32m     27\u001b[39m \u001b[38;5;28;01mdef\u001b[39;00m\u001b[38;5;250m \u001b[39m\u001b[34mname\u001b[39m(\u001b[38;5;28mself\u001b[39m,name):\n\u001b[32m     28\u001b[39m     \u001b[38;5;28;01mif\u001b[39;00m \u001b[38;5;129;01mnot\u001b[39;00m name:\n\u001b[32m---> \u001b[39m\u001b[32m29\u001b[39m         \u001b[38;5;28;01mraise\u001b[39;00m \u001b[38;5;167;01mValueError\u001b[39;00m(\u001b[33m\"\u001b[39m\u001b[33mMissing Name!\u001b[39m\u001b[33m\"\u001b[39m)\n\u001b[32m     30\u001b[39m     \u001b[38;5;28mself\u001b[39m._name=name\n",
      "\u001b[31mValueError\u001b[39m: Missing Name!"
     ]
    }
   ],
   "source": [
    "'''\n",
    "here overwriting name\n",
    "'''\n",
    "\n",
    "class Student:\n",
    "\n",
    "    def __init__(self,name,house):\n",
    "        self.name=name\n",
    "        self.house=house\n",
    "\n",
    "\n",
    "    #getter\n",
    "    @property\n",
    "    def house(self):\n",
    "        return self._house\n",
    "    \n",
    "    #setter\n",
    "    @house.setter\n",
    "    def house(self,house):\n",
    "        if house not in ['Gryffindor','Hufflepuff','Ravenclaw','Slytherin']:\n",
    "            raise ValueError(\"Inavalid house\")\n",
    "        self._house=house\n",
    "\n",
    "    #getter\n",
    "    @property\n",
    "    def name(self):\n",
    "        return self._name\n",
    "    \n",
    "    #setter\n",
    "    @name.setter\n",
    "    def name(self,name):\n",
    "        if not name:\n",
    "            raise ValueError(\"Missing Name!\")\n",
    "        self._name=name\n",
    "\n",
    "    def __str__(self):\n",
    "        return f\"Name:{self.name};House:{self.house}\"\n",
    "            \n",
    "\n",
    "def main():\n",
    "    student=get_student()\n",
    "    student.name=\"\"\n",
    "    print(student)\n",
    "\n",
    "\n",
    "def get_student():\n",
    "    name=\"Harry\"\n",
    "    house=\"Gryffindor\"\n",
    "    return Student(name,house)\n",
    "\n",
    "main()"
   ]
  },
  {
   "cell_type": "code",
   "execution_count": null,
   "id": "d900d38d",
   "metadata": {},
   "outputs": [
    {
     "name": "stdout",
     "output_type": "stream",
     "text": [
      "Name:Harry;House:PMO\n"
     ]
    }
   ],
   "source": [
    "'''\n",
    "do you know still we cane change the instance varibale by bypassing getter and setter\n",
    "\n",
    "we know instance variable is _house and _name\n",
    "\n",
    "what if we write \n",
    "\n",
    "student._house=\"PMO\"\n",
    "\n",
    "see we have overpassed the getter setter now what?\n",
    "actually if you see anywhere instance variable start with _ please try to avoid changing\n",
    "it python doesn't provide ant strictness here its developer responsibilty\n",
    "not do something like this\n",
    "Python only focus on conventions not hard constraints\n",
    "'''\n",
    "\n",
    "\n",
    "class Student:\n",
    "\n",
    "    def __init__(self,name,house):\n",
    "        self.name=name\n",
    "        self.house=house\n",
    "\n",
    "\n",
    "    #getter\n",
    "    @property\n",
    "    def house(self):\n",
    "        return self._house\n",
    "    \n",
    "    #setter\n",
    "    @house.setter\n",
    "    def house(self,house):\n",
    "        if house not in ['Gryffindor','Hufflepuff','Ravenclaw','Slytherin']:\n",
    "            raise ValueError(\"Inavalid house\")\n",
    "        self._house=house\n",
    "\n",
    "    #getter\n",
    "    @property\n",
    "    def name(self):\n",
    "        return self._name\n",
    "    \n",
    "    #setter\n",
    "    @name.setter\n",
    "    def name(self,name):\n",
    "        if not name:\n",
    "            raise ValueError(\"Missing Name!\")\n",
    "        self._name=name\n",
    "\n",
    "    def __str__(self):\n",
    "        return f\"Name:{self.name};House:{self.house}\"\n",
    "            \n",
    "\n",
    "def main():\n",
    "    student=get_student()\n",
    "    student._house=\"PMO\"\n",
    "    print(student)\n",
    "\n",
    "\n",
    "def get_student():\n",
    "    name=\"Harry\"\n",
    "    house=\"Gryffindor\"\n",
    "    return Student(name,house)\n",
    "\n",
    "main()"
   ]
  },
  {
   "cell_type": "code",
   "execution_count": 19,
   "id": "cb94a383",
   "metadata": {},
   "outputs": [
    {
     "name": "stdout",
     "output_type": "stream",
     "text": [
      "<class 'int'>\n",
      "<class 'str'>\n",
      "------------------\n",
      "<class 'list'>\n",
      "<class 'list'>\n",
      "------------------\n",
      "<class 'dict'>\n",
      "<class 'dict'>\n"
     ]
    }
   ],
   "source": [
    "'''\n",
    "Do we know int,str,dict,list all are Class?\n",
    "\n",
    "class int(x,base=10)\n",
    "class str(object='')\n",
    "str.lower() # method available on str class\n",
    "\n",
    "class list([iterable])\n",
    "list.append() # method available on list class\n",
    "'''\n",
    "\n",
    "print(type(5))\n",
    "print(type(\"Hello, World\"))\n",
    "print(\"------------------\")\n",
    "\n",
    "print(type([]))\n",
    "print(type(list()))\n",
    "print(\"------------------\")\n",
    "\n",
    "print(type({}))\n",
    "print(type(dict()))"
   ]
  },
  {
   "cell_type": "code",
   "execution_count": 21,
   "id": "56c0c895",
   "metadata": {},
   "outputs": [
    {
     "name": "stdout",
     "output_type": "stream",
     "text": [
      "Harry is in Hufflepff\n"
     ]
    }
   ],
   "source": [
    "# class method\n",
    "# this method associted with a class\n",
    "# we use decorator @classmethod to make a method as a class method\n",
    "# class varibale associated with class\n",
    "\n",
    "import random\n",
    "\n",
    "class Hat:\n",
    "    houses=['Gryffindor','Hufflepff','Ravenclaw','Slytherin']\n",
    "\n",
    "    @classmethod\n",
    "    def sort(cls,name):\n",
    "        print(name,\"is in\", random.choice(cls.houses))\n",
    "\n",
    "\n",
    "Hat.sort(\"Harry\")\n"
   ]
  },
  {
   "cell_type": "code",
   "execution_count": 24,
   "id": "24761c8a",
   "metadata": {},
   "outputs": [
    {
     "name": "stdout",
     "output_type": "stream",
     "text": [
      "Name:Harry;House:Gryffindor\n"
     ]
    }
   ],
   "source": [
    "'''\n",
    "let get back to the student class\n",
    "like if we define any class then all functionality of class should be\n",
    "inside student class onlt correct?\n",
    "but see my Student class above in main function i am calling get_student()\n",
    "which ask for name and house then instantiating a class for me\n",
    "it is good if I can move this function inside a class\n",
    "let's see it how we can do that using class method \n",
    "'''\n",
    "\n",
    "\n",
    "class Student:\n",
    "\n",
    "    def __init__(self,name,house):\n",
    "        self.name=name\n",
    "        self.house=house\n",
    "\n",
    "    @classmethod\n",
    "    def get_student(cls):\n",
    "        return cls(input(\"Name:?\"),input(\"House?\"))\n",
    "\n",
    "    def __str__(self):\n",
    "        return f\"Name:{self.name};House:{self.house}\"\n",
    "            \n",
    "\n",
    "def main():\n",
    "    student=Student.get_student()\n",
    "    print(student)\n",
    "\n",
    "main()"
   ]
  },
  {
   "cell_type": "code",
   "execution_count": 26,
   "id": "d5c5e846",
   "metadata": {},
   "outputs": [
    {
     "data": {
      "text/plain": [
       "8"
      ]
     },
     "execution_count": 26,
     "metadata": {},
     "output_type": "execute_result"
    }
   ],
   "source": [
    "# static method\n",
    "# static method vs class method\n",
    "\n",
    "#static method\n",
    "\n",
    "'''\n",
    "What is it?\n",
    "A @staticmethod is a method that belongs to the class but \n",
    "does not receive the class (cls) or instance (self) \n",
    "as the first argument.\n",
    "\n",
    "It behaves like a regular function, but is included in the \n",
    "class for organizational or semantic reasons — \n",
    "because it's logically related to the class.\n",
    "'''\n",
    "\n",
    "'''\n",
    "When to use it?\n",
    "Use @staticmethod when the method:\n",
    "\n",
    "Doesn't need to access instance variables (self)\n",
    "\n",
    "Doesn't need to access class variables (cls)\n",
    "\n",
    "Is just logically related to the class\n",
    "'''\n",
    "\n",
    "\n",
    "class Math:\n",
    "\n",
    "    @staticmethod\n",
    "    def add(x,y):\n",
    "        return x+y\n",
    "    \n",
    "\n",
    "Math.add(3,5)"
   ]
  },
  {
   "cell_type": "code",
   "execution_count": null,
   "id": "1750b616",
   "metadata": {},
   "outputs": [
    {
     "data": {
      "text/plain": [
       "3"
      ]
     },
     "execution_count": 27,
     "metadata": {},
     "output_type": "execute_result"
    }
   ],
   "source": [
    "# class method\n",
    "\n",
    "'''\n",
    "What is it?\n",
    "A @classmethod receives the class itself (cls) \n",
    "as the first argument, not the instance.\n",
    "\n",
    "It can access and modify class-level data, and is often \n",
    "used for:\n",
    "\n",
    "Factory methods (alternate constructors) means from classmethod instansite a class\n",
    "Working with class-level variables\n",
    "'''\n",
    "\n",
    "'''\n",
    "When to use it?\n",
    "Use @classmethod when:\n",
    "\n",
    "You need access to the class (cls)\n",
    "\n",
    "You want to create or return new instances of the class\n",
    "\n",
    "You want to change or read class-level attributes\n",
    "'''\n",
    "\n",
    "class Person:\n",
    "    population=0\n",
    "\n",
    "    def __init__(self,name):\n",
    "        self.name=name\n",
    "        Person.population+=1\n",
    "\n",
    "    \n",
    "    @classmethod\n",
    "    def get_population(cls):\n",
    "        return cls.population\n",
    "    \n",
    "\n",
    "p1=Person(\"Jhon\")\n",
    "p2=Person(\"Jill\")\n",
    "p3=Person(\"Jack\")\n",
    "\n",
    "Person.get_population() #3"
   ]
  },
  {
   "cell_type": "code",
   "execution_count": 28,
   "id": "5380959e",
   "metadata": {},
   "outputs": [
    {
     "data": {
      "text/plain": [
       "\"\\nNotice first thing writing few things multiple times\\nlike name validation and name instance varibale assignment\\nhow we can use a inheritance here suppose this common thing available\\ninside another function and we just extend it we don't have to write multiple time\\n\""
      ]
     },
     "execution_count": 28,
     "metadata": {},
     "output_type": "execute_result"
    }
   ],
   "source": [
    "# inheritance\n",
    "# wizard.py\n",
    "\n",
    "class Student:\n",
    "    def __init__(self,name,house):\n",
    "\n",
    "        if not name:\n",
    "            raise ValueError(\"Name is missing\") \n",
    "        \n",
    "        self.name=name\n",
    "        self.house=house\n",
    "\n",
    "\n",
    "class Professor:\n",
    "    def __init__(self,name,subject):\n",
    "\n",
    "        if not name:\n",
    "            raise ValueError(\"Name is missing\") \n",
    "        \n",
    "        self.name=name\n",
    "        self.subject=subject\n",
    "\n",
    "'''\n",
    "Notice first thing writing few things multiple times\n",
    "like name validation and name instance varibale assignment\n",
    "how we can use a inheritance here suppose this common thing available\n",
    "inside another function and we just extend it we don't have to write multiple time\n",
    "'''"
   ]
  },
  {
   "cell_type": "code",
   "execution_count": 30,
   "id": "0609bb81",
   "metadata": {},
   "outputs": [
    {
     "name": "stdout",
     "output_type": "stream",
     "text": [
      "Name:Albus\n",
      "Name:Harry House:Gryffindor\n",
      "Name:Severus Subject:Defence Against the Dark Arts\n"
     ]
    }
   ],
   "source": [
    "class Wizard:\n",
    "    def __init__(self,name):\n",
    "\n",
    "        if not name:\n",
    "            raise ValueError(\"Name is missing\") \n",
    "        \n",
    "        self.name=name\n",
    "\n",
    "\n",
    "    def __str__(self):\n",
    "        return f\"Name:{self.name}\"\n",
    "\n",
    "\n",
    "class Student(Wizard):\n",
    "    def __init__(self,name,house):\n",
    "        super().__init__(name)\n",
    "        self.house=house\n",
    "\n",
    "    def __str__(self):\n",
    "        return super().__str__() + \" \" + \"House:\"+self.house\n",
    "\n",
    "\n",
    "class Professor(Wizard):\n",
    "    def __init__(self,name,subject):\n",
    "        super().__init__(name)\n",
    "        self.subject=subject\n",
    "\n",
    "    def __str__(self):\n",
    "        return super().__str__()+ \" \" + \"Subject:\"+self.subject\n",
    "\n",
    "\n",
    "\n",
    "wizard=Wizard(\"Albus\")\n",
    "student=Student(\"Harry\",\"Gryffindor\")\n",
    "professor=Professor(\"Severus\",\"Defence Against the Dark Arts\")\n",
    "\n",
    "\n",
    "print(wizard)\n",
    "print(student)\n",
    "print(professor)"
   ]
  },
  {
   "cell_type": "code",
   "execution_count": 31,
   "id": "e8b71de1",
   "metadata": {},
   "outputs": [
    {
     "data": {
      "text/plain": [
       "'\\nBaseException\\n +-- KeyboardInterrupt\\n +-- Exception\\n      +-- ArithmeticError\\n      |    +-- ZeroDivisionError\\n      +-- AssertionError\\n      +-- AttributeError\\n      +-- EOFError\\n      +-- ImportError\\n      |    +-- ModuleNotFoundError\\n      +-- LookupError\\n      |    +-- KeyError\\n      +-- NameError\\n      +-- SyntaxError\\n      |    +-- IndentationError\\n      +-- ValueError\\n\\n'"
      ]
     },
     "execution_count": 31,
     "metadata": {},
     "output_type": "execute_result"
    }
   ],
   "source": [
    "#Lets see inheritance in Exception \n",
    "\n",
    "'''\n",
    "BaseException\n",
    " +-- KeyboardInterrupt\n",
    " +-- Exception\n",
    "      +-- ArithmeticError\n",
    "      |    +-- ZeroDivisionError\n",
    "      +-- AssertionError\n",
    "      +-- AttributeError\n",
    "      +-- EOFError\n",
    "      +-- ImportError\n",
    "      |    +-- ModuleNotFoundError\n",
    "      +-- LookupError\n",
    "      |    +-- KeyError\n",
    "      +-- NameError\n",
    "      +-- SyntaxError\n",
    "      |    +-- IndentationError\n",
    "      +-- ValueError\n",
    "\n",
    "'''"
   ]
  },
  {
   "cell_type": "code",
   "execution_count": 32,
   "id": "50651e2f",
   "metadata": {},
   "outputs": [
    {
     "name": "stdout",
     "output_type": "stream",
     "text": [
      "Galleons:100;Sickles:50;Knuts:25\n",
      "Galleons:25;Sickles:50;Knuts:100\n"
     ]
    }
   ],
   "source": [
    "# operator loading\n",
    "# vault.py\n",
    "\n",
    "class Vault:\n",
    "\n",
    "    def __init__(self,galleons=0,sickles=0,knuts=0):\n",
    "        self.galleons=galleons\n",
    "        self.sickles=sickles\n",
    "        self.knuts=knuts\n",
    "\n",
    "    def __str__(self):\n",
    "        return f\"Galleons:{self.galleons};Sickles:{self.sickles};Knuts:{self.knuts}\"\n",
    "    \n",
    "potter=Vault(100,50,25)\n",
    "print(potter)\n",
    "\n",
    "wisely=Vault(25,50,100)\n",
    "print(wisely)\n",
    "\n"
   ]
  },
  {
   "cell_type": "code",
   "execution_count": 34,
   "id": "a802b412",
   "metadata": {},
   "outputs": [
    {
     "name": "stdout",
     "output_type": "stream",
     "text": [
      "Galleons:100;Sickles:50;Knuts:25\n",
      "Galleons:25;Sickles:50;Knuts:100\n",
      "Galleons:125;Sickles:100;Knuts:125\n"
     ]
    }
   ],
   "source": [
    "#lets add individual vault\n",
    "\n",
    "class Vault:\n",
    "\n",
    "    def __init__(self,galleons=0,sickles=0,knuts=0):\n",
    "        self.galleons=galleons\n",
    "        self.sickles=sickles\n",
    "        self.knuts=knuts\n",
    "\n",
    "    def __str__(self):\n",
    "        return f\"Galleons:{self.galleons};Sickles:{self.sickles};Knuts:{self.knuts}\"\n",
    "    \n",
    "potter=Vault(100,50,25)\n",
    "print(potter)\n",
    "\n",
    "wisely=Vault(25,50,100)\n",
    "print(wisely)\n",
    "\n",
    "\n",
    "galleons=potter.galleons+wisely.galleons\n",
    "sickles=potter.sickles+wisely.sickles\n",
    "knuts=potter.knuts+wisely.knuts\n",
    "\n",
    "total=Vault(galleons,sickles,knuts)\n",
    "print(total)"
   ]
  },
  {
   "cell_type": "code",
   "execution_count": 35,
   "id": "3e456423",
   "metadata": {},
   "outputs": [
    {
     "name": "stdout",
     "output_type": "stream",
     "text": [
      "Galleons:100;Sickles:50;Knuts:25\n",
      "Galleons:25;Sickles:50;Knuts:100\n",
      "Galleons:125;Sickles:100;Knuts:125\n"
     ]
    }
   ],
   "source": [
    "'''\n",
    "Above is so manual work correct it is good if we can write something like this\n",
    "total=potter+weasly (now it will give error beacue this operator not supported on object)\n",
    "(here + will become overloaded since it can add number string now vault object)\n",
    "print(total)\n",
    "\n",
    "we can use __add__\n",
    "eg:object.__add__(self,other)\n",
    "'''\n",
    "\n",
    "class Vault:\n",
    "\n",
    "    def __init__(self,galleons=0,sickles=0,knuts=0):\n",
    "        self.galleons=galleons\n",
    "        self.sickles=sickles\n",
    "        self.knuts=knuts\n",
    "\n",
    "    def __add__(self,other):\n",
    "        galleons=self.galleons+other.galleons\n",
    "        sickles=self.sickles+other.sickles\n",
    "        knuts=self.knuts+other.knuts\n",
    "        return Vault(galleons,sickles,knuts)\n",
    "\n",
    "    def __str__(self):\n",
    "        return f\"Galleons:{self.galleons};Sickles:{self.sickles};Knuts:{self.knuts}\"\n",
    "    \n",
    "potter=Vault(100,50,25)\n",
    "print(potter)\n",
    "\n",
    "wisely=Vault(25,50,100)\n",
    "print(wisely)\n",
    "\n",
    "total=potter+wisely\n",
    "print(total)"
   ]
  },
  {
   "cell_type": "code",
   "execution_count": null,
   "id": "b9e47880",
   "metadata": {},
   "outputs": [],
   "source": []
  }
 ],
 "metadata": {
  "kernelspec": {
   "display_name": "Python 3",
   "language": "python",
   "name": "python3"
  },
  "language_info": {
   "codemirror_mode": {
    "name": "ipython",
    "version": 3
   },
   "file_extension": ".py",
   "mimetype": "text/x-python",
   "name": "python",
   "nbconvert_exporter": "python",
   "pygments_lexer": "ipython3",
   "version": "3.13.3"
  }
 },
 "nbformat": 4,
 "nbformat_minor": 5
}
