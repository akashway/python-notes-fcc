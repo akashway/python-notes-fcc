{
 "cells": [
  {
   "cell_type": "code",
   "execution_count": null,
   "id": "e23333c4",
   "metadata": {},
   "outputs": [
    {
     "name": "stdout",
     "output_type": "stream",
     "text": [
      "Gryffindor\n",
      "Ravenclaw\n",
      "Slytherin\n"
     ]
    }
   ],
   "source": [
    "#set\n",
    "\n",
    "students = [\n",
    "    {\"name\": \"Hermione\", \"house\": \"Gryffindor\"},\n",
    "    {\"name\": \"Harry\", \"house\": \"Gryffindor\"},\n",
    "    {\"name\": \"Ron\", \"house\": \"Gryffindor\"},\n",
    "    {\"name\": \"Draco\", \"house\": \"Slytherin\"},\n",
    "    {\"name\": \"Padma\", \"house\": \"Ravenclaw\"},\n",
    "]\n",
    "\n",
    "#let's try to find unique house in student list without set\n",
    "\n",
    "house_list=[]\n",
    "\n",
    "for student in students:\n",
    "    if student['house'] not in house_list:\n",
    "        house_list.append(student['house'])\n",
    "\n",
    "for house in sorted(house_list):\n",
    "    print(house)\n"
   ]
  },
  {
   "cell_type": "code",
   "execution_count": 6,
   "id": "44a14d51",
   "metadata": {},
   "outputs": [
    {
     "name": "stdout",
     "output_type": "stream",
     "text": [
      "{'Slytherin', 'Ravenclaw', 'Gryffindor'}\n",
      "<class 'set'>\n",
      "Gryffindor\n",
      "Ravenclaw\n",
      "Slytherin\n"
     ]
    }
   ],
   "source": [
    "students = [\n",
    "    {\"name\": \"Hermione\", \"house\": \"Gryffindor\"},\n",
    "    {\"name\": \"Harry\", \"house\": \"Gryffindor\"},\n",
    "    {\"name\": \"Ron\", \"house\": \"Gryffindor\"},\n",
    "    {\"name\": \"Draco\", \"house\": \"Slytherin\"},\n",
    "    {\"name\": \"Padma\", \"house\": \"Ravenclaw\"},\n",
    "]\n",
    "\n",
    "#let's try to find unique house in student list with set\n",
    "\n",
    "houses=set()\n",
    "\n",
    "for student in students:\n",
    "    houses.add(student['house'])\n",
    "\n",
    "print(houses)\n",
    "print(type(houses))\n",
    "\n",
    "for house in sorted(houses):\n",
    "    print(house)"
   ]
  },
  {
   "cell_type": "code",
   "execution_count": 7,
   "id": "62d5a2be",
   "metadata": {},
   "outputs": [
    {
     "name": "stdout",
     "output_type": "stream",
     "text": [
      "Balance: 0\n"
     ]
    }
   ],
   "source": [
    "balance=0\n",
    "\n",
    "def main():\n",
    "    print(\"Balance:\",balance)\n",
    "\n",
    "main()"
   ]
  },
  {
   "cell_type": "code",
   "execution_count": null,
   "id": "1ce3eac9",
   "metadata": {},
   "outputs": [
    {
     "name": "stdout",
     "output_type": "stream",
     "text": [
      "Balance: 0\n"
     ]
    },
    {
     "ename": "UnboundLocalError",
     "evalue": "cannot access local variable 'balance' where it is not associated with a value",
     "output_type": "error",
     "traceback": [
      "\u001b[31m---------------------------------------------------------------------------\u001b[39m",
      "\u001b[31mUnboundLocalError\u001b[39m                         Traceback (most recent call last)",
      "\u001b[36mCell\u001b[39m\u001b[36m \u001b[39m\u001b[32mIn[9]\u001b[39m\u001b[32m, line 16\u001b[39m\n\u001b[32m     13\u001b[39m \u001b[38;5;28;01mdef\u001b[39;00m\u001b[38;5;250m \u001b[39m\u001b[34mwithdraw\u001b[39m(n):\n\u001b[32m     14\u001b[39m     balance-=n\n\u001b[32m---> \u001b[39m\u001b[32m16\u001b[39m \u001b[43mmain\u001b[49m\u001b[43m(\u001b[49m\u001b[43m)\u001b[49m\n\u001b[32m     18\u001b[39m \u001b[33;03m'''\u001b[39;00m\n\u001b[32m     19\u001b[39m \u001b[33;03mWhy error?\u001b[39;00m\n\u001b[32m     20\u001b[39m \u001b[33;03mWhen you assign to a variable inside a function (like balance += n), \u001b[39;00m\n\u001b[32m   (...)\u001b[39m\u001b[32m     33\u001b[39m \n\u001b[32m     34\u001b[39m \u001b[33;03m'''\u001b[39;00m\n",
      "\u001b[36mCell\u001b[39m\u001b[36m \u001b[39m\u001b[32mIn[9]\u001b[39m\u001b[32m, line 5\u001b[39m, in \u001b[36mmain\u001b[39m\u001b[34m()\u001b[39m\n\u001b[32m      3\u001b[39m \u001b[38;5;28;01mdef\u001b[39;00m\u001b[38;5;250m \u001b[39m\u001b[34mmain\u001b[39m():\n\u001b[32m      4\u001b[39m     \u001b[38;5;28mprint\u001b[39m(\u001b[33m\"\u001b[39m\u001b[33mBalance:\u001b[39m\u001b[33m\"\u001b[39m,balance)\n\u001b[32m----> \u001b[39m\u001b[32m5\u001b[39m     \u001b[43mdeposit\u001b[49m\u001b[43m(\u001b[49m\u001b[32;43m100\u001b[39;49m\u001b[43m)\u001b[49m\n\u001b[32m      6\u001b[39m     withdraw(\u001b[32m50\u001b[39m)\n\u001b[32m      7\u001b[39m     \u001b[38;5;28mprint\u001b[39m(\u001b[33m\"\u001b[39m\u001b[33mBalance:\u001b[39m\u001b[33m\"\u001b[39m,balance)\n",
      "\u001b[36mCell\u001b[39m\u001b[36m \u001b[39m\u001b[32mIn[9]\u001b[39m\u001b[32m, line 11\u001b[39m, in \u001b[36mdeposit\u001b[39m\u001b[34m(n)\u001b[39m\n\u001b[32m     10\u001b[39m \u001b[38;5;28;01mdef\u001b[39;00m\u001b[38;5;250m \u001b[39m\u001b[34mdeposit\u001b[39m(n):\n\u001b[32m---> \u001b[39m\u001b[32m11\u001b[39m     \u001b[43mbalance\u001b[49m+=n\n",
      "\u001b[31mUnboundLocalError\u001b[39m: cannot access local variable 'balance' where it is not associated with a value"
     ]
    }
   ],
   "source": [
    "balance=0\n",
    "\n",
    "def main():\n",
    "    print(\"Balance:\",balance)\n",
    "    deposit(100)\n",
    "    withdraw(50)\n",
    "    print(\"Balance:\",balance)\n",
    "\n",
    "\n",
    "def deposit(n):\n",
    "    balance+=n\n",
    "\n",
    "def withdraw(n):\n",
    "    balance-=n\n",
    "\n",
    "main()\n",
    "\n",
    "'''\n",
    "Why error?\n",
    "When you assign to a variable inside a function (like balance += n), \n",
    "Python automatically treats balance as a local variable — \n",
    "unless you explicitly tell it it's global.\n",
    "\n",
    "So Python thinks:\n",
    "\n",
    "\"Oh, balance must be a local variable... but wait, \n",
    "you're trying to use it before assigning it!\"\n",
    "\n",
    "balance += n  # ← Python: You're using the local `balance` before assigning it. That's not allowed.\n",
    "\n",
    "\n",
    "but reading works fine\n",
    "\n",
    "Works fine because:\n",
    "\n",
    "You are only reading the global variable balance, not modifying it.\n",
    "\n",
    "Python allows you to read global variables inside a function \n",
    "without declaring them global.\n",
    "\n",
    "\n",
    "'''"
   ]
  },
  {
   "cell_type": "code",
   "execution_count": null,
   "id": "86c61aba",
   "metadata": {},
   "outputs": [
    {
     "name": "stdout",
     "output_type": "stream",
     "text": [
      "Balance: 0\n",
      "Balance: 50\n"
     ]
    }
   ],
   "source": [
    "#global\n",
    "\n",
    "balance=0\n",
    "\n",
    "def main():\n",
    "    print(\"Balance:\",balance)\n",
    "    deposit(100)\n",
    "    withdraw(50)\n",
    "    print(\"Balance:\",balance)\n",
    "\n",
    "\n",
    "def deposit(n):\n",
    "    global balance\n",
    "    balance+=n\n",
    "\n",
    "def withdraw(n):\n",
    "    global balance\n",
    "    balance-=n\n",
    "\n",
    "main()\n",
    "\n",
    "'''\n",
    "yes we solved the problem but it is not very good approach\n",
    "let's try to do it someother way\n",
    "'''"
   ]
  },
  {
   "cell_type": "code",
   "execution_count": 11,
   "id": "705baf65",
   "metadata": {},
   "outputs": [
    {
     "name": "stdout",
     "output_type": "stream",
     "text": [
      "Balance 0\n",
      "Balance 50\n"
     ]
    }
   ],
   "source": [
    "class Account:\n",
    "\n",
    "    def __init__(self):\n",
    "        self._balance=0\n",
    "\n",
    "    @property\n",
    "    def balance(self):\n",
    "        return self._balance\n",
    "    \n",
    "    def deposit(self,n):\n",
    "        self._balance+=n\n",
    "\n",
    "    def withdraw(self,n):\n",
    "        self._balance-=n\n",
    "\n",
    "\n",
    "def main():\n",
    "    account=Account()\n",
    "    print(\"Balance\",account.balance)\n",
    "    account.deposit(100)\n",
    "    account.withdraw(50)\n",
    "    print(\"Balance\",account.balance)\n",
    "\n",
    "main()"
   ]
  },
  {
   "cell_type": "code",
   "execution_count": 12,
   "id": "881e875b",
   "metadata": {},
   "outputs": [
    {
     "name": "stdout",
     "output_type": "stream",
     "text": [
      "meow!\n",
      "meow!\n",
      "meow!\n"
     ]
    }
   ],
   "source": [
    "#constant\n",
    "\n",
    "for _ in range(3):\n",
    "    print(\"meow!\")"
   ]
  },
  {
   "cell_type": "code",
   "execution_count": null,
   "id": "e0262e64",
   "metadata": {},
   "outputs": [
    {
     "name": "stdout",
     "output_type": "stream",
     "text": [
      "meow!\n",
      "meow!\n",
      "meow!\n"
     ]
    }
   ],
   "source": [
    "MEOWS=3 #constant but we can change it \n",
    "\n",
    "for _ in range(MEOWS):\n",
    "    print(\"meow!\")\n",
    "\n",
    "'''\n",
    "The problem though with Python is that Python doesn't actually make variables \n",
    "constant. It's indeed a convention in Python and some other languages to at least \n",
    "capitalize your variables when you want to indicate to the world that you should \n",
    "not touch this\n",
    "'''"
   ]
  },
  {
   "cell_type": "code",
   "execution_count": 16,
   "id": "dc82b2ba",
   "metadata": {},
   "outputs": [
    {
     "name": "stdout",
     "output_type": "stream",
     "text": [
      "meow!\n",
      "meow!\n",
      "meow!\n"
     ]
    }
   ],
   "source": [
    "class Cat:\n",
    "    MEOWS=3\n",
    "\n",
    "    def meow(self):\n",
    "        for _ in range(Cat.MEOWS):\n",
    "            print(\"meow!\")\n",
    "\n",
    "cat=Cat()\n",
    "cat.meow()"
   ]
  },
  {
   "cell_type": "code",
   "execution_count": null,
   "id": "990e4987",
   "metadata": {},
   "outputs": [
    {
     "data": {
      "text/plain": [
       "\"\\nAnd that program here is called mypy. And it's just one of several. \\nBut this one is particularly popular and can be easily installed \\nin the usual way with pip install mypy\\n\""
      ]
     },
     "execution_count": 1,
     "metadata": {},
     "output_type": "execute_result"
    }
   ],
   "source": [
    "# type hints\n",
    "\n",
    "'''\n",
    "In other languages, including C, and C++, and Java, and others, \n",
    "it's sometimes necessary for the programmer to specify what types of\n",
    "variables you want something to be. The upside of that is that it \n",
    "helps you detect bugs more readily. \n",
    "'''\n",
    "\n",
    "'''\n",
    "Because if you intend for a variable to store a string or an integer, \n",
    "but you accidentally store an integer or a string, the opposite, or something \n",
    "else altogether, your language can detect that kind of mistake for you. \n",
    "When you go, for instance, to run the program, it can say, no, you've made a mistake. \n",
    "And you can fix that before your actual users detect as much. \n",
    "'''\n",
    "\n",
    "'''\n",
    "In Python too here, it's again, more of a friendly environment where you \n",
    "can provide hints to Python itself as to what type a variable should be. \n",
    "But the language itself does not strongly enforce these. Rather, you can use \n",
    "a tool that will tell you whether or not you're using a variable correctly.\n",
    "'''\n",
    "\n",
    "'''\n",
    "And that program here is called mypy. And it's just one of several. \n",
    "But this one is particularly popular and can be easily installed \n",
    "in the usual way with pip install mypy\n",
    "\n",
    "for demo go to meows.py\n",
    "'''"
   ]
  },
  {
   "cell_type": "code",
   "execution_count": null,
   "id": "0a92c9a9",
   "metadata": {},
   "outputs": [
    {
     "name": "stdout",
     "output_type": "stream",
     "text": [
      "meow\n",
      "meow\n",
      "meow\n",
      "None\n"
     ]
    }
   ],
   "source": [
    "def meow3(n:int):\n",
    "    for _ in range(n):\n",
    "        print(\"meow\")\n",
    "\n",
    "n1:int=int(input(\"Enter another number? \"))\n",
    "\n",
    "meows:str=meow3(n1)\n",
    "print(meows)\n",
    "\n",
    "'''\n",
    "output:\n",
    "meow\n",
    "meow\n",
    "meow\n",
    "None\n",
    "\n",
    "three meows why?\n",
    "because in function we are printing\n",
    "but\n",
    "Why output is None?\n",
    "beacuse function does not written anything\n",
    "so if something is there which checks whether function returning specified data type\n",
    "then it is good we can catch error earl\n",
    "'''"
   ]
  },
  {
   "cell_type": "code",
   "execution_count": 4,
   "id": "13c3ceeb",
   "metadata": {},
   "outputs": [
    {
     "name": "stdout",
     "output_type": "stream",
     "text": [
      "meow\n",
      "meow\n",
      "meow\n"
     ]
    }
   ],
   "source": [
    "'''\n",
    "doc string\n",
    "'''\n",
    "\n",
    "# Uses Sphinx docstring format  \n",
    "def meow(n):\n",
    "    \"\"\"\n",
    "    Meow n times.\n",
    "  \n",
    "    :param n: Number of times to meow\n",
    "    :type n: int\n",
    "    :raise TypeError: If n is not an int\n",
    "    :return: A string of n meows, one per line\n",
    "    :rtype: str\n",
    "    \"\"\"\n",
    "    return \"meow\\n\" * n  \n",
    " \n",
    "number = int(input(\"Number: \"))\n",
    "meows = meow(number)\n",
    "print(meows, end=\"\")"
   ]
  },
  {
   "cell_type": "code",
   "execution_count": null,
   "id": "ef236710",
   "metadata": {},
   "outputs": [],
   "source": [
    "'''\n",
    "Suppose we want to modify this meows program to actually take its input not from the input function \n",
    "in the blinking prompt but from the command line. Recall in our discussion of libraries, that you \n",
    "could use something like sys.argv to get at command line arguments that a human has provided when \n",
    "you're running your program. So why don't we whip up a version of meow that uses command line \n",
    "arguments instead of, again, input.\n",
    "'''\n",
    "\n",
    "'''\n",
    "when controlling programs from the command line, it's very common to provide what are often called \n",
    "switches or flags, whereby you pass in something like dash n, which semantically means this number of times, \n",
    "then often a space, and then something like the number three. This still allows me to do other things \n",
    "at the command line if I want. \n",
    "'''\n",
    "\n",
    "'''\n",
    "And now, let me allow us to assume that this program eventually gets more complicated. Let's imagine a world \n",
    "where I don't want to support just dash n. Maybe I want to support dash a, and dash b, and dash c, and dash d, \n",
    "and a whole lot of others. Or heck, at that point, I should maybe give them words. So maybe it's a dash, dash, number.\n",
    "'''\n",
    "\n",
    "'''\n",
    "It's indeed a convention in computing typically to use single dashes with a single letter, like n, but use double dashes \n",
    "if you're actually using a whole word like number. So the command line argument might be dash n, or maybe it's dash, dash number. \n",
    "But you can imagine just how complicated the code gets if now you want to support dash n, dash a, dash b, dash c, and so forth. \n",
    "You're going to have to be checking all over the place.\n",
    "'''\n",
    "\n",
    "'''\n",
    "And what if they come in a different order? You're going to have to check is dash n first, or is it second, or is it third, \n",
    "or is it's fourth? I mean, this just becomes very painful very quickly just to do something relatively simple like allow the \n",
    "user to pass command line arguments into your program. \n",
    "'''\n",
    "'''\n",
    "Well, this is why, as always, there exist libraries. And another library that comes with Python that's probably worth \n",
    "knowing something about is this one here called argparse\n",
    "'''"
   ]
  },
  {
   "cell_type": "code",
   "execution_count": 6,
   "id": "cd06daf3",
   "metadata": {},
   "outputs": [
    {
     "name": "stdout",
     "output_type": "stream",
     "text": [
      "Hello,Akash\n"
     ]
    }
   ],
   "source": [
    "#unpacking\n",
    "full_name=\"Akash Mishra\"\n",
    "first,_=full_name.split(\" \")\n",
    "print(f\"Hello,{first}\")"
   ]
  },
  {
   "cell_type": "code",
   "execution_count": 7,
   "id": "577bb479",
   "metadata": {},
   "outputs": [
    {
     "name": "stdout",
     "output_type": "stream",
     "text": [
      "50775 knuts\n"
     ]
    }
   ],
   "source": [
    "def total(galleons,sickles,knuts):\n",
    "    return (galleons*17+sickles)*29+knuts\n",
    "\n",
    "print(total(100,50,25),\"knuts\")"
   ]
  },
  {
   "cell_type": "code",
   "execution_count": 8,
   "id": "7e29934e",
   "metadata": {},
   "outputs": [
    {
     "name": "stdout",
     "output_type": "stream",
     "text": [
      "50775 knuts\n"
     ]
    }
   ],
   "source": [
    "def total(galleons,sickles,knuts):\n",
    "    return (galleons*17+sickles)*29+knuts\n",
    "\n",
    "coins=[100,50,25]\n",
    "\n",
    "print(total(coins[0],coins[1],coins[2]),\"knuts\")\n"
   ]
  },
  {
   "cell_type": "code",
   "execution_count": null,
   "id": "69ba9434",
   "metadata": {},
   "outputs": [
    {
     "name": "stdout",
     "output_type": "stream",
     "text": [
      "50775 knuts\n"
     ]
    }
   ],
   "source": [
    "# unpacking list (*)\n",
    "\n",
    "def total(galleons,sickles,knuts):\n",
    "    return (galleons*17+sickles)*29+knuts\n",
    "\n",
    "coins=[100,50,25]\n",
    "\n",
    "print(total(*coins),\"knuts\")\n"
   ]
  },
  {
   "cell_type": "code",
   "execution_count": 13,
   "id": "46c6f592",
   "metadata": {},
   "outputs": [
    {
     "name": "stdout",
     "output_type": "stream",
     "text": [
      "50775 knuts\n"
     ]
    }
   ],
   "source": [
    "#named parameters\n",
    "def total(galleons,sickles,knuts):\n",
    "    return (galleons*17+sickles)*29+knuts\n",
    "\n",
    "\n",
    "print(total(galleons=100,knuts=25,sickles=50),\"knuts\")"
   ]
  },
  {
   "cell_type": "code",
   "execution_count": null,
   "id": "2b67a0b1",
   "metadata": {},
   "outputs": [
    {
     "name": "stdout",
     "output_type": "stream",
     "text": [
      "50775 knuts\n"
     ]
    }
   ],
   "source": [
    "#unpacking dcictionary (**)\n",
    "def total(galleons,sickles,knuts):\n",
    "    return (galleons*17+sickles)*29+knuts\n",
    "\n",
    "coins={\n",
    "    \"galleons\":100,\n",
    "    \"sickles\":50,\n",
    "    \"knuts\":25\n",
    "}\n",
    "\n",
    "print(total(coins['galleons'],coins['sickles'],coins['knuts']),\"knuts\")"
   ]
  },
  {
   "cell_type": "code",
   "execution_count": 17,
   "id": "071d4097",
   "metadata": {},
   "outputs": [
    {
     "name": "stdout",
     "output_type": "stream",
     "text": [
      "50775 knuts\n"
     ]
    },
    {
     "data": {
      "text/plain": [
       "'\\nAnd so, it has the similar effect to the list unpacking. But that just passed in the values, \\n100, 50, 25 separated by commas in effect. When unpacking a dictionary, it passes in the \\nkeys and the values separated conceptually with equal signs just like our function expects.\\n'"
      ]
     },
     "execution_count": 17,
     "metadata": {},
     "output_type": "execute_result"
    }
   ],
   "source": [
    "def total(galleons,sickles,knuts):\n",
    "    return (galleons*17+sickles)*29+knuts\n",
    "\n",
    "coins={\n",
    "    \"galleons\":100,\n",
    "    \"sickles\":50,\n",
    "    \"knuts\":25\n",
    "}\n",
    "\n",
    "print(total(**coins),\"knuts\")\n",
    "\n",
    "'''\n",
    "Python allows you to unpack dictionaries as well. For a dictionary, you don't use a \n",
    "single asterisk, you use two. And what this syntax has the effect of doing is passing \n",
    "in three values with names. It has the effect of passing in galleons equals 100 comma, \n",
    "sickles equals 50 comma, knuts equals 25. \n",
    "'''\n",
    "'''\n",
    "And so, it has the similar effect to the list unpacking. But that just passed in the values, \n",
    "100, 50, 25 separated by commas in effect. When unpacking a dictionary, it passes in the \n",
    "keys and the values separated conceptually with equal signs just like our function expects.\n",
    "'''"
   ]
  },
  {
   "cell_type": "code",
   "execution_count": 21,
   "id": "6876a9b2",
   "metadata": {},
   "outputs": [
    {
     "name": "stdout",
     "output_type": "stream",
     "text": [
      "Positional: (100, 50, 25)\n",
      "type of Positional: <class 'tuple'>\n",
      "Positional: (100, 50, 25, 5)\n",
      "type of Positional: <class 'tuple'>\n",
      "Positional: (100,)\n",
      "type of Positional: <class 'tuple'>\n"
     ]
    }
   ],
   "source": [
    "'''\n",
    "*args,**kwargs\n",
    "So it turns out that this single asterisks or this double asterisk is not only \n",
    "used in the context of unpacking. That same syntax is actually used as a visual \n",
    "indicator in Python when in a function itself might very well take a variable \n",
    "number of arguments. \n",
    "'''\n",
    "\n",
    "'''\n",
    "I'm going to go ahead and use this syntax here, star args (*args), which indicates \n",
    "that this function is indeed variadic. It takes some variable number of positional arguments. \n",
    "Positional in the sense that they go typically from left to right. \n",
    "But I don't know how many just yet I want to support. \n",
    "'''\n",
    "\n",
    "'''\n",
    "Suppose that I additionally want to support some number of keyword arguments, that is,\n",
    "named parameters that can be called optionally and individually by their own name. Well, \n",
    "the convention syntactically here would be to use two stars and then kwargs. I could call \n",
    "args, or kwargs, anything else that I want. \n",
    "'''\n",
    "\n",
    "def f(*args,**kwargs):\n",
    "    print(\"Positional:\",args)\n",
    "    print(\"type of Positional:\",type(args))\n",
    "\n",
    "f(100,50,25)\n",
    "f(100,50,25,5)\n",
    "f(100)"
   ]
  },
  {
   "cell_type": "code",
   "execution_count": 22,
   "id": "6402af2e",
   "metadata": {},
   "outputs": [
    {
     "name": "stdout",
     "output_type": "stream",
     "text": [
      "Named: {'galleons': 100, 'sickels': 50, 'knuts': 25}\n",
      "type of Named: <class 'dict'>\n",
      "Named: {'galleons': 100, 'sickels': 50, 'knuts': 25, 'inr': 1}\n",
      "type of Named: <class 'dict'>\n",
      "Named: {'galleons': 100}\n",
      "type of Named: <class 'dict'>\n"
     ]
    }
   ],
   "source": [
    "def f(*args,**kwargs):\n",
    "    print(\"Named:\",kwargs)\n",
    "    print(\"type of Named:\",type(kwargs))\n",
    "\n",
    "f(galleons=100,sickels=50,knuts=25)\n",
    "f(galleons=100,sickels=50,knuts=25,inr=1)\n",
    "f(galleons=100)"
   ]
  },
  {
   "cell_type": "code",
   "execution_count": null,
   "id": "816d273d",
   "metadata": {},
   "outputs": [],
   "source": [
    "# let's see the definition of print function\n",
    "\n",
    "# print(*objects,sep=' ',end=\"\\n\",file=sys.stdout,flush=False)\n",
    "# now you can think why * in object\n",
    "# means print can accept any number of posotional arguments"
   ]
  },
  {
   "cell_type": "code",
   "execution_count": null,
   "id": "08cdc541",
   "metadata": {},
   "outputs": [],
   "source": [
    "# remember positional arguments come first then named (keyword) arguments"
   ]
  },
  {
   "cell_type": "code",
   "execution_count": 23,
   "id": "d22bbac5",
   "metadata": {},
   "outputs": [
    {
     "name": "stdout",
     "output_type": "stream",
     "text": [
      "THIS IS CS50\n"
     ]
    }
   ],
   "source": [
    "#map\n",
    "\n",
    "def yell(pharse):\n",
    "    print(pharse.upper())\n",
    "\n",
    "yell(\"This is cs50\")"
   ]
  },
  {
   "cell_type": "code",
   "execution_count": 25,
   "id": "b4d87cb0",
   "metadata": {},
   "outputs": [
    {
     "name": "stdout",
     "output_type": "stream",
     "text": [
      "THISISCS50"
     ]
    }
   ],
   "source": [
    "def yell(words):\n",
    "    for word in words:\n",
    "        print(word.upper(),end=\"\")\n",
    "\n",
    "yell([\"This\",\"is\",\"CS50\"])"
   ]
  },
  {
   "cell_type": "code",
   "execution_count": 26,
   "id": "ff99bfba",
   "metadata": {},
   "outputs": [
    {
     "name": "stdout",
     "output_type": "stream",
     "text": [
      "['THIS', 'IS', 'CS50']\n"
     ]
    }
   ],
   "source": [
    "def yell(words):\n",
    "    uppercased=[]\n",
    "    for word in words:\n",
    "        uppercased.append(word.upper())\n",
    "\n",
    "    print(uppercased)\n",
    "\n",
    "yell([\"This\",\"is\",\"CS50\"])"
   ]
  },
  {
   "cell_type": "code",
   "execution_count": 27,
   "id": "e9bd3f45",
   "metadata": {},
   "outputs": [
    {
     "name": "stdout",
     "output_type": "stream",
     "text": [
      "THIS IS CS50\n"
     ]
    }
   ],
   "source": [
    "def yell(words):\n",
    "    uppercased=[]\n",
    "    for word in words:\n",
    "        uppercased.append(word.upper())\n",
    "\n",
    "    print(*uppercased)\n",
    "\n",
    "yell([\"This\",\"is\",\"CS50\"])"
   ]
  },
  {
   "cell_type": "code",
   "execution_count": 28,
   "id": "4d24efff",
   "metadata": {},
   "outputs": [
    {
     "name": "stdout",
     "output_type": "stream",
     "text": [
      "THIS IS CS50\n"
     ]
    }
   ],
   "source": [
    "def yell(*words):\n",
    "    uppercased=[]\n",
    "    for word in words:\n",
    "        uppercased.append(word.upper())\n",
    "\n",
    "    print(*uppercased)\n",
    "\n",
    "yell(\"This\",\"is\",\"CS50\")"
   ]
  },
  {
   "cell_type": "code",
   "execution_count": 56,
   "id": "d5171ed8",
   "metadata": {},
   "outputs": [
    {
     "name": "stdout",
     "output_type": "stream",
     "text": [
      "<map object at 0x000002AF7E43CA90>\n",
      "THIS IS CS50\n"
     ]
    }
   ],
   "source": [
    "#map(function,iterable,...)\n",
    "\n",
    "#my approach\n",
    "def yell(*words):\n",
    "    uppercased=map(lambda element:element.upper(),words)\n",
    "    print(uppercased) #<map object at 0x000002AF7E606EF0>\n",
    "    print(*uppercased)\n",
    "\n",
    "yell(\"This\",\"is\",\"CS50\")\n"
   ]
  },
  {
   "cell_type": "code",
   "execution_count": null,
   "id": "92e6d080",
   "metadata": {},
   "outputs": [
    {
     "name": "stdout",
     "output_type": "stream",
     "text": [
      "THIS IS CS50\n"
     ]
    },
    {
     "data": {
      "text/plain": [
       "\"\\nI'm not using parentheses, open and close, at the end of str.upper. \\nBecause I don't want to call it now. I want to pass this function to \\nthe map function, so that map can somehow add those parentheses, \\nso to speak, and call it on every one of these words.\\n\""
      ]
     },
     "execution_count": 30,
     "metadata": {},
     "output_type": "execute_result"
    }
   ],
   "source": [
    "def yell(*words):\n",
    "    uppercased=map(str.upper,words)\n",
    "    print(*uppercased)\n",
    "\n",
    "yell(\"This\",\"is\",\"CS50\")\n",
    "\n",
    "'''\n",
    "Well, what function do I want to apply to every word that's been passed in? Well, \n",
    "it turns out, thanks to my knowledge now of object-oriented programming, \n",
    "I know that in the str class there is a function called upper. \n",
    "We've usually called it by using the name of a string variable.upper open paren close paren. \n",
    "\n",
    "But if you read the documentation for the str class, you'll see that the function is \n",
    "described indeed as str.upper. I'm not using parentheses, open and close, at the end of \n",
    "str.upper. Because I don't want to call it now. I want to pass this function to the\n",
    "map function, so that map can somehow add those parentheses, so to speak, and \n",
    "call it on every one of these words.\n",
    "'''"
   ]
  },
  {
   "cell_type": "code",
   "execution_count": 31,
   "id": "21cf242d",
   "metadata": {},
   "outputs": [
    {
     "name": "stdout",
     "output_type": "stream",
     "text": [
      "THIS IS CS50\n"
     ]
    }
   ],
   "source": [
    "#list comprehensions\n",
    "\n",
    "def yell(*words):\n",
    "    uppercased=[word.upper() for word in words]\n",
    "    print(*uppercased)\n",
    "\n",
    "yell(\"This\",\"is\",\"CS50\")"
   ]
  },
  {
   "cell_type": "code",
   "execution_count": 35,
   "id": "1c058ef4",
   "metadata": {},
   "outputs": [
    {
     "name": "stdout",
     "output_type": "stream",
     "text": [
      "Harry\n",
      "Hermione\n",
      "Ron\n"
     ]
    }
   ],
   "source": [
    "students = [\n",
    "    {\"name\": \"Hermione\", \"house\": \"Gryffindor\"},\n",
    "    {\"name\": \"Harry\", \"house\": \"Gryffindor\"},\n",
    "    {\"name\": \"Ron\", \"house\": \"Gryffindor\"},\n",
    "    {\"name\": \"Draco\", \"house\": \"Slytherin\"},\n",
    "    {\"name\": \"Padma\", \"house\": \"Ravenclaw\"},\n",
    "]\n",
    "\n",
    "\n",
    "gryffindors=[\n",
    "    student['name'] for student in students if student['house']=='Gryffindor'\n",
    "]\n",
    "\n",
    "for gryffindor in sorted(gryffindors):\n",
    "    print(gryffindor)\n"
   ]
  },
  {
   "cell_type": "code",
   "execution_count": 50,
   "id": "355f00e5",
   "metadata": {},
   "outputs": [
    {
     "name": "stdout",
     "output_type": "stream",
     "text": [
      "<filter object at 0x000002AF7E607BB0>\n",
      "{'name': 'Hermione', 'house': 'Gryffindor'}\n",
      "{'name': 'Harry', 'house': 'Gryffindor'}\n",
      "{'name': 'Ron', 'house': 'Gryffindor'}\n"
     ]
    }
   ],
   "source": [
    "# filter\n",
    "# filter(function,iterable)\n",
    "\n",
    "\n",
    "students = [\n",
    "    {\"name\": \"Hermione\", \"house\": \"Gryffindor\"},\n",
    "    {\"name\": \"Harry\", \"house\": \"Gryffindor\"},\n",
    "    {\"name\": \"Ron\", \"house\": \"Gryffindor\"},\n",
    "    {\"name\": \"Draco\", \"house\": \"Slytherin\"},\n",
    "    {\"name\": \"Padma\", \"house\": \"Ravenclaw\"},\n",
    "]\n",
    "\n",
    "def is_gryffindor(student):\n",
    "    return student['house']=='Gryffindor'\n",
    "\n",
    "gryffindors=filter(is_gryffindor, students)\n",
    "\n",
    "print(gryffindors) #<filter object at 0x000002AF7E3E3D30>\n",
    "\n",
    "for gryffindor in gryffindors:\n",
    "    print(gryffindor)"
   ]
  },
  {
   "cell_type": "code",
   "execution_count": 53,
   "id": "867701cb",
   "metadata": {},
   "outputs": [
    {
     "name": "stdout",
     "output_type": "stream",
     "text": [
      "<filter object at 0x000002AF7E604EE0>\n",
      "Harry\n",
      "Hermione\n",
      "Ron\n"
     ]
    }
   ],
   "source": [
    "students = [\n",
    "    {\"name\": \"Hermione\", \"house\": \"Gryffindor\"},\n",
    "    {\"name\": \"Harry\", \"house\": \"Gryffindor\"},\n",
    "    {\"name\": \"Ron\", \"house\": \"Gryffindor\"},\n",
    "    {\"name\": \"Draco\", \"house\": \"Slytherin\"},\n",
    "    {\"name\": \"Padma\", \"house\": \"Ravenclaw\"},\n",
    "]\n",
    "\n",
    "def is_gryffindor(student):\n",
    "    return student['house']=='Gryffindor'\n",
    "\n",
    "gryffindors=filter(is_gryffindor, students)\n",
    "\n",
    "print(gryffindors) #<filter object at 0x000002AF7E3E3D30>\n",
    "\n",
    "for gryffindor1 in sorted(gryffindors, key= lambda x: x['name']):\n",
    "    print(gryffindor1['name'])"
   ]
  },
  {
   "cell_type": "code",
   "execution_count": null,
   "id": "a823d243",
   "metadata": {},
   "outputs": [
    {
     "name": "stdout",
     "output_type": "stream",
     "text": [
      "<filter object at 0x000002AF7E6073D0>\n",
      "{'name': 'Hermione', 'house': 'Gryffindor'}\n",
      "{'name': 'Harry', 'house': 'Gryffindor'}\n",
      "{'name': 'Ron', 'house': 'Gryffindor'}\n"
     ]
    }
   ],
   "source": [
    "# filter\n",
    "# filter(function,iterable)\n",
    "\n",
    "\n",
    "students = [\n",
    "    {\"name\": \"Hermione\", \"house\": \"Gryffindor\"},\n",
    "    {\"name\": \"Harry\", \"house\": \"Gryffindor\"},\n",
    "    {\"name\": \"Ron\", \"house\": \"Gryffindor\"},\n",
    "    {\"name\": \"Draco\", \"house\": \"Slytherin\"},\n",
    "    {\"name\": \"Padma\", \"house\": \"Ravenclaw\"},\n",
    "]\n",
    "\n",
    "gryffindors=filter(lambda student: student['house']=='Gryffindor', students)\n",
    "\n",
    "print(gryffindors) #<filter object at 0x000002AF7E6073D0>\n",
    "\n",
    "\n",
    "for gryffindor in gryffindors:\n",
    "    print(gryffindor)"
   ]
  },
  {
   "cell_type": "code",
   "execution_count": 58,
   "id": "68afe513",
   "metadata": {},
   "outputs": [
    {
     "name": "stdout",
     "output_type": "stream",
     "text": [
      "<map object at 0x000002AF7E604BE0>\n",
      "1\n",
      "4\n",
      "9\n",
      "16\n",
      "25\n"
     ]
    }
   ],
   "source": [
    "l1=[1,2,3,4,5]\n",
    "\n",
    "l1_sqaured=map(lambda x:x**2,l1)\n",
    "\n",
    "print(l1_sqaured)\n",
    "\n",
    "for value in l1_sqaured:\n",
    "    print(value)"
   ]
  },
  {
   "cell_type": "code",
   "execution_count": 59,
   "id": "52809b0d",
   "metadata": {},
   "outputs": [
    {
     "name": "stdout",
     "output_type": "stream",
     "text": [
      "<filter object at 0x000002AF7E5F0D90>\n",
      "2\n",
      "4\n"
     ]
    }
   ],
   "source": [
    "l2=[1,2,3,4,5]\n",
    "\n",
    "l2_even=filter(lambda x:x%2==0,l2)\n",
    "\n",
    "print(l2_even)\n",
    "\n",
    "for value in l2_even:\n",
    "    print(value)"
   ]
  },
  {
   "cell_type": "code",
   "execution_count": 61,
   "id": "407eed56",
   "metadata": {},
   "outputs": [
    {
     "name": "stdout",
     "output_type": "stream",
     "text": [
      "[{'name': 'Hermione', 'house': 'Gryffindor'}, {'name': 'Harry', 'house': 'Gryffindor'}, {'name': 'Ron', 'house': 'Gryffindor'}]\n"
     ]
    }
   ],
   "source": [
    "#dictionary comprehensions\n",
    "\n",
    "students=['Hermione','Harry','Ron']\n",
    "\n",
    "gryffindor=[]\n",
    "\n",
    "for student in students:\n",
    "    gryffindor.append({'name':student,'house':'Gryffindor'})\n",
    "\n",
    "print(gryffindor)\n"
   ]
  },
  {
   "cell_type": "code",
   "execution_count": 62,
   "id": "5e2034d4",
   "metadata": {},
   "outputs": [
    {
     "name": "stdout",
     "output_type": "stream",
     "text": [
      "[{'name': 'Hermione', 'house': 'Gryffindor'}, {'name': 'Harry', 'house': 'Gryffindor'}, {'name': 'Ron', 'house': 'Gryffindor'}]\n"
     ]
    }
   ],
   "source": [
    "#dictionary comprehensions\n",
    "\n",
    "students=['Hermione','Harry','Ron']\n",
    "\n",
    "gryffindor=[ {'name':student,'house':'Gryffindor'} for student in students ]\n",
    "\n",
    "print(gryffindor)"
   ]
  },
  {
   "cell_type": "code",
   "execution_count": 63,
   "id": "8c3bf3c0",
   "metadata": {},
   "outputs": [
    {
     "name": "stdout",
     "output_type": "stream",
     "text": [
      "{'Hermione': 'Gryffindor', 'Harry': 'Gryffindor', 'Ron': 'Gryffindor'}\n"
     ]
    }
   ],
   "source": [
    "#dictionary comprehensions\n",
    "\n",
    "students=['Hermione','Harry','Ron']\n",
    "\n",
    "gryffindor={ student:\"Gryffindor\" for student in students}\n",
    "\n",
    "print(gryffindor)"
   ]
  },
  {
   "cell_type": "code",
   "execution_count": null,
   "id": "67dbe1a3",
   "metadata": {},
   "outputs": [
    {
     "name": "stdout",
     "output_type": "stream",
     "text": [
      "1 Hermione\n",
      "2 Harry\n",
      "3 Ron\n"
     ]
    }
   ],
   "source": [
    "students=['Hermione','Harry','Ron']\n",
    "\n",
    "for i in range(len(students)):\n",
    "    print(i+1,students[i])\n",
    "\n",
    "'''\n",
    "numerate allows you to solve this kind of problem much more simply by \n",
    "iterating over some sequence but finding out not each value one at a time, \n",
    "but both the value one at a time and the index thereof. \n",
    "It gives you back two answers at once. \n",
    "'''"
   ]
  },
  {
   "cell_type": "code",
   "execution_count": 66,
   "id": "76e106e2",
   "metadata": {},
   "outputs": [
    {
     "name": "stdout",
     "output_type": "stream",
     "text": [
      "1 Hermione\n",
      "2 Harry\n",
      "3 Ron\n"
     ]
    }
   ],
   "source": [
    "students=['Hermione','Harry','Ron']\n",
    "\n",
    "for i,student in enumerate(students):\n",
    "    print(i+1,student)"
   ]
  },
  {
   "cell_type": "code",
   "execution_count": 69,
   "id": "575b5dd2",
   "metadata": {},
   "outputs": [
    {
     "name": "stdout",
     "output_type": "stream",
     "text": [
      "sheep\n",
      "sheep\n",
      "sheep\n"
     ]
    }
   ],
   "source": [
    "#generators\n",
    "#sheep.py\n",
    "\n",
    "n=int(input(\"What's n? \"))\n",
    "\n",
    "for i in range(n):\n",
    "    print(\"sheep\")"
   ]
  },
  {
   "cell_type": "code",
   "execution_count": 70,
   "id": "6f5fa34c",
   "metadata": {},
   "outputs": [
    {
     "name": "stdout",
     "output_type": "stream",
     "text": [
      "\n",
      "sheep\n",
      "sheepsheep\n",
      "sheepsheepsheep\n",
      "sheepsheepsheepsheep\n"
     ]
    }
   ],
   "source": [
    "#let's modify above things create a seprate function for sheep printing logic\n",
    "\n",
    "def main():\n",
    "    n=int(input(\"What's n? \"))\n",
    "    for i in range(n):\n",
    "        print(sheep(i))\n",
    "\n",
    "\n",
    "def sheep(n):\n",
    "    return \"sheep\"*n\n",
    "\n",
    "main()\n"
   ]
  },
  {
   "cell_type": "code",
   "execution_count": null,
   "id": "176f4414",
   "metadata": {},
   "outputs": [
    {
     "name": "stdout",
     "output_type": "stream",
     "text": [
      "\n",
      "sheep\n",
      "sheepsheep\n"
     ]
    }
   ],
   "source": [
    "def main():\n",
    "    n=int(input(\"What's n? \"))\n",
    "    for s in sheep(n):\n",
    "        print(s)\n",
    "\n",
    "\n",
    "def sheep(n):\n",
    "    flock=[]\n",
    "\n",
    "    for i in range(n):\n",
    "        flock.append(\"sheep\"*i)\n",
    "\n",
    "    return flock\n",
    "main()\n",
    "\n",
    "'''\n",
    "if we enter ten thousnad\n",
    "then it will take time but print\n",
    "but suppose we enter 10 million then what\n",
    "my sheep() function take lots of time to generate that until it will\n",
    "generate whole data it will not print the result so my program will hang up\n",
    "'''"
   ]
  },
  {
   "cell_type": "code",
   "execution_count": null,
   "id": "033a38a1",
   "metadata": {},
   "outputs": [],
   "source": [
    "#generators\n",
    "#yield\n",
    "\n",
    "def main():\n",
    "    n=int(input(\"What's n? \"))\n",
    "    for s in sheep(n):\n",
    "        print(s)\n",
    "\n",
    "\n",
    "def sheep(n):\n",
    "    for i in range(n):\n",
    "        yield \"sheep\"*i\n",
    "\n",
    "main()\n"
   ]
  }
 ],
 "metadata": {
  "kernelspec": {
   "display_name": "Python 3",
   "language": "python",
   "name": "python3"
  },
  "language_info": {
   "codemirror_mode": {
    "name": "ipython",
    "version": 3
   },
   "file_extension": ".py",
   "mimetype": "text/x-python",
   "name": "python",
   "nbconvert_exporter": "python",
   "pygments_lexer": "ipython3",
   "version": "3.13.3"
  }
 },
 "nbformat": 4,
 "nbformat_minor": 5
}
